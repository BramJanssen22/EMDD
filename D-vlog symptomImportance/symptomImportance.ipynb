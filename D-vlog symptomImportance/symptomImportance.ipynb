{
 "cells": [
  {
   "cell_type": "code",
   "execution_count": 7,
   "metadata": {},
   "outputs": [],
   "source": [
    "import pandas as pd\n",
    "from sklearn.feature_selection import SelectKBest, chi2"
   ]
  },
  {
   "cell_type": "code",
   "execution_count": 57,
   "metadata": {},
   "outputs": [
    {
     "name": "stdout",
     "output_type": "stream",
     "text": [
      "\\begin{table}\n",
      "\\caption{Kbest female symptom importance}\n",
      "\\begin{tabular}{llr}\n",
      "\\toprule\n",
      " & feature & score \\\\\n",
      "\\midrule\n",
      "0 & Depressed_Mood & 95.585639 \\\\\n",
      "1 & diminished_emotional_expression & 86.654641 \\\\\n",
      "2 & drastical_shift_in_mood_and_energy & 51.703859 \\\\\n",
      "3 & Anxious_Mood & 48.873110 \\\\\n",
      "4 & Anger_Irritability & 42.660315 \\\\\n",
      "5 & pessimism & 41.393396 \\\\\n",
      "6 & Worthlessness_and_guilty & 38.084527 \\\\\n",
      "7 & sleep_disturbance & 35.819571 \\\\\n",
      "8 & flight_of_ideas & 35.758301 \\\\\n",
      "9 & panic_fear & 35.561904 \\\\\n",
      "\\bottomrule\n",
      "\\end{tabular}\n",
      "\\end{table}\n",
      "\n"
     ]
    }
   ],
   "source": [
    "df = pd.read_json('../data/vectordata/TestspacysmVectors.json', orient='records', lines=True)\n",
    "dfm = df.loc[(df['gender'] == 'm')]\n",
    "dff = df.loc[(df['gender'] == 'f')]\n",
    "symps = [\"Anxious_Mood\",\"Autonomic_symptoms\",\"Cardiovascular_symptoms\",\"Catatonic_behavior\",\"Decreased_energy_tiredness_fatigue\",\"Depressed_Mood\",\"Gastrointestinal_symptoms\",\"Genitourinary_symptoms\",\"Hyperactivity_agitation\",\"Impulsivity\",\"Inattention\",\"Indecisiveness\",\"Respiratory_symptoms\",\"Suicidal_ideas\",\"Worthlessness_and_guilty\",\"avoidance_of_stimuli\",\"compensatory_behaviors_to_prevent_weight_gain\",\"compulsions\",\"diminished_emotional_expression\",\"do_things_easily_get_painful_consequences\",\"drastical_shift_in_mood_and_energy\",\"fear_about_social_situations\",\"fear_of_gaining_weight\",\"fears_of_being_negatively_evaluated\",\"flight_of_ideas\",\"intrusion_symptoms\",\"loss_of_interest_or_motivation\",\"more_talktive\",\"obsession\",\"panic_fear\",\"pessimism\",\"poor_memory\",\"sleep_disturbance\",\"somatic_muscle\",\"somatic_symptoms_others\",\"somatic_symptoms_sensory\",\"weight_and_appetite_change\",\"Anger_Irritability\"]\n",
    "\n",
    "selector = SelectKBest(chi2, k=10)\n",
    "selectorm = SelectKBest(chi2, k=10)\n",
    "selectorf = SelectKBest(chi2, k=10)\n",
    "\n",
    "selector.fit_transform(df[symps],df['label'])\n",
    "selectorm.fit_transform(dfm[symps],dfm['label'])\n",
    "selectorf.fit_transform(dff[symps],dff['label'])\n",
    "\n",
    "scores = selector.scores_\n",
    "scoresm = selectorm.scores_\n",
    "scoresf = selectorf.scores_\n",
    "\n",
    "totalscores = pd.DataFrame({'feature':symps,'score':scores})\n",
    "totalscoresm = pd.DataFrame({'feature':symps,'score':scoresm})\n",
    "totalscoresf = pd.DataFrame({'feature':symps,'score':scoresf})\n",
    "\n",
    "totalscores = totalscores.sort_values(by='score',ascending=False).reset_index()\n",
    "totalscoresm = totalscoresm.sort_values(by='score',ascending=False).reset_index()\n",
    "totalscoresf = totalscoresf.sort_values(by='score',ascending=False).reset_index()\n",
    "\n",
    "print(totalscoresf[['feature','score']].head(10).to_latex(index=True, caption='Kbest female symptom importance'))\n"
   ]
  }
 ],
 "metadata": {
  "kernelspec": {
   "display_name": "base",
   "language": "python",
   "name": "python3"
  },
  "language_info": {
   "codemirror_mode": {
    "name": "ipython",
    "version": 3
   },
   "file_extension": ".py",
   "mimetype": "text/x-python",
   "name": "python",
   "nbconvert_exporter": "python",
   "pygments_lexer": "ipython3",
   "version": "3.11.5"
  }
 },
 "nbformat": 4,
 "nbformat_minor": 2
}
