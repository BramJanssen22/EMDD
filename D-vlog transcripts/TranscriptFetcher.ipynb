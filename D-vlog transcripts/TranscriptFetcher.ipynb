{
  "cells": [
    {
      "cell_type": "code",
      "execution_count": null,
      "metadata": {},
      "outputs": [],
      "source": [
        "import pandas as pd\n",
        "from concurrent.futures import ThreadPoolExecutor\n",
        "from youtube_transcript_api import YouTubeTranscriptApi\n",
        "from tqdm import tqdm\n",
        "import json\n",
        "import blingfire\n",
        "import spacy"
      ]
    },
    {
      "cell_type": "markdown",
      "metadata": {},
      "source": [
        "### Transcript fetcher"
      ]
    },
    {
      "cell_type": "code",
      "execution_count": null,
      "metadata": {},
      "outputs": [],
      "source": [
        "# Load data from CSV\n",
        "data = pd.read_csv(\"data/dvlog.csv\")\n",
        "\n",
        "# Function to fetch transcript for a video key\n",
        "def fetch_transcript(key):\n",
        "    try:\n",
        "        all_text = YouTubeTranscriptApi.get_transcript(key)\n",
        "        transcript = \" \".join([text['text'] for text in all_text])\n",
        "        return key, [transcript]\n",
        "    except Exception as e:\n",
        "        return key, None\n",
        "        \n",
        "\n",
        "# Use ThreadPoolExecutor for asynchronous fetching\n",
        "with ThreadPoolExecutor(max_workers=10) as executor:\n",
        "    results = list(tqdm(executor.map(fetch_transcript, data['key']), total=len(data)))\n",
        "\n",
        "# Create a dictionary from the results\n",
        "transcript_dict = dict(results)\n",
        "\n",
        "# Add the transcripts to the DataFrame\n",
        "data['text'] = data['key'].map(transcript_dict)\n",
        "\n"
      ]
    },
    {
      "cell_type": "markdown",
      "metadata": {},
      "source": [
        "### Drop missing transcripts\n"
      ]
    },
    {
      "cell_type": "code",
      "execution_count": null,
      "metadata": {},
      "outputs": [],
      "source": [
        "postdata = data.dropna()\n",
        "\n",
        "postdata.to_json('../data/postdatalines.json',orient='records', lines=True)"
      ]
    },
    {
      "cell_type": "markdown",
      "metadata": {},
      "source": [
        "### Sentence splitting\n",
        "##### blingfire implementation"
      ]
    },
    {
      "cell_type": "code",
      "execution_count": null,
      "metadata": {},
      "outputs": [],
      "source": [
        "def process_json_file(filename):\n",
        "    with open(filename, 'r') as f:\n",
        "        data = json.load(f)\n",
        "\n",
        "    for record in data:\n",
        "        record_text = record['text']\n",
        "\n",
        "        if isinstance(record_text, list):\n",
        "            sentences = []\n",
        "            for text_item in record_text:\n",
        "                sentences.extend(cut_sentences(text_item))\n",
        "            record['sentences'] = sentences\n",
        "        else:\n",
        "            sentences = cut_sentences(record_text)\n",
        "            record['sentences'] = sentences\n",
        "\n",
        "    with open('blingfire'+filename, 'w') as f:\n",
        "        json.dump(data, f, indent=4)\n",
        "\n",
        "cut_sentences = lambda x: blingfire.text_to_sentences(x.strip()).split(\"\\n\")\n",
        "\n"
      ]
    },
    {
      "cell_type": "code",
      "execution_count": null,
      "metadata": {},
      "outputs": [],
      "source": [
        "filename = 'postdata.json'\n",
        "\n",
        "process_json_file(filename)"
      ]
    },
    {
      "cell_type": "markdown",
      "metadata": {},
      "source": [
        "##### Spacy implementation"
      ]
    },
    {
      "cell_type": "code",
      "execution_count": null,
      "metadata": {},
      "outputs": [],
      "source": [
        "small = \"en_core_web_sm\"\n",
        "large = \"en_core_web_lg\"\n",
        "trf = \"en_core_web_trf\"\n",
        "\n",
        "model = large\n",
        "\n",
        "nlp = spacy.load(model)\n",
        "\n",
        "def process_json_file(filename):\n",
        "    with open(filename, 'r') as f:\n",
        "        data = json.load(f)\n",
        "\n",
        "    for record in tqdm(data):\n",
        "        record_text = record['text']\n",
        "\n",
        "        if isinstance(record_text, list):\n",
        "            sentences = []\n",
        "            for text_item in record_text:\n",
        "                sentences.extend(process_transcript(text_item))\n",
        "            record['sentences'] = sentences\n",
        "        else:\n",
        "            sentences = process_transcript(record_text)\n",
        "            record['sentences'] = sentences\n",
        "\n",
        "    with open(model+'.json', 'w') as f:\n",
        "        json.dump(data, f, indent=4)\n",
        "\n",
        "def process_transcript(transcript):\n",
        "\n",
        "    transcript = transcript.lower().strip()\n",
        "\n",
        "    doc = nlp(transcript)\n",
        "\n",
        "    sentences = [sent.text.strip() for sent in doc.sents]\n",
        "\n",
        "    return sentences\n",
        "\n",
        "process_json_file(filename)\n"
      ]
    },
    {
      "cell_type": "code",
      "execution_count": null,
      "metadata": {},
      "outputs": [],
      "source": [
        "filename = 'postdata.json'\n",
        "\n",
        "process_json_file(filename)"
      ]
    }
  ],
  "metadata": {
    "colab": {
      "provenance": []
    },
    "kernelspec": {
      "display_name": "Python 3",
      "name": "python3"
    },
    "language_info": {
      "codemirror_mode": {
        "name": "ipython",
        "version": 3
      },
      "file_extension": ".py",
      "mimetype": "text/x-python",
      "name": "python",
      "nbconvert_exporter": "python",
      "pygments_lexer": "ipython3",
      "version": "3.9.18"
    }
  },
  "nbformat": 4,
  "nbformat_minor": 0
}
