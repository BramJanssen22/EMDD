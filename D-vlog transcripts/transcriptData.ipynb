{
  "cells": [
    {
      "cell_type": "code",
      "execution_count": 2,
      "metadata": {},
      "outputs": [],
      "source": [
        "import pandas as pd\n",
        "from concurrent.futures import ThreadPoolExecutor\n",
        "from youtube_transcript_api import YouTubeTranscriptApi\n",
        "from tqdm import tqdm\n",
        "from sklearn.model_selection import train_test_split"
      ]
    },
    {
      "cell_type": "markdown",
      "metadata": {},
      "source": [
        "### Transcript fetcher"
      ]
    },
    {
      "cell_type": "code",
      "execution_count": 3,
      "metadata": {},
      "outputs": [
        {
          "name": "stderr",
          "output_type": "stream",
          "text": [
            "100%|██████████| 961/961 [03:03<00:00,  5.23it/s]\n"
          ]
        }
      ],
      "source": [
        "# Load data from CSV\n",
        "data = pd.read_csv(\"../data/dvlog.csv\")\n",
        "\n",
        "# Function to fetch transcript for a video key\n",
        "def fetch_transcript(key):\n",
        "    try:\n",
        "        all_text = YouTubeTranscriptApi.get_transcript(key)\n",
        "        transcript = \" \".join([text['text'] for text in all_text])\n",
        "        return key, [transcript]\n",
        "    except Exception as e:\n",
        "        return key, None\n",
        "        \n",
        "\n",
        "# Use ThreadPoolExecutor for asynchronous fetching\n",
        "with ThreadPoolExecutor(max_workers=10) as executor:\n",
        "    results = list(tqdm(executor.map(fetch_transcript, data['key']), total=len(data)))\n",
        "\n",
        "# Create a dictionary from the results\n",
        "transcript_dict = dict(results)\n",
        "\n",
        "# Add the transcripts to the DataFrame\n",
        "data['text'] = data['key'].map(transcript_dict)\n",
        "\n"
      ]
    },
    {
      "cell_type": "markdown",
      "metadata": {},
      "source": [
        "### Drop missing transcripts\n"
      ]
    },
    {
      "cell_type": "code",
      "execution_count": 6,
      "metadata": {},
      "outputs": [
        {
          "data": {
            "text/plain": [
              "800"
            ]
          },
          "execution_count": 6,
          "metadata": {},
          "output_type": "execute_result"
        }
      ],
      "source": [
        "postdata = data.dropna()\n",
        "\n",
        "# postdata.to_json('../data/postdatalines.json',orient='records', lines=True)"
      ]
    },
    {
      "cell_type": "code",
      "execution_count": 10,
      "metadata": {},
      "outputs": [
        {
          "name": "stdout",
          "output_type": "stream",
          "text": [
            "797\n"
          ]
        }
      ],
      "source": [
        "postdata = pd.read_json('../data/postdatalines.json',orient='records', lines=True)\n",
        "print(len(postdata))\n",
        "train_set, test_set = train_test_split(postdata, test_size=0.5, random_state=99)\n",
        "\n",
        "train_set['split'] = 'train'\n",
        "test_set['split'] = 'test'\n",
        "\n",
        "\n",
        "full_set = pd.concat([train_set,test_set])\n",
        "\n",
        "full_set.to_json('../data/splitData/postdataLinesSplit.json', orient='records',lines=True)\n",
        "\n"
      ]
    },
    {
      "cell_type": "code",
      "execution_count": 25,
      "metadata": {},
      "outputs": [
        {
          "name": "stdout",
          "output_type": "stream",
          "text": [
            "w2vec\n",
            "797\n"
          ]
        },
        {
          "data": {
            "text/plain": [
              "split\n",
              "test     399\n",
              "train    398\n",
              "Name: count, dtype: int64"
            ]
          },
          "metadata": {},
          "output_type": "display_data"
        },
        {
          "name": "stdout",
          "output_type": "stream",
          "text": [
            "DictionaryBased\n",
            "797\n"
          ]
        },
        {
          "data": {
            "text/plain": [
              "split\n",
              "test     399\n",
              "train    398\n",
              "Name: count, dtype: int64"
            ]
          },
          "metadata": {},
          "output_type": "display_data"
        },
        {
          "name": "stdout",
          "output_type": "stream",
          "text": [
            "TFIDF500\n",
            "797\n"
          ]
        },
        {
          "data": {
            "text/plain": [
              "split\n",
              "test     399\n",
              "train    398\n",
              "Name: count, dtype: int64"
            ]
          },
          "metadata": {},
          "output_type": "display_data"
        },
        {
          "name": "stdout",
          "output_type": "stream",
          "text": [
            "TFIDFEX500\n",
            "797\n"
          ]
        },
        {
          "data": {
            "text/plain": [
              "split\n",
              "test     399\n",
              "train    398\n",
              "Name: count, dtype: int64"
            ]
          },
          "metadata": {},
          "output_type": "display_data"
        },
        {
          "name": "stdout",
          "output_type": "stream",
          "text": [
            "TFIDFIN500\n",
            "797\n"
          ]
        },
        {
          "data": {
            "text/plain": [
              "split\n",
              "test     399\n",
              "train    398\n",
              "Name: count, dtype: int64"
            ]
          },
          "metadata": {},
          "output_type": "display_data"
        },
        {
          "name": "stdout",
          "output_type": "stream",
          "text": [
            "blingfire\n",
            "797\n"
          ]
        },
        {
          "data": {
            "text/plain": [
              "split\n",
              "test     399\n",
              "train    398\n",
              "Name: count, dtype: int64"
            ]
          },
          "metadata": {},
          "output_type": "display_data"
        },
        {
          "name": "stdout",
          "output_type": "stream",
          "text": [
            "reweightedblingfire\n",
            "797\n"
          ]
        },
        {
          "data": {
            "text/plain": [
              "split\n",
              "test     399\n",
              "train    398\n",
              "Name: count, dtype: int64"
            ]
          },
          "metadata": {},
          "output_type": "display_data"
        },
        {
          "name": "stdout",
          "output_type": "stream",
          "text": [
            "nltk\n",
            "797\n"
          ]
        },
        {
          "data": {
            "text/plain": [
              "split\n",
              "test     399\n",
              "train    398\n",
              "Name: count, dtype: int64"
            ]
          },
          "metadata": {},
          "output_type": "display_data"
        },
        {
          "name": "stdout",
          "output_type": "stream",
          "text": [
            "reweightednltk\n",
            "797\n"
          ]
        },
        {
          "data": {
            "text/plain": [
              "split\n",
              "test     399\n",
              "train    398\n",
              "Name: count, dtype: int64"
            ]
          },
          "metadata": {},
          "output_type": "display_data"
        },
        {
          "name": "stdout",
          "output_type": "stream",
          "text": [
            "spacysm\n",
            "797\n"
          ]
        },
        {
          "data": {
            "text/plain": [
              "split\n",
              "test     399\n",
              "train    398\n",
              "Name: count, dtype: int64"
            ]
          },
          "metadata": {},
          "output_type": "display_data"
        },
        {
          "name": "stdout",
          "output_type": "stream",
          "text": [
            "reweightedspacysm\n",
            "797\n"
          ]
        },
        {
          "data": {
            "text/plain": [
              "split\n",
              "test     399\n",
              "train    398\n",
              "Name: count, dtype: int64"
            ]
          },
          "metadata": {},
          "output_type": "display_data"
        },
        {
          "name": "stdout",
          "output_type": "stream",
          "text": [
            "spacylg\n",
            "797\n"
          ]
        },
        {
          "data": {
            "text/plain": [
              "split\n",
              "test     399\n",
              "train    398\n",
              "Name: count, dtype: int64"
            ]
          },
          "metadata": {},
          "output_type": "display_data"
        },
        {
          "name": "stdout",
          "output_type": "stream",
          "text": [
            "reweightedspacylg\n",
            "797\n"
          ]
        },
        {
          "data": {
            "text/plain": [
              "split\n",
              "test     399\n",
              "train    398\n",
              "Name: count, dtype: int64"
            ]
          },
          "metadata": {},
          "output_type": "display_data"
        },
        {
          "name": "stdout",
          "output_type": "stream",
          "text": [
            "spacytrf\n",
            "797\n"
          ]
        },
        {
          "data": {
            "text/plain": [
              "split\n",
              "test     399\n",
              "train    398\n",
              "Name: count, dtype: int64"
            ]
          },
          "metadata": {},
          "output_type": "display_data"
        },
        {
          "name": "stdout",
          "output_type": "stream",
          "text": [
            "reweightedspacytrf\n",
            "797\n"
          ]
        },
        {
          "data": {
            "text/plain": [
              "split\n",
              "test     399\n",
              "train    398\n",
              "Name: count, dtype: int64"
            ]
          },
          "metadata": {},
          "output_type": "display_data"
        }
      ],
      "source": [
        "options = ['w2vec','DictionaryBased','TFIDF500','TFIDFEX500','TFIDFIN500','blingfire','reweightedblingfire','nltk','reweightednltk','spacysm','reweightedspacysm','spacylg','reweightedspacylg','spacytrf','reweightedspacytrf']\n",
        "\n",
        "for name in options:\n",
        "    postdata = pd.read_json(f'../data/vectorData/{name}Vectors.json',orient='records', lines=True)\n",
        "\n",
        "    train_set, test_set = train_test_split(postdata, test_size=0.5, random_state=99)\n",
        "\n",
        "\n",
        "    train_set['split'] = 'train'\n",
        "    test_set['split'] = 'test'\n",
        "\n",
        "\n",
        "    total = pd.concat([train_set,test_set])\n",
        "    print(name)\n",
        "    print(len(postdata))\n",
        "    display(total['split'].value_counts())\n",
        "    total.to_json(f'../data/vectorData/{name}Vectors.json', orient='records',lines=True)"
      ]
    }
  ],
  "metadata": {
    "colab": {
      "provenance": []
    },
    "kernelspec": {
      "display_name": "Python 3",
      "name": "python3"
    },
    "language_info": {
      "codemirror_mode": {
        "name": "ipython",
        "version": 3
      },
      "file_extension": ".py",
      "mimetype": "text/x-python",
      "name": "python",
      "nbconvert_exporter": "python",
      "pygments_lexer": "ipython3",
      "version": "3.9.18"
    }
  },
  "nbformat": 4,
  "nbformat_minor": 0
}
