{
  "cells": [
    {
      "cell_type": "code",
      "execution_count": 2,
      "metadata": {},
      "outputs": [],
      "source": [
        "import pandas as pd\n",
        "from concurrent.futures import ThreadPoolExecutor\n",
        "from youtube_transcript_api import YouTubeTranscriptApi\n",
        "from tqdm import tqdm\n",
        "from sklearn.model_selection import train_test_split"
      ]
    },
    {
      "cell_type": "markdown",
      "metadata": {},
      "source": [
        "### Transcript fetcher"
      ]
    },
    {
      "cell_type": "code",
      "execution_count": null,
      "metadata": {},
      "outputs": [],
      "source": [
        "# Load data from CSV\n",
        "data = pd.read_csv(\"../data/dvlog.csv\")\n",
        "\n",
        "# Function to fetch transcript for a video key\n",
        "def fetch_transcript(key):\n",
        "    try:\n",
        "        all_text = YouTubeTranscriptApi.get_transcript(key)\n",
        "        transcript = \" \".join([text['text'] for text in all_text])\n",
        "        return key, [transcript]\n",
        "    except Exception as e:\n",
        "        return key, None\n",
        "        \n",
        "\n",
        "# Use ThreadPoolExecutor for asynchronous fetching\n",
        "with ThreadPoolExecutor(max_workers=10) as executor:\n",
        "    results = list(tqdm(executor.map(fetch_transcript, data['key']), total=len(data)))\n",
        "\n",
        "# Create a dictionary from the results\n",
        "transcript_dict = dict(results)\n",
        "\n",
        "# Add the transcripts to the DataFrame\n",
        "data['text'] = data['key'].map(transcript_dict)\n",
        "\n"
      ]
    },
    {
      "cell_type": "markdown",
      "metadata": {},
      "source": [
        "### Drop missing transcripts\n"
      ]
    },
    {
      "cell_type": "code",
      "execution_count": null,
      "metadata": {},
      "outputs": [],
      "source": [
        "postdata = data.dropna()\n",
        "\n",
        "postdata.to_json('../data/postdatalines.json',orient='records', lines=True)"
      ]
    },
    {
      "cell_type": "code",
      "execution_count": 5,
      "metadata": {},
      "outputs": [],
      "source": [
        "postdata = pd.read_json('../data/postdatalines.json',orient='records', lines=True)\n",
        "\n",
        "train_set, testval_set = train_test_split(postdata, test_size=0.3, random_state=99)\n",
        "\n",
        "test_set, val_set = train_test_split(testval_set, test_size=0.33, random_state=99)\n",
        "\n",
        "train_set['split'] = 'train'\n",
        "test_set['split'] = 'test'\n",
        "val_set['split'] = 'val'\n",
        "\n",
        "full_set = pd.concat([train_set,test_set,val_set])\n",
        "\n",
        "full_set.to_json('../data/splitData/postdataLinesSplit.json', orient='records',lines=True)\n",
        "\n"
      ]
<<<<<<< HEAD
=======
    },
    {
      "cell_type": "code",
      "execution_count": 17,
      "metadata": {},
      "outputs": [],
      "source": [
        "# transmuting old data that I can't rerun on mbp\n",
        "\n",
        "name = 'reweightedspacyblingfire'\n",
        "postdata = pd.read_json(f'../dvlogSymp/data/postdatalinesvectorsblingfire.json',orient='records', lines=True)\n",
        "\n",
        "train_set, testval_set = train_test_split(postdata, test_size=0.3, random_state=99)\n",
        "\n",
        "test_set, val_set = train_test_split(testval_set, test_size=0.33, random_state=99)\n",
        "\n",
        "train_set['split'] = 'train'\n",
        "test_set['split'] = 'test'\n",
        "val_set['split'] = 'val'\n",
        "\n",
        "total = pd.concat([train_set,test_set,val_set])\n",
        "\n",
        "total.to_json(f'../data/vectorData/{name}Vectors.json', orient='records',lines=True)\n"
      ]
>>>>>>> 021fbf081c99b4d625b26e37a0bc0c8ed8908880
    }
  ],
  "metadata": {
    "colab": {
      "provenance": []
    },
    "kernelspec": {
      "display_name": "Python 3",
      "name": "python3"
    },
    "language_info": {
      "codemirror_mode": {
        "name": "ipython",
        "version": 3
      },
      "file_extension": ".py",
      "mimetype": "text/x-python",
      "name": "python",
      "nbconvert_exporter": "python",
      "pygments_lexer": "ipython3",
      "version": "3.11.5"
    }
  },
  "nbformat": 4,
  "nbformat_minor": 0
}
