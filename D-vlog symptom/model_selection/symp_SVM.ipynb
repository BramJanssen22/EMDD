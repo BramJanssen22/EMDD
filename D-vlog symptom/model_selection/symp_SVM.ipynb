{
 "cells": [
  {
   "cell_type": "code",
   "execution_count": 2,
   "metadata": {},
   "outputs": [],
   "source": [
    "import pandas as pd\n",
    "import numpy as np\n",
    "from sklearn.model_selection import GridSearchCV, PredefinedSplit, train_test_split\n",
    "from sklearn.preprocessing import StandardScaler\n",
    "from sklearn.pipeline import Pipeline\n",
    "from sklearn.svm import SVC\n",
    "from sklearn.metrics import classification_report, confusion_matrix, accuracy_score"
   ]
  },
  {
   "cell_type": "code",
   "execution_count": 3,
   "metadata": {},
   "outputs": [],
   "source": [
    "from sklearn.model_selection import train_test_split\n",
    "\n",
    "df = pd.read_json(\"../data/postdatalinesvectors.json\",lines=True)\n",
    "X = df[[str(i) for i in range(38)]]\n",
    "y = df['label']\n",
    "X_train, X_test, y_train, y_test = train_test_split(X,y)\n",
    "\n",
    "scaler = StandardScaler()\n",
    "\n",
    "X_train = scaler.fit_transform(X_train)\n",
    "X_test = scaler.transform(X_test)"
   ]
  },
  {
   "cell_type": "code",
   "execution_count": 4,
   "metadata": {},
   "outputs": [
    {
     "name": "stdout",
     "output_type": "stream",
     "text": [
      "Fitting 15 folds for each of 49 candidates, totalling 735 fits\n",
      "{'C': 100.0, 'gamma': 1.0, 'kernel': 'rbf'}\n",
      "              precision    recall  f1-score   support\n",
      "\n",
      "  depression       0.84      0.53      0.65       112\n",
      "      normal       0.60      0.88      0.71        89\n",
      "\n",
      "    accuracy                           0.68       201\n",
      "   macro avg       0.72      0.70      0.68       201\n",
      "weighted avg       0.73      0.68      0.68       201\n",
      "\n"
     ]
    }
   ],
   "source": [
    "param_grid = {'C': np.logspace(-3, 3, 7),  \n",
    "              'gamma': np.logspace(-3, 3, 7), \n",
    "              'kernel': ['rbf']}\n",
    "\n",
    "cv = 15 \n",
    "\n",
    "grid = GridSearchCV(SVC(random_state=0, probability=True, class_weight='balanced'), param_grid, scoring='accuracy', verbose=3, cv=cv, n_jobs=-1)\n",
    "grid.fit(X_train,y_train)\n",
    "\n",
    "print(grid.best_params_)\n",
    "\n",
    "grid_predict = grid.predict(X_test)\n",
    "\n",
    "print(classification_report(y_test, grid_predict))\n",
    "\n",
    "best_estimator = grid.best_estimator_\n",
    "best_report = classification_report(y_test, grid.predict(X_test))\n",
    "\n",
    "with open('grid_search_results.txt', 'a') as f:\n",
    "    f.write(f\"Best Estimator:\\n{best_estimator}\\n\")\n",
    "    f.write(f\"\\nClassification Report:\\n{best_report}\")\n",
    "    f.write(f\"\\nCross validation folds:{cv}\\n\")\n"
   ]
  }
 ],
 "metadata": {
  "kernelspec": {
   "display_name": "OZP-compatibility",
   "language": "python",
   "name": "python3"
  },
  "language_info": {
   "codemirror_mode": {
    "name": "ipython",
    "version": 3
   },
   "file_extension": ".py",
   "mimetype": "text/x-python",
   "name": "python",
   "nbconvert_exporter": "python",
   "pygments_lexer": "ipython3",
   "version": "3.9.18"
  }
 },
 "nbformat": 4,
 "nbformat_minor": 2
}
