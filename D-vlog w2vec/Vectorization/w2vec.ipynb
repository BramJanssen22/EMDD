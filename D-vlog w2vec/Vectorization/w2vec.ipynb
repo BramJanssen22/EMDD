{
 "cells": [
  {
   "cell_type": "code",
   "execution_count": 1,
   "metadata": {},
   "outputs": [
    {
     "name": "stderr",
     "output_type": "stream",
     "text": [
      "c:\\Users\\bramb\\anaconda3\\envs\\OZP-compatibility\\lib\\site-packages\\tqdm\\auto.py:21: TqdmWarning: IProgress not found. Please update jupyter and ipywidgets. See https://ipywidgets.readthedocs.io/en/stable/user_install.html\n",
      "  from .autonotebook import tqdm as notebook_tqdm\n"
     ]
    }
   ],
   "source": [
    "import pandas as pd\n",
    "import numpy as np\n",
    "from transformers import AutoTokenizer, AutoModel\n",
    "import gensim.downloader as api\n",
    "from gensim import models\n",
    "from gensim.models import KeyedVectors\n",
    "\n",
    "\n",
    "model = api.load(\"word2vec-google-news-300\")"
   ]
  },
  {
   "cell_type": "code",
   "execution_count": 3,
   "metadata": {},
   "outputs": [],
   "source": [
    "# Creates 300-dim W2vec features from full text data of D-vlog dataset\n",
    "\n",
    "df = pd.read_json('../../postdatalines.json',lines=True)\n",
    "\n",
    "def get_vector(text, vectors):\n",
    "    split_text = text[0].split(' ')\n",
    "\n",
    "    vector_list = []\n",
    "    for i, word in enumerate(split_text) :\n",
    "        if (word.lower() not in vectors.key_to_index) :\n",
    "            #\n",
    "            #  or (not word.isalpha())\n",
    "            continue\n",
    "        vector_list.append(vectors[word.lower()])\n",
    "    if len(vector_list) == 0:\n",
    "        return None\n",
    "    return np.average(np.asarray(vector_list), axis=0)\n",
    "\n",
    "vector_df = pd.DataFrame([get_vector(row, model) for row in df['text']])\n",
    "df = pd.concat([df, vector_df], axis=1)\n",
    "df.to_json(\"../postdatalinesvectors.json\", orient='records', lines=True)"
   ]
  }
 ],
 "metadata": {
  "kernelspec": {
   "display_name": "OZP-compatibility",
   "language": "python",
   "name": "python3"
  },
  "language_info": {
   "codemirror_mode": {
    "name": "ipython",
    "version": 3
   },
   "file_extension": ".py",
   "mimetype": "text/x-python",
   "name": "python",
   "nbconvert_exporter": "python",
   "pygments_lexer": "ipython3",
   "version": "3.9.18"
  }
 },
 "nbformat": 4,
 "nbformat_minor": 2
}
