{
 "cells": [
  {
   "cell_type": "code",
   "execution_count": 2,
   "metadata": {},
   "outputs": [],
   "source": [
    "import pandas as pd\n",
    "import numpy as np\n",
    "from sklearn.model_selection import GridSearchCV, PredefinedSplit, train_test_split\n",
    "from sklearn.preprocessing import StandardScaler\n",
    "from sklearn.pipeline import Pipeline\n",
    "from sklearn.svm import SVC\n",
    "from sklearn.metrics import classification_report, confusion_matrix"
   ]
  },
  {
   "cell_type": "code",
   "execution_count": 37,
   "metadata": {},
   "outputs": [
    {
     "name": "stdout",
     "output_type": "stream",
     "text": [
      "[[ 0.09164019 -0.14704137  0.15169696 ... -0.37143682  0.52256276\n",
      "   0.12714074]\n",
      " [-0.04951156 -0.2400059   0.33312205 ...  1.36316263 -0.48323734\n",
      "  -1.33975126]\n",
      " [-0.450122    0.5659761   1.0311193  ...  0.89700444  0.01764664\n",
      "   0.06543488]\n",
      " ...\n",
      " [ 0.82290611 -0.24662231 -1.87668249 ...  1.881843   -0.35702996\n",
      "   0.43469591]\n",
      " [ 0.19826358  0.50717011  0.05069702 ...  0.35478727 -0.02031197\n",
      "  -1.28556876]\n",
      " [-0.32697836  1.40910033 -0.34769218 ...  0.32431822  0.56313825\n",
      "  -0.78583354]]\n"
     ]
    }
   ],
   "source": [
    "# train/test set creation\n",
    "\n",
    "df = pd.read_json(\"../postdatalinesvectors.json\",orient='records',lines=True)\n",
    "X = df[[str(i) for i in range(300)]]\n",
    "y = df['label']\n",
    "X_train, X_test, y_train, y_test = train_test_split(X,y, test_size=0.5, random_state=101)\n",
    "\n",
    "scaler = StandardScaler()\n",
    "\n",
    "X_train = scaler.fit_transform(X_train)\n",
    "X_test = scaler.transform(X_test)"
   ]
  },
  {
   "cell_type": "code",
   "execution_count": 21,
   "metadata": {},
   "outputs": [
    {
     "name": "stdout",
     "output_type": "stream",
     "text": [
      "Fitting 3 folds for each of 49 candidates, totalling 147 fits\n",
      "{'C': 10.0, 'gamma': 0.001, 'kernel': 'rbf'}\n",
      "SVC(C=10.0, class_weight='balanced', gamma=0.001, probability=True,\n",
      "    random_state=0)\n",
      "              precision    recall  f1-score   support\n",
      "\n",
      "  depression       0.95      0.91      0.93       228\n",
      "      normal       0.89      0.94      0.91       173\n",
      "\n",
      "    accuracy                           0.92       401\n",
      "   macro avg       0.92      0.92      0.92       401\n",
      "weighted avg       0.92      0.92      0.92       401\n",
      "\n"
     ]
    }
   ],
   "source": [
    "# gridsearch\n",
    "\n",
    "param_grid = {'C': np.logspace(-3, 3, 7),  \n",
    "              'gamma': np.logspace(-3, 3, 7), \n",
    "              'kernel': ['rbf']}  \n",
    "cv = 3\n",
    "scoring = 'accuracy'\n",
    "\n",
    "grid = GridSearchCV(SVC(random_state=0, probability=True, class_weight='balanced'), param_grid, scoring=scoring, verbose=3, cv=cv, n_jobs=-1)\n",
    "grid.fit(X_train,y_train)\n",
    "\n",
    "print(grid.best_params_)\n",
    "print(grid.best_estimator_)\n",
    "\n",
    "grid_predict = grid.predict(X_test)\n",
    "\n",
    "print(classification_report(y_test, grid_predict))\n",
    "best_params = grid.best_params_\n",
    "best_estimator = grid.best_estimator_\n",
    "best_report = classification_report(y_test, grid.predict(X_test))\n",
    "\n",
    "with open('grid_search_results.txt', 'a') as f:\n",
    "    f.write(f\"Best Params:\\n{best_params}\\n\")\n",
    "    f.write(f\"Best Estimator:\\n{best_estimator}\\n\")\n",
    "    f.write(f\"\\nClassification Report:\\n{best_report}\")\n",
    "    f.write(f\"\\nCross validation folds:{cv}\\n\")\n",
    "    f.write(f\"\\nScoring metric:{scoring}\\n\")"
   ]
  }
 ],
 "metadata": {
  "kernelspec": {
   "display_name": "OZP-compatibility",
   "language": "python",
   "name": "python3"
  },
  "language_info": {
   "codemirror_mode": {
    "name": "ipython",
    "version": 3
   },
   "file_extension": ".py",
   "mimetype": "text/x-python",
   "name": "python",
   "nbconvert_exporter": "python",
   "pygments_lexer": "ipython3",
   "version": "3.9.18"
  }
 },
 "nbformat": 4,
 "nbformat_minor": 2
}
