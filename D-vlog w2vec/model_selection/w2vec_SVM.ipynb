{
 "cells": [
  {
   "cell_type": "code",
   "execution_count": null,
   "metadata": {},
   "outputs": [],
   "source": [
    "import pandas as pd\n",
    "import numpy as np\n",
    "from sklearn.model_selection import GridSearchCV, PredefinedSplit, train_test_split\n",
    "from sklearn.preprocessing import StandardScaler\n",
    "from sklearn.pipeline import Pipeline\n",
    "from sklearn.svm import SVC\n",
    "from sklearn.metrics import classification_report, confusion_matrix"
   ]
  },
  {
   "cell_type": "code",
   "execution_count": null,
   "metadata": {},
   "outputs": [],
   "source": [
    "# train/test set creation\n",
    "\n",
    "df = pd.read_json(\"../data/postdatalinesvectors.json\",orient='records',lines=True)\n",
    "X = df[[str(i) for i in range(300)]]\n",
    "y = df['label']\n",
    "X_train, X_test, y_train, y_test = train_test_split(X,y, test_size=0.2, random_state=101)\n",
    "\n",
    "scaler = StandardScaler()\n",
    "\n",
    "X_train = scaler.fit_transform(X_train)\n",
    "X_test = scaler.transform(X_test)"
   ]
  },
  {
   "cell_type": "code",
   "execution_count": null,
   "metadata": {},
   "outputs": [],
   "source": [
    "# gridsearch\n",
    "\n",
    "param_grid = {'C': np.logspace(-3, 3, 7),  \n",
    "              'gamma': np.logspace(-3, 3, 7), \n",
    "              'kernel': ['rbf']}  \n",
    "cv = 3\n",
    "scoring = 'accuracy'\n",
    "\n",
    "grid = GridSearchCV(SVC(random_state=0, probability=True, class_weight='balanced'), param_grid, scoring=scoring, verbose=3, cv=cv, n_jobs=-1)\n",
    "grid.fit(X_train,y_train)\n",
    "\n",
    "print(grid.best_params_)\n",
    "print(grid.best_estimator_)\n",
    "\n",
    "grid_predict = grid.predict(X_test)\n",
    "\n",
    "print(classification_report(y_test, grid_predict))\n",
    "best_params = grid.best_params_\n",
    "best_estimator = grid.best_estimator_\n",
    "best_report = classification_report(y_test, grid.predict(X_test))\n",
    "\n",
    "with open('grid_search_results.txt', 'a') as f:\n",
    "    f.write(f\"Best Params:\\n{best_params}\\n\")\n",
    "    f.write(f\"Best Estimator:\\n{best_estimator}\\n\")\n",
    "    f.write(f\"\\nClassification Report:\\n{best_report}\")\n",
    "    f.write(f\"\\nCross validation folds:{cv}\\n\")\n",
    "    f.write(f\"\\nScoring metric:{scoring}\\n\")"
   ]
  }
 ],
 "metadata": {
  "kernelspec": {
   "display_name": "OZP-compatibility",
   "language": "python",
   "name": "python3"
  },
  "language_info": {
   "codemirror_mode": {
    "name": "ipython",
    "version": 3
   },
   "file_extension": ".py",
   "mimetype": "text/x-python",
   "name": "python",
   "nbconvert_exporter": "python",
   "pygments_lexer": "ipython3",
   "version": "3.11.5"
  }
 },
 "nbformat": 4,
 "nbformat_minor": 2
}
