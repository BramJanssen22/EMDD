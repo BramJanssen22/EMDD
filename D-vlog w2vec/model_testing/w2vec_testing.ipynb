{
 "cells": [
  {
   "cell_type": "code",
   "execution_count": 2,
   "metadata": {},
   "outputs": [],
   "source": [
    "import pandas as pd\n",
    "import numpy as np\n",
    "from sklearn.model_selection import GridSearchCV, PredefinedSplit, train_test_split\n",
    "from sklearn.preprocessing import StandardScaler\n",
    "from sklearn.pipeline import Pipeline\n",
    "from sklearn.svm import SVC\n",
    "from sklearn.metrics import classification_report, confusion_matrix"
   ]
  },
  {
   "cell_type": "code",
   "execution_count": 3,
   "metadata": {},
   "outputs": [],
   "source": [
    "# train/test set creation\n",
    "\n",
    "df = pd.read_json(\"../data/postdatalinesvectors.json\",orient='records',lines=True)\n",
    "X = df[[str(i) for i in range(300)]]\n",
    "y = df['label']\n",
    "X_train, X_test, y_train, y_test = train_test_split(X,y, test_size=0.2, random_state=101)\n",
    "\n",
    "scaler = StandardScaler()\n",
    "\n",
    "X_train = scaler.fit_transform(X_train)\n",
    "X_test = scaler.transform(X_test)"
   ]
  },
  {
   "cell_type": "code",
   "execution_count": 6,
   "metadata": {},
   "outputs": [
    {
     "name": "stdout",
     "output_type": "stream",
     "text": [
      "              precision    recall  f1-score   support\n",
      "\n",
      "  depression       0.95      0.90      0.93        90\n",
      "      normal       0.88      0.94      0.91        71\n",
      "\n",
      "    accuracy                           0.92       161\n",
      "   macro avg       0.92      0.92      0.92       161\n",
      "weighted avg       0.92      0.92      0.92       161\n",
      "\n"
     ]
    },
    {
     "data": {
      "image/png": "[encoded data removed]",
      "text/plain": [
       "<Figure size 640x480 with 2 Axes>"
      ]
     },
     "metadata": {},
     "output_type": "display_data"
    }
   ],
   "source": [
    "from sklearn.metrics import roc_auc_score\n",
    "from sklearn.metrics import confusion_matrix, ConfusionMatrixDisplay\n",
    "import matplotlib.pyplot as plt\n",
    "\n",
    "model = SVC(random_state=0, probability=True, class_weight='balanced', C=1, gamma=0.001, kernel='rbf')\n",
    "model.fit(X_train,y_train)\n",
    "model_pred = model.predict(X_test)\n",
    "print(classification_report(y_test, model_pred))\n",
    "# print(roc_auc_score(y_test,model_pred))\n",
    "\n",
    "# my_list = (list(zip(model_pred,list(y_test))))\n",
    "\n",
    "# truepos = 0\n",
    "# falseneg = 0\n",
    "# trueneg = 0\n",
    "# falsepos = 0\n",
    "# total = 0\n",
    "\n",
    "# for i in range(len(my_list)):\n",
    "#     if my_list[i][0] == 'depression':\n",
    "#         if my_list[i][0] == my_list[i][1]:\n",
    "#             truepos += 1\n",
    "#         else:\n",
    "#             falseneg += 1\n",
    "#     if my_list[i][0] == 'normal':\n",
    "#         if my_list[i][0] == my_list[i][1]:\n",
    "#             trueneg += 1\n",
    "#         else:\n",
    "#             falsepos += 1\n",
    "#     total += 1\n",
    "\n",
    "# print(f'truepositives: {truepos}    falsepostives: {falsepos}\\n falsenegatvives: {falseneg}     truenegatives: {trueneg}\\n total: {total}')\n",
    "\n",
    "confusionmatrix = confusion_matrix(y_test,model_pred)\n",
    "cm_display = ConfusionMatrixDisplay(confusion_matrix = confusionmatrix, display_labels = [False, True]) \n",
    "cm_display.plot()\n",
    "plt.show()  \n"
   ]
  }
 ],
 "metadata": {
  "kernelspec": {
   "display_name": "OZP-compatibility",
   "language": "python",
   "name": "python3"
  },
  "language_info": {
   "codemirror_mode": {
    "name": "ipython",
    "version": 3
   },
   "file_extension": ".py",
   "mimetype": "text/x-python",
   "name": "python",
   "nbconvert_exporter": "python",
   "pygments_lexer": "ipython3",
   "version": "3.9.18"
  }
 },
 "nbformat": 4,
 "nbformat_minor": 2
}
