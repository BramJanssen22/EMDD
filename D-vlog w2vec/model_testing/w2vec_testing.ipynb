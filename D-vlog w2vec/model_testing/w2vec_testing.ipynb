{
 "cells": [
  {
   "cell_type": "code",
   "execution_count": 1,
   "metadata": {},
   "outputs": [],
   "source": [
    "import pandas as pd\n",
    "import numpy as np\n",
    "from sklearn.model_selection import GridSearchCV, PredefinedSplit, train_test_split\n",
    "from sklearn.preprocessing import StandardScaler\n",
    "from sklearn.pipeline import Pipeline\n",
    "from sklearn.svm import SVC\n",
    "from sklearn.metrics import classification_report, confusion_matrix, accuracy_score\n"
   ]
  },
  {
   "cell_type": "code",
   "execution_count": 2,
   "metadata": {},
   "outputs": [],
   "source": [
    "# train/test set creation\n",
    "\n",
    "df = pd.read_json(\"../data/postdatalinesvectors.json\",orient='records',lines=True)\n",
    "X = df[[str(i) for i in range(300)]]\n",
    "y = df['label']\n",
    "X_train, X_test, y_train, y_test = train_test_split(X,y, test_size=0.2, random_state=101)\n",
    "scaler = StandardScaler()\n",
    "\n",
    "X_train = scaler.fit_transform(X_train)\n",
    "X_test = scaler.transform(X_test)"
   ]
  },
  {
   "cell_type": "code",
   "execution_count": 3,
   "metadata": {},
   "outputs": [],
   "source": [
    "# male/female train/test set creation\n",
    "\n",
    "df = pd.read_json(\"../data/postdatalinesvectors.json\",orient='records',lines=True)\n",
    "\n",
    "df_male = df[df['gender'] == 'm']\n",
    "df_female = df[df['gender'] == 'f']\n",
    "\n",
    "# create male split\n",
    "Xm = df_male[[str(i) for i in range(300)]]\n",
    "ym = df_male['label']\n",
    "X_trainm, X_testm, y_trainm, y_testm = train_test_split(Xm,ym, test_size=0.2, random_state=101)\n",
    "# create female split\n",
    "Xf = df_female[[str(i) for i in range(300)]]\n",
    "yf = df_female['label']\n",
    "X_trainf, X_testf, y_trainf, y_testf = train_test_split(Xf,yf, test_size=0.2, random_state=101)\n",
    "# combine splits\n",
    "X_train = pd.concat([X_trainm,X_trainf])\n",
    "y_train = pd.concat([y_trainm,y_trainf])\n",
    "\n",
    "X_test = pd.concat([X_testm,X_testf])\n",
    "y_test = pd.concat([y_testm,y_testf])\n",
    "\n",
    "# Scaling for SVM\n",
    "scaler = StandardScaler()\n",
    "\n",
    "X_train = scaler.fit_transform(X_train)\n",
    "X_trainm = scaler.fit_transform(X_trainm)\n",
    "X_trainf = scaler.fit_transform(X_trainf)\n",
    "\n",
    "X_test = scaler.transform(X_test)\n",
    "X_testm = scaler.transform(X_testm)\n",
    "X_testf = scaler.transform(X_testf)"
   ]
  },
  {
   "cell_type": "code",
   "execution_count": 4,
   "metadata": {},
   "outputs": [],
   "source": [
    "from sklearn.metrics import confusion_matrix, ConfusionMatrixDisplay\n",
    "import matplotlib.pyplot as plt\n",
    "\n",
    "model = SVC(random_state=0, probability=True, class_weight='balanced', C=1, gamma=0.001, kernel='rbf')\n",
    "model.fit(X_train,y_train)\n",
    "\n",
    "\n",
    "def prediction_measures(y_test,X_test,confusion=False):\n",
    "    model_pred = model.predict(X_test)\n",
    "    performance = classification_report(y_test, model_pred,output_dict=True)\n",
    "    # display confusion matrix\n",
    "    if confusion == True:\n",
    "        confusionmatrix = confusion_matrix(y_test,model_pred)\n",
    "        cm_display = ConfusionMatrixDisplay(confusion_matrix = confusionmatrix, display_labels = [False, True]) \n",
    "        cm_display.plot()\n",
    "        plt.show()\n",
    "    return performance['depression'],performance['normal'],performance['accuracy']\n"
   ]
  },
  {
   "cell_type": "markdown",
   "metadata": {},
   "source": [
    "### Full set"
   ]
  },
  {
   "cell_type": "code",
   "execution_count": 5,
   "metadata": {},
   "outputs": [
    {
     "data": {
      "text/plain": [
       "({'precision': 0.9367088607594937,\n",
       "  'recall': 0.8809523809523809,\n",
       "  'f1-score': 0.9079754601226993,\n",
       "  'support': 84.0},\n",
       " {'precision': 0.8780487804878049,\n",
       "  'recall': 0.935064935064935,\n",
       "  'f1-score': 0.9056603773584906,\n",
       "  'support': 77.0},\n",
       " 0.906832298136646)"
      ]
     },
     "execution_count": 5,
     "metadata": {},
     "output_type": "execute_result"
    }
   ],
   "source": [
    "prediction_measures(y_test,X_test)"
   ]
  },
  {
   "cell_type": "markdown",
   "metadata": {},
   "source": [
    "### Male set"
   ]
  },
  {
   "cell_type": "code",
   "execution_count": 6,
   "metadata": {},
   "outputs": [
    {
     "data": {
      "text/plain": [
       "({'precision': 0.9615384615384616,\n",
       "  'recall': 0.9259259259259259,\n",
       "  'f1-score': 0.9433962264150944,\n",
       "  'support': 27.0},\n",
       " {'precision': 0.9285714285714286,\n",
       "  'recall': 0.9629629629629629,\n",
       "  'f1-score': 0.9454545454545454,\n",
       "  'support': 27.0},\n",
       " 0.9444444444444444)"
      ]
     },
     "execution_count": 6,
     "metadata": {},
     "output_type": "execute_result"
    }
   ],
   "source": [
    "# Performance measures male\n",
    "prediction_measures(y_testm,X_testm)"
   ]
  },
  {
   "cell_type": "markdown",
   "metadata": {},
   "source": [
    "### Female set"
   ]
  },
  {
   "cell_type": "code",
   "execution_count": 7,
   "metadata": {},
   "outputs": [
    {
     "data": {
      "text/plain": [
       "({'precision': 0.9245283018867925,\n",
       "  'recall': 0.8596491228070176,\n",
       "  'f1-score': 0.8909090909090909,\n",
       "  'support': 57.0},\n",
       " {'precision': 0.8518518518518519,\n",
       "  'recall': 0.92,\n",
       "  'f1-score': 0.8846153846153846,\n",
       "  'support': 50.0},\n",
       " 0.8878504672897196)"
      ]
     },
     "execution_count": 7,
     "metadata": {},
     "output_type": "execute_result"
    }
   ],
   "source": [
    "# Performance measures female\n",
    "prediction_measures(y_testf,X_testf)"
   ]
  },
  {
   "cell_type": "markdown",
   "metadata": {},
   "source": [
    "### Statistical parity"
   ]
  },
  {
   "cell_type": "code",
   "execution_count": 8,
   "metadata": {},
   "outputs": [
    {
     "data": {
      "text/plain": [
       "1.0287562904385334"
      ]
     },
     "execution_count": 8,
     "metadata": {},
     "output_type": "execute_result"
    }
   ],
   "source": [
    "# predictions\n",
    "pred_male = model.predict(X_testm)\n",
    "pred_female = model.predict(X_testf)\n",
    "\n",
    "def percentage_depression(pred):\n",
    "    return np.sum(pred == 'depression') / len(pred)\n",
    "\n",
    "def statistical_parity(predsensitive,predother):\n",
    "    return percentage_depression(predsensitive)/percentage_depression(predother)\n",
    "\n",
    "statistical_parity(pred_female,pred_male)"
   ]
  },
  {
   "cell_type": "markdown",
   "metadata": {},
   "source": [
    "### Equal opportunity"
   ]
  },
  {
   "cell_type": "code",
   "execution_count": 9,
   "metadata": {},
   "outputs": [
    {
     "data": {
      "text/plain": [
       "1.0522105263157897"
      ]
     },
     "execution_count": 9,
     "metadata": {},
     "output_type": "execute_result"
    }
   ],
   "source": [
    "# predictions\n",
    "pred_male = model.predict(X_testm)\n",
    "pred_female = model.predict(X_testf)\n",
    "\n",
    "def true_positives(pred, true):\n",
    "    return np.sum((pred == 'depression') & (true == \"depression\"))\n",
    "\n",
    "def true_negatives(pred, true):\n",
    "    return np.sum((pred == 'normal') & (true == \"normal\"))\n",
    "\n",
    "def true_positive_rate(pred, true):\n",
    "    return true_positives(pred,true)/(true_positives(pred,true)+true_negatives(pred,true))\n",
    "\n",
    "def equal_opportunity(predsensitive, truesensitve, predother, trueother):\n",
    "    return true_positive_rate(predsensitive,truesensitve)/true_positive_rate(predother,trueother)\n",
    "\n",
    "\n",
    "\n",
    "\n",
    "equal_opportunity(pred_female,y_testf,pred_male,y_testm)\n",
    "\n"
   ]
  },
  {
   "cell_type": "markdown",
   "metadata": {},
   "source": [
    "## Equalised odds"
   ]
  },
  {
   "cell_type": "code",
   "execution_count": 10,
   "metadata": {},
   "outputs": [
    {
     "data": {
      "text/plain": [
       "1.0262656216903199"
      ]
     },
     "execution_count": 10,
     "metadata": {},
     "output_type": "execute_result"
    }
   ],
   "source": [
    "# predictions\n",
    "pred_male = model.predict(X_testm)\n",
    "pred_female = model.predict(X_testf)\n",
    "\n",
    "def true_negative_rate(pred, true):\n",
    "    return true_negatives(pred,true)/(true_positives(pred,true)+true_negatives(pred,true))\n",
    "\n",
    "def equalised_odds(predsensitive, truesensitve, predother, trueother):\n",
    "    return (true_positive_rate(predsensitive,truesensitve)+true_negative_rate(predsensitive,truesensitve))/(true_positive_rate(predother,trueother)+true_negative_rate(predsensitive,truesensitve))\n",
    "\n",
    "equalised_odds(pred_female,y_testf,pred_male,y_testm)"
   ]
  },
  {
   "cell_type": "markdown",
   "metadata": {},
   "source": [
    "## Equal accuracy"
   ]
  },
  {
   "cell_type": "code",
   "execution_count": 11,
   "metadata": {},
   "outputs": [
    {
     "data": {
      "text/plain": [
       "0.9400769653655855"
      ]
     },
     "execution_count": 11,
     "metadata": {},
     "output_type": "execute_result"
    }
   ],
   "source": [
    "# predictions\n",
    "pred_male = model.predict(X_testm)\n",
    "pred_female = model.predict(X_testf)\n",
    "\n",
    "def equal_accuracy(predsensitive, truesensitve, predother, trueother):\n",
    "    return accuracy_score(predsensitive,truesensitve)/accuracy_score(predother,trueother)\n",
    "\n",
    "equal_accuracy(pred_female,y_testf,pred_male,y_testm)"
   ]
  },
  {
   "cell_type": "markdown",
   "metadata": {},
   "source": [
    "### Performance measurement functions"
   ]
  },
  {
   "cell_type": "code",
   "execution_count": 49,
   "metadata": {},
   "outputs": [],
   "source": [
    "# Performance measures\n",
    "\n",
    "def prediction_measures(y_test,y_pred,confusion=False):\n",
    "    performance = classification_report(y_test,y_pred,output_dict=True)\n",
    "    # display confusion matrix\n",
    "    if confusion == True:\n",
    "        confusionmatrix = confusion_matrix(y_test,y_pred)\n",
    "        cm_display = ConfusionMatrixDisplay(confusion_matrix = confusionmatrix, display_labels = [False, True]) \n",
    "        cm_display.plot()\n",
    "        plt.show()\n",
    "    return performance['depression'],performance['normal'],performance['accuracy']\n",
    "\n",
    "# Support measures\n",
    "\n",
    "def percentage_depression(pred):\n",
    "    return np.sum(pred == 'depression') / len(pred)\n",
    "\n",
    "def true_positives(pred, true):\n",
    "    return np.sum((pred == 'depression') & (true == \"depression\"))\n",
    "\n",
    "def true_negatives(pred, true):\n",
    "    return np.sum((pred == 'normal') & (true == \"normal\"))\n",
    "\n",
    "def true_positive_rate(pred, true):\n",
    "    return true_positives(pred,true)/(true_positives(pred,true)+true_negatives(pred,true))\n",
    "\n",
    "def true_negative_rate(pred, true):\n",
    "    return true_negatives(pred,true)/(true_positives(pred,true)+true_negatives(pred,true))\n",
    "\n",
    "# Complete measures\n",
    "\n",
    "def statistical_parity(predsensitive,predother):\n",
    "    return percentage_depression(predsensitive)/percentage_depression(predother)\n",
    "\n",
    "def equal_opportunity(predsensitive, truesensitive, predother, trueother):\n",
    "    return true_positive_rate(predsensitive,truesensitive)/true_positive_rate(predother,trueother)\n",
    "\n",
    "def equalised_odds(predsensitive, truesensitive, predother, trueother):\n",
    "    return (true_positive_rate(predsensitive,truesensitive)+true_negative_rate(predsensitive,truesensitive))/(true_positive_rate(predother,trueother)+true_negative_rate(predsensitive,truesensitive))\n",
    "\n",
    "def equal_accuracy(predsensitive, truesensitive, predother, trueother):\n",
    "    return accuracy_score(predsensitive,truesensitive)/accuracy_score(predother,trueother)\n",
    "\n",
    "# All measurements\n",
    "\n",
    "def all_measures(predsensitive, truesensitive, predother, trueother, name='test',single=False):\n",
    "    score_dict = {}\n",
    "    score_dict['test'] = name\n",
    "    depression_performance, normal_performance ,accuracy = prediction_measures(predsensitive,truesensitive)\n",
    "    score_dict['depression0precision'] = depression_performance['precision']\n",
    "    score_dict['depression0recall'] = depression_performance['recall']\n",
    "    score_dict['depression0f1'] = depression_performance['f1-score']\n",
    "    score_dict['depression0support'] = depression_performance['support']\n",
    "    score_dict['normal0precision'] = normal_performance['precision']\n",
    "    score_dict['normal0recall'] = normal_performance['recall']\n",
    "    score_dict['normal0f1'] = normal_performance['f1-score']\n",
    "    score_dict['normal0support'] = normal_performance['support']\n",
    "    score_dict['accuracy0'] = accuracy\n",
    "    if single == False:\n",
    "        depression_performance, normal_performance ,accuracy = prediction_measures(predother,trueother)\n",
    "        score_dict['depression1precision'] = depression_performance['precision']\n",
    "        score_dict['depression1recall'] = depression_performance['recall']\n",
    "        score_dict['depression1f1'] = depression_performance['f1-score']\n",
    "        score_dict['depression1support'] = depression_performance['support']\n",
    "        score_dict['normal1precision'] = normal_performance['precision']\n",
    "        score_dict['normal1recall'] = normal_performance['recall']\n",
    "        score_dict['normal1f1'] = normal_performance['f1-score']\n",
    "        score_dict['normal1support'] = normal_performance['recall']\n",
    "        score_dict['accuracy1'] = accuracy\n",
    "        score_dict['statisticalParity01'] = statistical_parity(predsensitive,predother)\n",
    "        score_dict['equalOpportunity01'] = equal_opportunity(predsensitive, truesensitive, predother, trueother)\n",
    "        score_dict['equalisedOdds'] = equalised_odds(predsensitive, truesensitive, predother, trueother)\n",
    "        score_dict['equalAccuracy'] = equal_accuracy(predsensitive, truesensitive, predother, trueother)\n",
    "    return score_dict"
   ]
  },
  {
   "cell_type": "code",
   "execution_count": 52,
   "metadata": {},
   "outputs": [
    {
     "data": {
      "text/html": [
       "<div>\n",
       "<style scoped>\n",
       "    .dataframe tbody tr th:only-of-type {\n",
       "        vertical-align: middle;\n",
       "    }\n",
       "\n",
       "    .dataframe tbody tr th {\n",
       "        vertical-align: top;\n",
       "    }\n",
       "\n",
       "    .dataframe thead th {\n",
       "        text-align: right;\n",
       "    }\n",
       "</style>\n",
       "<table border=\"1\" class=\"dataframe\">\n",
       "  <thead>\n",
       "    <tr style=\"text-align: right;\">\n",
       "      <th></th>\n",
       "      <th>test</th>\n",
       "      <th>depression0precision</th>\n",
       "      <th>depression0recall</th>\n",
       "      <th>depression0f1</th>\n",
       "      <th>depression0support</th>\n",
       "      <th>normal0precision</th>\n",
       "      <th>normal0recall</th>\n",
       "      <th>normal0f1</th>\n",
       "      <th>normal0support</th>\n",
       "      <th>accuracy0</th>\n",
       "      <th>...</th>\n",
       "      <th>depression1support</th>\n",
       "      <th>normal1precision</th>\n",
       "      <th>normal1recall</th>\n",
       "      <th>normal1f1</th>\n",
       "      <th>normal1support</th>\n",
       "      <th>accuracy1</th>\n",
       "      <th>statisticalParity01</th>\n",
       "      <th>equalOpportunity01</th>\n",
       "      <th>equalisedOdds</th>\n",
       "      <th>equalAccuracy</th>\n",
       "    </tr>\n",
       "  </thead>\n",
       "  <tbody>\n",
       "    <tr>\n",
       "      <th>0</th>\n",
       "      <td>test</td>\n",
       "      <td>0.859649</td>\n",
       "      <td>0.924528</td>\n",
       "      <td>0.890909</td>\n",
       "      <td>53.0</td>\n",
       "      <td>0.92</td>\n",
       "      <td>0.851852</td>\n",
       "      <td>0.884615</td>\n",
       "      <td>54.0</td>\n",
       "      <td>0.88785</td>\n",
       "      <td>...</td>\n",
       "      <td>26.0</td>\n",
       "      <td>0.962963</td>\n",
       "      <td>0.928571</td>\n",
       "      <td>0.945455</td>\n",
       "      <td>0.928571</td>\n",
       "      <td>0.944444</td>\n",
       "      <td>1.028756</td>\n",
       "      <td>1.052211</td>\n",
       "      <td>1.026266</td>\n",
       "      <td>0.940077</td>\n",
       "    </tr>\n",
       "  </tbody>\n",
       "</table>\n",
       "<p>1 rows × 23 columns</p>\n",
       "</div>"
      ],
      "text/plain": [
       "   test  depression0precision  depression0recall  depression0f1  \\\n",
       "0  test              0.859649           0.924528       0.890909   \n",
       "\n",
       "   depression0support  normal0precision  normal0recall  normal0f1  \\\n",
       "0                53.0              0.92       0.851852   0.884615   \n",
       "\n",
       "   normal0support  accuracy0  ...  depression1support  normal1precision  \\\n",
       "0            54.0    0.88785  ...                26.0          0.962963   \n",
       "\n",
       "   normal1recall  normal1f1  normal1support  accuracy1  statisticalParity01  \\\n",
       "0       0.928571   0.945455        0.928571   0.944444             1.028756   \n",
       "\n",
       "   equalOpportunity01  equalisedOdds  equalAccuracy  \n",
       "0            1.052211       1.026266       0.940077  \n",
       "\n",
       "[1 rows x 23 columns]"
      ]
     },
     "execution_count": 52,
     "metadata": {},
     "output_type": "execute_result"
    }
   ],
   "source": [
    "df = pd.DataFrame(all_measures(pred_female,y_testf,pred_male,y_testm),index=[0])\n",
    "\n",
    "df"
   ]
  }
 ],
 "metadata": {
  "kernelspec": {
   "display_name": "OZP-compatibility",
   "language": "python",
   "name": "python3"
  },
  "language_info": {
   "codemirror_mode": {
    "name": "ipython",
    "version": 3
   },
   "file_extension": ".py",
   "mimetype": "text/x-python",
   "name": "python",
   "nbconvert_exporter": "python",
   "pygments_lexer": "ipython3",
   "version": "3.9.18"
  }
 },
 "nbformat": 4,
 "nbformat_minor": 2
}
