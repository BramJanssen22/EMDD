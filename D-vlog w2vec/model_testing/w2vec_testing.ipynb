{
 "cells": [
  {
   "cell_type": "code",
   "execution_count": null,
   "metadata": {},
   "outputs": [],
   "source": [
    "import pandas as pd\n",
    "import numpy as np\n",
    "from sklearn.model_selection import GridSearchCV, PredefinedSplit, train_test_split\n",
    "from sklearn.preprocessing import StandardScaler\n",
    "from sklearn.pipeline import Pipeline\n",
    "from sklearn.svm import SVC\n",
    "from sklearn.metrics import classification_report, confusion_matrix\n"
   ]
  },
  {
   "cell_type": "code",
   "execution_count": null,
   "metadata": {},
   "outputs": [],
   "source": [
    "# train/test set creation\n",
    "\n",
    "df = pd.read_json(\"../data/postdatalinesvectors.json\",orient='records',lines=True)\n",
    "X = df[[str(i) for i in range(300)]]\n",
    "y = df['label']\n",
    "X_train, X_test, y_train, y_test = train_test_split(X,y, test_size=0.2, random_state=101)\n",
    "scaler = StandardScaler()\n",
    "\n",
    "X_train = scaler.fit_transform(X_train)\n",
    "X_test = scaler.transform(X_test)"
   ]
  },
  {
   "cell_type": "code",
   "execution_count": null,
   "metadata": {},
   "outputs": [],
   "source": [
    "# male/female train/test set creation\n",
    "\n",
    "df = pd.read_json(\"../data/postdatalinesvectors.json\",orient='records',lines=True)\n",
    "\n",
    "df_male = df[df['gender'] == 'm']\n",
    "df_female = df[df['gender'] == 'f']\n",
    "\n",
    "# create male split\n",
    "Xm = df_male[[str(i) for i in range(300)]]\n",
    "ym = df_male['label']\n",
    "X_trainm, X_testm, y_trainm, y_testm = train_test_split(Xm,ym, test_size=0.2, random_state=101)\n",
    "# create female split\n",
    "Xf = df_female[[str(i) for i in range(300)]]\n",
    "yf = df_female['label']\n",
    "X_trainf, X_testf, y_trainf, y_testf = train_test_split(Xf,yf, test_size=0.2, random_state=101)\n",
    "# combine splits\n",
    "X_train = pd.concat([X_trainm,X_trainf])\n",
    "y_train = pd.concat([y_trainm,y_trainf])\n",
    "\n",
    "X_test = pd.concat([X_testm,X_testf])\n",
    "y_test = pd.concat([y_testm,y_testf])\n",
    "\n",
    "# Scaling for SVM\n",
    "scaler = StandardScaler()\n",
    "\n",
    "X_train = scaler.fit_transform(X_train)\n",
    "X_trainm = scaler.fit_transform(X_trainm)\n",
    "X_trainf = scaler.fit_transform(X_trainf)\n",
    "\n",
    "X_test = scaler.transform(X_test)\n",
    "X_testm = scaler.transform(X_testm)\n",
    "X_testf = scaler.transform(X_testf)"
   ]
  },
  {
   "cell_type": "code",
   "execution_count": null,
   "metadata": {},
   "outputs": [],
   "source": [
    "from sklearn.metrics import roc_auc_score\n",
    "from sklearn.metrics import confusion_matrix, ConfusionMatrixDisplay\n",
    "import matplotlib.pyplot as plt\n",
    "\n",
    "model = SVC(random_state=0, probability=True, class_weight='balanced', C=1, gamma=0.001, kernel='rbf')\n",
    "model.fit(X_train,y_train)\n",
    "\n",
    "\n",
    "def prediction_measures(y_test,X_test):\n",
    "    model_pred = model.predict(X_test)\n",
    "    print(classification_report(y_test, model_pred))\n",
    "    confusionmatrix = confusion_matrix(y_test,model_pred)\n",
    "    # display confusion matrix\n",
    "    cm_display = ConfusionMatrixDisplay(confusion_matrix = confusionmatrix, display_labels = [False, True]) \n",
    "    cm_display.plot()\n",
    "    plt.show()  \n"
   ]
  },
  {
   "cell_type": "markdown",
   "metadata": {},
   "source": [
    "### Full set"
   ]
  },
  {
   "cell_type": "code",
   "execution_count": null,
   "metadata": {},
   "outputs": [],
   "source": [
    "prediction_measures(y_test,X_test)"
   ]
  },
  {
   "cell_type": "markdown",
   "metadata": {},
   "source": [
    "### Male set"
   ]
  },
  {
   "cell_type": "code",
   "execution_count": null,
   "metadata": {},
   "outputs": [],
   "source": [
    "# Performance measures male\n",
    "prediction_measures(y_testm,X_testm)"
   ]
  },
  {
   "cell_type": "markdown",
   "metadata": {},
   "source": [
    "### Female set"
   ]
  },
  {
   "cell_type": "code",
   "execution_count": null,
   "metadata": {},
   "outputs": [],
   "source": [
    "# Performance measures female\n",
    "prediction_measures(y_testf,X_testf)"
   ]
  },
  {
   "cell_type": "markdown",
   "metadata": {},
   "source": [
    "### Statistical parity"
   ]
  },
  {
   "cell_type": "code",
   "execution_count": null,
   "metadata": {},
   "outputs": [],
   "source": [
    "# predictions\n",
    "pred_male = model.predict(X_testm)\n",
    "pred_female = model.predict(X_testf)\n",
    "\n",
    "def percentage_depression(pred):\n",
    "    return np.sum(pred == 'depression') / len(pred)\n",
    "\n",
    "def statistical_parity(predsensitive,predother):\n",
    "    return percentage_depression(predsensitive)/percentage_depression(predother),percentage_depression(predsensitive),percentage_depression(predother)\n",
    "\n",
    "statistical_parity(pred_female,pred_male)"
   ]
  },
  {
   "cell_type": "markdown",
   "metadata": {},
   "source": [
    "### Equal oppurtunity"
   ]
  },
  {
   "cell_type": "code",
   "execution_count": null,
   "metadata": {},
   "outputs": [],
   "source": [
    "# predictions\n",
    "pred_male = model.predict(X_testm)\n",
    "pred_female = model.predict(X_testf)\n",
    "\n",
    "def true_positves(pred, true):\n",
    "    return np.sum((pred == 'depression') & (true == \"depression\"))\n",
    "\n",
    "def true_negatives(pred, true):\n",
    "    return np.sum((pred == 'normal') & (true == \"normal\"))\n",
    "\n",
    "def true_positve_rate(pred, true):\n",
    "    return true_positves(pred,true)/(true_positves(pred,true)+true_negatives(pred,true))\n",
    "\n",
    "def equal_oppurtunity(predsensitive, truesensitve, predother, trueother):\n",
    "    return true_positve_rate(predsensitive,truesensitve)/true_positve_rate(predother,trueother)\n",
    "\n",
    "\n",
    "\n",
    "\n",
    "equal_oppurtunity(pred_female,y_testf,pred_male,y_testm)\n",
    "\n"
   ]
  }
 ],
 "metadata": {
  "kernelspec": {
   "display_name": "OZP-compatibility",
   "language": "python",
   "name": "python3"
  },
  "language_info": {
   "codemirror_mode": {
    "name": "ipython",
    "version": 3
   },
   "file_extension": ".py",
   "mimetype": "text/x-python",
   "name": "python",
   "nbconvert_exporter": "python",
   "pygments_lexer": "ipython3",
   "version": "3.11.5"
  }
 },
 "nbformat": 4,
 "nbformat_minor": 2
}
