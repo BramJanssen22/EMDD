{
 "cells": [
  {
   "cell_type": "code",
   "execution_count": null,
   "metadata": {},
   "outputs": [],
   "source": [
    "import pandas as pd\n",
    "import numpy as np\n",
    "from sklearn.model_selection import GridSearchCV, PredefinedSplit, train_test_split\n",
    "from sklearn.preprocessing import StandardScaler\n",
    "from sklearn.pipeline import Pipeline\n",
    "from sklearn.svm import SVC\n",
    "from sklearn.metrics import classification_report, confusion_matrix"
   ]
  },
  {
   "cell_type": "code",
   "execution_count": null,
   "metadata": {},
   "outputs": [],
   "source": [
    "from sklearn.metrics import roc_auc_score\n",
    "from sklearn.metrics import confusion_matrix, ConfusionMatrixDisplay\n",
    "import matplotlib.pyplot as plt\n",
    "\n",
    "model = SVC(random_state=0, probability=True, class_weight='balanced', C=1, gamma=0.001, kernel='rbf')\n",
    "model.fit(X_train,y_train)\n",
    "model_pred = model.predict(X_test)\n",
    "print(classification_report(y_test, model_pred))\n",
    "print(roc_auc_score(y_test,model_pred))\n",
    "\n",
    "# my_list = (list(zip(model_pred,list(y_test))))\n",
    "\n",
    "# truepos = 0\n",
    "# falseneg = 0\n",
    "# trueneg = 0\n",
    "# falsepos = 0\n",
    "# total = 0\n",
    "\n",
    "# for i in range(len(my_list)):\n",
    "#     if my_list[i][0] == 'depression':\n",
    "#         if my_list[i][0] == my_list[i][1]:\n",
    "#             truepos += 1\n",
    "#         else:\n",
    "#             falseneg += 1\n",
    "#     if my_list[i][0] == 'normal':\n",
    "#         if my_list[i][0] == my_list[i][1]:\n",
    "#             trueneg += 1\n",
    "#         else:\n",
    "#             falsepos += 1\n",
    "#     total += 1\n",
    "\n",
    "# print(f'truepositives: {truepos}    falsepostives: {falsepos}\\n falsenegatvives: {falseneg}     truenegatives: {trueneg}\\n total: {total}')\n",
    "\n",
    "confusionmatrix = confusion_matrix(y_test,model_pred)\n",
    "cm_display = ConfusionMatrixDisplay(confusion_matrix = confusionmatrix, display_labels = [False, True]) \n",
    "cm_display.plot()\n",
    "plt.show()  \n"
   ]
  }
 ],
 "metadata": {
  "language_info": {
   "name": "python"
  }
 },
 "nbformat": 4,
 "nbformat_minor": 2
}
