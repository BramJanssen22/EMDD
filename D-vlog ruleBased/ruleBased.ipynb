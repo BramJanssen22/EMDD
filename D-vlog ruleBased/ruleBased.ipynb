{
 "cells": [
  {
   "cell_type": "code",
   "execution_count": 25,
   "metadata": {},
   "outputs": [
    {
     "name": "stderr",
     "output_type": "stream",
     "text": [
      "[nltk_data] Downloading package wordnet to\n",
      "[nltk_data]     C:\\Users\\bramb\\AppData\\Roaming\\nltk_data...\n",
      "[nltk_data]   Package wordnet is already up-to-date!\n"
     ]
    }
   ],
   "source": [
    "import pandas as pd\n",
    "from collections import Counter\n",
    "import nltk\n",
    "import re\n",
    "from nltk.stem import WordNetLemmatizer\n",
    "nltk.download('wordnet')\n",
    "\n",
    "keywordsJson = pd.read_json('../data/depression_synonyms.json', orient='records')\n",
    "keywords = list(keywordsJson['depression'])"
   ]
  },
  {
   "cell_type": "markdown",
   "metadata": {},
   "source": [
    "### Create vectors"
   ]
  },
  {
   "cell_type": "code",
   "execution_count": 44,
   "metadata": {},
   "outputs": [],
   "source": [
    "df = pd.read_json('../data/splitData/postdataLinesSplit.json',lines=True)\n",
    "\n",
    "def preprocess(post):\n",
    "    preprocessedWords = []\n",
    "    lemmatizer = WordNetLemmatizer()\n",
    "    post = post[0]\n",
    "    post = post.lower()\n",
    "    post = re.sub(r'[^\\w\\s]', '', post)\n",
    "    words = post.split()\n",
    "    for word in words:\n",
    "        lemmatized = lemmatizer.lemmatize(word)\n",
    "        preprocessedWords.append(lemmatized)\n",
    "    \n",
    "    return preprocessedWords\n",
    "\n",
    "prediction = {'prediction':[]}\n",
    "\n",
    "for index, row in df.iterrows():\n",
    "    DepressionWordCount = 0\n",
    "    text = row['text']\n",
    "    preProcessed = preprocess(text)\n",
    "    wordCounts = dict(Counter(preProcessed))\n",
    "    keywordCounts = {}\n",
    "    keywordCounts['id'] = index\n",
    "    for word in keywords:\n",
    "        try:\n",
    "            DepressionWordCount += wordCounts[word]\n",
    "        except: \n",
    "            continue\n",
    "    if DepressionWordCount >= 2:\n",
    "        prediction['prediction'].append('depression')\n",
    "    else:\n",
    "        prediction['prediction'].append('normal')\n",
    "    \n",
    "\n",
    "vector_df = pd.DataFrame(prediction)\n",
    "df = pd.concat([df, vector_df], axis=1)\n",
    "df.to_json(\"../data/predictionData/ruleBasedPred.json\", orient='records', lines=True)"
   ]
  }
 ],
 "metadata": {
  "kernelspec": {
   "display_name": "OZP-compatibility",
   "language": "python",
   "name": "python3"
  },
  "language_info": {
   "codemirror_mode": {
    "name": "ipython",
    "version": 3
   },
   "file_extension": ".py",
   "mimetype": "text/x-python",
   "name": "python",
   "nbconvert_exporter": "python",
   "pygments_lexer": "ipython3",
   "version": "3.11.5"
  }
 },
 "nbformat": 4,
 "nbformat_minor": 2
}
