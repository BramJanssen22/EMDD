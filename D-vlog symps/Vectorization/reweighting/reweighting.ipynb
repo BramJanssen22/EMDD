{
 "cells": [
  {
   "cell_type": "code",
   "execution_count": 1,
   "metadata": {},
   "outputs": [],
   "source": [
    "import pandas as pd"
   ]
  },
  {
   "cell_type": "code",
   "execution_count": 54,
   "metadata": {},
   "outputs": [
    {
     "name": "stderr",
     "output_type": "stream",
     "text": [
      "/var/folders/qw/2ytfcz3d78qfsgsvq73r4dx80000gn/T/ipykernel_39414/1630669795.py:25: FutureWarning: Series.__getitem__ treating keys as positions is deprecated. In a future version, integer keys will always be treated as labels (consistent with DataFrame behavior). To access a value by position, use `ser.iloc[pos]`\n",
      "  reweighted[i] = row[i] * row['uncertain'][0] * subject\n",
      "/var/folders/qw/2ytfcz3d78qfsgsvq73r4dx80000gn/T/ipykernel_39414/1630669795.py:25: FutureWarning: Series.__setitem__ treating keys as positions is deprecated. In a future version, integer keys will always be treated as labels (consistent with DataFrame behavior). To set a value by position, use `ser.iloc[pos] = value`\n",
      "  reweighted[i] = row[i] * row['uncertain'][0] * subject\n"
     ]
    }
   ],
   "source": [
    "name = 'blingfire'\n",
    "for i  in ['blingfire','nltk','spacysm,spacylg, spacytrf']:\n",
    "    name = i\n",
    "    path = f\"../../data/postdatalinesvectors{name}.json\"\n",
    "    pathrw = f\"../../data/postdatalines_unc+subj{name}.json\"\n",
    "\n",
    "    df = pd.read_json(path,orient='records', lines=True)\n",
    "    dfrw = pd.read_json(pathrw,orient='records', lines=True)\n",
    "\n",
    "    def create(df,dfrw):\n",
    "        df = df[[str(i) for i in range(0,38)]]\n",
    "        dfrw = dfrw[['uncertain','subj']]\n",
    "        df = pd.concat([df,dfrw],axis=1)\n",
    "        return df\n",
    "\n",
    "    df = create(df, dfrw)\n",
    "\n",
    "    for index, row in df.iterrows():\n",
    "        reweighted = row\n",
    "        if row['subj'][0] == 1:\n",
    "            subject = 0.9\n",
    "        else:\n",
    "            subject = 0.1\n",
    "        for i in range(0,38):\n",
    "            reweighted[i] = row[i] * row['uncertain'][0] * subject\n",
    "        df.loc[index] = reweighted\n",
    "\n",
    "    dfor = dfrw[['video_id','label','key','gender','duration','channelId','text']]    \n",
    "\n",
    "    df = pd.concat([dfor,df],axis=1)\n",
    "\n",
    "    df.to_json(f\"../../data/postdatalinesvectorsreweighted{name}.json\",lines=True, orient='records')\n",
    "\n",
    "\n",
    "\n",
    "\n",
    "\n"
   ]
  },
  {
   "cell_type": "code",
   "execution_count": 29,
   "metadata": {},
   "outputs": [
    {
     "name": "stdout",
     "output_type": "stream",
     "text": [
      "    0   1    2\n",
      "0   6  48  140\n",
      "1  12  60  160\n",
      "2  18  72  180\n"
     ]
    }
   ],
   "source": [
    "import pandas as pd\n",
    "\n",
    "# Assuming df is your dataframe\n",
    "# Create a sample dataframe\n",
    "data = {'0': [1, 2, 3],\n",
    "        '1': [4, 5, 6],\n",
    "        '2': [7, 8, 9]}\n",
    "df = pd.DataFrame(data)\n",
    "\n",
    "# Assuming uncertain and subj are lists of the same length as the dataframe\n",
    "uncertain = [2, 3, 4]  # Example uncertain values\n",
    "subj = [3, 4, 5]       # Example subj values\n",
    "\n",
    "# Multiply each value in the dataframe by its corresponding uncertain and subj values\n",
    "df_result = df.apply(lambda x: x * uncertain * subj, axis=1)\n",
    "\n",
    "print(df_result)\n"
   ]
  }
 ],
 "metadata": {
  "kernelspec": {
   "display_name": "OZP",
   "language": "python",
   "name": "python3"
  },
  "language_info": {
   "codemirror_mode": {
    "name": "ipython",
    "version": 3
   },
   "file_extension": ".py",
   "mimetype": "text/x-python",
   "name": "python",
   "nbconvert_exporter": "python",
   "pygments_lexer": "ipython3",
   "version": "3.11.5"
  }
 },
 "nbformat": 4,
 "nbformat_minor": 2
}
