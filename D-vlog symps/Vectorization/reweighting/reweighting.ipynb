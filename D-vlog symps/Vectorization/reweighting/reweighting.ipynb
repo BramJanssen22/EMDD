{
 "cells": [
  {
   "cell_type": "code",
   "execution_count": 2,
   "metadata": {},
   "outputs": [],
   "source": [
    "import pandas as pd"
   ]
  },
  {
   "cell_type": "code",
   "execution_count": 4,
   "metadata": {},
   "outputs": [
    {
     "name": "stderr",
     "output_type": "stream",
     "text": [
      "C:\\Users\\bramb\\AppData\\Local\\Temp\\ipykernel_43092\\187005477.py:27: FutureWarning: Series.__getitem__ treating keys as positions is deprecated. In a future version, integer keys will always be treated as labels (consistent with DataFrame behavior). To access a value by position, use `ser.iloc[pos]`\n",
      "  reweighted[i] = row[i] * row['uncertain'][0] * subject\n",
      "C:\\Users\\bramb\\AppData\\Local\\Temp\\ipykernel_43092\\187005477.py:27: FutureWarning: Series.__setitem__ treating keys as positions is deprecated. In a future version, integer keys will always be treated as labels (consistent with DataFrame behavior). To set a value by position, use `ser.iloc[pos] = value`\n",
      "  reweighted[i] = row[i] * row['uncertain'][0] * subject\n",
      "C:\\Users\\bramb\\AppData\\Local\\Temp\\ipykernel_43092\\187005477.py:27: FutureWarning: Series.__getitem__ treating keys as positions is deprecated. In a future version, integer keys will always be treated as labels (consistent with DataFrame behavior). To access a value by position, use `ser.iloc[pos]`\n",
      "  reweighted[i] = row[i] * row['uncertain'][0] * subject\n",
      "C:\\Users\\bramb\\AppData\\Local\\Temp\\ipykernel_43092\\187005477.py:27: FutureWarning: Series.__setitem__ treating keys as positions is deprecated. In a future version, integer keys will always be treated as labels (consistent with DataFrame behavior). To set a value by position, use `ser.iloc[pos] = value`\n",
      "  reweighted[i] = row[i] * row['uncertain'][0] * subject\n",
      "C:\\Users\\bramb\\AppData\\Local\\Temp\\ipykernel_43092\\187005477.py:27: FutureWarning: Series.__getitem__ treating keys as positions is deprecated. In a future version, integer keys will always be treated as labels (consistent with DataFrame behavior). To access a value by position, use `ser.iloc[pos]`\n",
      "  reweighted[i] = row[i] * row['uncertain'][0] * subject\n",
      "C:\\Users\\bramb\\AppData\\Local\\Temp\\ipykernel_43092\\187005477.py:27: FutureWarning: Series.__setitem__ treating keys as positions is deprecated. In a future version, integer keys will always be treated as labels (consistent with DataFrame behavior). To set a value by position, use `ser.iloc[pos] = value`\n",
      "  reweighted[i] = row[i] * row['uncertain'][0] * subject\n",
      "C:\\Users\\bramb\\AppData\\Local\\Temp\\ipykernel_43092\\187005477.py:27: FutureWarning: Series.__getitem__ treating keys as positions is deprecated. In a future version, integer keys will always be treated as labels (consistent with DataFrame behavior). To access a value by position, use `ser.iloc[pos]`\n",
      "  reweighted[i] = row[i] * row['uncertain'][0] * subject\n",
      "C:\\Users\\bramb\\AppData\\Local\\Temp\\ipykernel_43092\\187005477.py:27: FutureWarning: Series.__setitem__ treating keys as positions is deprecated. In a future version, integer keys will always be treated as labels (consistent with DataFrame behavior). To set a value by position, use `ser.iloc[pos] = value`\n",
      "  reweighted[i] = row[i] * row['uncertain'][0] * subject\n",
      "C:\\Users\\bramb\\AppData\\Local\\Temp\\ipykernel_43092\\187005477.py:27: FutureWarning: Series.__getitem__ treating keys as positions is deprecated. In a future version, integer keys will always be treated as labels (consistent with DataFrame behavior). To access a value by position, use `ser.iloc[pos]`\n",
      "  reweighted[i] = row[i] * row['uncertain'][0] * subject\n",
      "C:\\Users\\bramb\\AppData\\Local\\Temp\\ipykernel_43092\\187005477.py:27: FutureWarning: Series.__setitem__ treating keys as positions is deprecated. In a future version, integer keys will always be treated as labels (consistent with DataFrame behavior). To set a value by position, use `ser.iloc[pos] = value`\n",
      "  reweighted[i] = row[i] * row['uncertain'][0] * subject\n"
     ]
    }
   ],
   "source": [
    "name = 'blingfire'\n",
    "symps = [\"Anxious_Mood\",\"Autonomic_symptoms\",\"Cardiovascular_symptoms\",\"Catatonic_behavior\",\"Decreased_energy_tiredness_fatigue\",\"Depressed_Mood\",\"Gastrointestinal_symptoms\",\"Genitourinary_symptoms\",\"Hyperactivity_agitation\",\"Impulsivity\",\"Inattention\",\"Indecisiveness\",\"Respiratory_symptoms\",\"Suicidal_ideas\",\"Worthlessness_and_guilty\",\"avoidance_of_stimuli\",\"compensatory_behaviors_to_prevent_weight_gain\",\"compulsions\",\"diminished_emotional_expression\",\"do_things_easily_get_painful_consequences\",\"drastical_shift_in_mood_and_energy\",\"fear_about_social_situations\",\"fear_of_gaining_weight\",\"fears_of_being_negatively_evaluated\",\"flight_of_ideas\",\"intrusion_symptoms\",\"loss_of_interest_or_motivation\",\"more_talktive\",\"obsession\",\"panic_fear\",\"pessimism\",\"poor_memory\",\"sleep_disturbance\",\"somatic_muscle\",\"somatic_symptoms_others\",\"somatic_symptoms_sensory\",\"weight_and_appetite_change\",\"Anger_Irritability\"]\n",
    "\n",
    "for i  in ['blingfire','nltk','spacysm','spacylg','spacytrf']:\n",
    "    name = i\n",
    "    path = f\"../../../data/vectorData/{name}Vectors.json\"\n",
    "    pathrw = f\"../../../data/reweighting/uncertaintySubject{name}.json\"\n",
    "\n",
    "    df = pd.read_json(path,orient='records', lines=True)\n",
    "    dfrw = pd.read_json(pathrw,orient='records', lines=True)\n",
    "\n",
    "    def create(df,dfrw):\n",
    "        df = df[symps]\n",
    "        dfrw = dfrw[['uncertain','subj']]\n",
    "        df = pd.concat([df,dfrw],axis=1)\n",
    "        return df\n",
    "\n",
    "    df = create(df, dfrw)\n",
    "\n",
    "    for index, row in df.iterrows():\n",
    "        reweighted = row\n",
    "        if row['subj'][0] == 1:\n",
    "            subject = 0.9\n",
    "        else:\n",
    "            subject = 0.1\n",
    "        for i in range(0,38):\n",
    "            reweighted[i] = row[i] * row['uncertain'][0] * subject\n",
    "        df.loc[index] = reweighted\n",
    "\n",
    "    dfor = dfrw[['video_id','label','key','gender','duration','channelId','text']]    \n",
    "\n",
    "    df = pd.concat([dfor,df],axis=1)\n",
    "\n",
    "    df.to_json(f\"../../../data/vectorData/reweighted{name}Vectors.json\",lines=True, orient='records')\n",
    "\n",
    "\n",
    "\n",
    "\n",
    "\n"
   ]
  }
 ],
 "metadata": {
  "kernelspec": {
   "display_name": "OZP",
   "language": "python",
   "name": "python3"
  },
  "language_info": {
   "codemirror_mode": {
    "name": "ipython",
    "version": 3
   },
   "file_extension": ".py",
   "mimetype": "text/x-python",
   "name": "python",
   "nbconvert_exporter": "python",
   "pygments_lexer": "ipython3",
   "version": "3.9.18"
  }
 },
 "nbformat": 4,
 "nbformat_minor": 2
}
