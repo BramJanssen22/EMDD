{
 "cells": [
  {
   "cell_type": "code",
   "execution_count": 1,
   "metadata": {},
   "outputs": [],
   "source": [
    "import pandas as pd\n",
    "import numpy as np\n",
    "import ast\n",
    "import matplotlib.pyplot as plt\n",
    "import plotly.graph_objects as go\n",
    "from sklearn.metrics import confusion_matrix, precision_score, recall_score, f1_score, classification_report, accuracy_score, matthews_corrcoef, roc_auc_score\n"
   ]
  },
  {
   "cell_type": "markdown",
   "metadata": {},
   "source": [
    "### Binary prediction Metrics"
   ]
  },
  {
   "cell_type": "code",
   "execution_count": 2,
   "metadata": {},
   "outputs": [],
   "source": [
    "# Performance measures\n",
    "\n",
    "def prediction_measures(y_test,ypred):\n",
    "    performance = classification_report(y_test,ypred,output_dict=True)\n",
    "    return performance['depression'],performance['normal'],performance['accuracy']\n"
   ]
  },
  {
   "cell_type": "code",
   "execution_count": 6,
   "metadata": {},
   "outputs": [],
   "source": [
    "# All measurements\n",
    "\n",
    "def all_measures(predfemale, truefemale, probfemale, predmale, truemale,probmale, name='test',single=False,roc=True):\n",
    "    score_dict = {}\n",
    "    score_dict['predictor'] = name\n",
    "    # Metrics for female group\n",
    "    depression_performance, normal_performance ,accuracy = prediction_measures(truefemale,predfemale)\n",
    "    score_dict['depressionFemalePrecision'] = depression_performance['precision']\n",
    "    score_dict['depressionFemaleRecall'] = depression_performance['recall']\n",
    "    score_dict['depressionFemaleF1'] = depression_performance['f1-score']\n",
    "    # score_dict['depressionFemaleSupport'] = depression_performance['support']\n",
    "    score_dict['normalFemalePrecision'] = normal_performance['precision']\n",
    "    score_dict['normalFemaleRecall'] = normal_performance['recall']\n",
    "    score_dict['normalFemaleF1'] = normal_performance['f1-score']\n",
    "    # score_dict['normalFemaleSupport'] = normal_performance['support']\n",
    "    score_dict['accuracyFemale'] = accuracy\n",
    "    score_dict['MCCFemale'] = matthews_corrcoef(truefemale,predfemale)\n",
    "    if roc == True:\n",
    "        score_dict['roc-aucFemale'] = roc_auc_score(truefemale,probfemale)\n",
    "    if single == False:\n",
    "        # Metrics for male group\n",
    "        depression_performance, normal_performance ,accuracy = prediction_measures(truemale, predmale)\n",
    "        score_dict['depressionMalePrecision'] = depression_performance['precision']\n",
    "        score_dict['depressionMaleRecall'] = depression_performance['recall']\n",
    "        score_dict['depressionMaleF1'] = depression_performance['f1-score']\n",
    "        # score_dict['depressionMaleSupport'] = depression_performance['support']\n",
    "        score_dict['normalMalePrecision'] = normal_performance['precision']\n",
    "        score_dict['normalMaleRecall'] = normal_performance['recall']\n",
    "        score_dict['normalMaleF1'] = normal_performance['f1-score']\n",
    "        # score_dict['normalMaleSupport'] = normal_performance['recall']\n",
    "        score_dict['accuracyMale'] = accuracy\n",
    "        score_dict['MCCMale'] = matthews_corrcoef(truemale, predmale)\n",
    "        if roc == True:\n",
    "            score_dict['roc-aucMale'] = roc_auc_score(truemale,probmale)\n",
    "        \n",
    "        # Metrics for total\n",
    "        depression_performance, normal_performance ,accuracy = prediction_measures(pd.concat([truefemale,truemale]),pd.concat([predfemale,predmale]))\n",
    "        score_dict['depressionTotalPrecision'] = depression_performance['precision']\n",
    "        score_dict['depressionTotalRecall'] = depression_performance['recall']\n",
    "        score_dict['depressionTotalF1'] = depression_performance['f1-score']\n",
    "        # score_dict['depressionTotalSupport'] = depression_performance['support']\n",
    "        score_dict['normalTotalPrecision'] = normal_performance['precision']\n",
    "        score_dict['normalTotalRecall'] = normal_performance['recall']\n",
    "        score_dict['normalTotalF1'] = normal_performance['f1-score']\n",
    "        # score_dict['normalTotalSupport'] = normal_performance['recall']\n",
    "        score_dict['accuracyTotal'] = accuracy\n",
    "        score_dict['MCCTotal'] = matthews_corrcoef(pd.concat([truefemale,truemale]),pd.concat([predfemale,predmale]))\n",
    "        if roc == True:\n",
    "            score_dict['roc-aucTotal'] = roc_auc_score(pd.concat([truefemale,truemale]),pd.concat([probfemale,probmale]))\n",
    "        # Fairness metrics between groups\n",
    "        TNS, FPS, FNS, TPS = confusion_matrix(truefemale, predfemale).ravel()\n",
    "        TNO, FPO, FNO, TPO = confusion_matrix(truemale,predmale).ravel()\n",
    "        score_dict['statisticalParity'] = ((TPS+FPS)/len(truefemale)) / ((TPO+FPO)/len(truemale))\n",
    "        score_dict['equalOpportunity'] = (TPS / (TPS+FNS)) / (TPO / (TPO+FNO))\n",
    "        score_dict['equalisedOdds'] =  ((TPS / (TPS+FNS)) + (TNS / (TNS+FPS))) / ((TPO / (TPO+FNO))+ (TNO) / (TNO+FPO))\n",
    "        score_dict['equalAccuracy'] = (accuracy_score(truefemale,predfemale)/accuracy_score(truemale,predmale))\n",
    "    return score_dict"
   ]
  },
  {
   "cell_type": "code",
   "execution_count": 25,
   "metadata": {},
   "outputs": [
    {
     "name": "stderr",
     "output_type": "stream",
     "text": [
      "c:\\Users\\bramb\\anaconda3\\envs\\OZP-compatibility\\lib\\site-packages\\sklearn\\metrics\\_classification.py:1471: UndefinedMetricWarning: Precision and F-score are ill-defined and being set to 0.0 in labels with no predicted samples. Use `zero_division` parameter to control this behavior.\n",
      "  _warn_prf(average, modifier, msg_start, len(result))\n",
      "c:\\Users\\bramb\\anaconda3\\envs\\OZP-compatibility\\lib\\site-packages\\sklearn\\metrics\\_classification.py:1471: UndefinedMetricWarning: Precision and F-score are ill-defined and being set to 0.0 in labels with no predicted samples. Use `zero_division` parameter to control this behavior.\n",
      "  _warn_prf(average, modifier, msg_start, len(result))\n",
      "c:\\Users\\bramb\\anaconda3\\envs\\OZP-compatibility\\lib\\site-packages\\sklearn\\metrics\\_classification.py:1471: UndefinedMetricWarning: Precision and F-score are ill-defined and being set to 0.0 in labels with no predicted samples. Use `zero_division` parameter to control this behavior.\n",
      "  _warn_prf(average, modifier, msg_start, len(result))\n",
      "c:\\Users\\bramb\\anaconda3\\envs\\OZP-compatibility\\lib\\site-packages\\sklearn\\metrics\\_classification.py:1471: UndefinedMetricWarning: Precision and F-score are ill-defined and being set to 0.0 in labels with no predicted samples. Use `zero_division` parameter to control this behavior.\n",
      "  _warn_prf(average, modifier, msg_start, len(result))\n",
      "c:\\Users\\bramb\\anaconda3\\envs\\OZP-compatibility\\lib\\site-packages\\sklearn\\metrics\\_classification.py:1471: UndefinedMetricWarning: Precision and F-score are ill-defined and being set to 0.0 in labels with no predicted samples. Use `zero_division` parameter to control this behavior.\n",
      "  _warn_prf(average, modifier, msg_start, len(result))\n",
      "c:\\Users\\bramb\\anaconda3\\envs\\OZP-compatibility\\lib\\site-packages\\sklearn\\metrics\\_classification.py:1471: UndefinedMetricWarning: Precision and F-score are ill-defined and being set to 0.0 in labels with no predicted samples. Use `zero_division` parameter to control this behavior.\n",
      "  _warn_prf(average, modifier, msg_start, len(result))\n",
      "c:\\Users\\bramb\\anaconda3\\envs\\OZP-compatibility\\lib\\site-packages\\sklearn\\metrics\\_classification.py:1471: UndefinedMetricWarning: Precision and F-score are ill-defined and being set to 0.0 in labels with no predicted samples. Use `zero_division` parameter to control this behavior.\n",
      "  _warn_prf(average, modifier, msg_start, len(result))\n",
      "c:\\Users\\bramb\\anaconda3\\envs\\OZP-compatibility\\lib\\site-packages\\sklearn\\metrics\\_classification.py:1471: UndefinedMetricWarning: Precision and F-score are ill-defined and being set to 0.0 in labels with no predicted samples. Use `zero_division` parameter to control this behavior.\n",
      "  _warn_prf(average, modifier, msg_start, len(result))\n",
      "c:\\Users\\bramb\\anaconda3\\envs\\OZP-compatibility\\lib\\site-packages\\sklearn\\metrics\\_classification.py:1471: UndefinedMetricWarning: Precision and F-score are ill-defined and being set to 0.0 in labels with no predicted samples. Use `zero_division` parameter to control this behavior.\n",
      "  _warn_prf(average, modifier, msg_start, len(result))\n",
      "c:\\Users\\bramb\\anaconda3\\envs\\OZP-compatibility\\lib\\site-packages\\sklearn\\metrics\\_classification.py:1471: UndefinedMetricWarning: Precision and F-score are ill-defined and being set to 0.0 in labels with no predicted samples. Use `zero_division` parameter to control this behavior.\n",
      "  _warn_prf(average, modifier, msg_start, len(result))\n",
      "c:\\Users\\bramb\\anaconda3\\envs\\OZP-compatibility\\lib\\site-packages\\sklearn\\metrics\\_classification.py:1471: UndefinedMetricWarning: Precision and F-score are ill-defined and being set to 0.0 in labels with no predicted samples. Use `zero_division` parameter to control this behavior.\n",
      "  _warn_prf(average, modifier, msg_start, len(result))\n",
      "c:\\Users\\bramb\\anaconda3\\envs\\OZP-compatibility\\lib\\site-packages\\sklearn\\metrics\\_classification.py:1471: UndefinedMetricWarning: Precision and F-score are ill-defined and being set to 0.0 in labels with no predicted samples. Use `zero_division` parameter to control this behavior.\n",
      "  _warn_prf(average, modifier, msg_start, len(result))\n",
      "c:\\Users\\bramb\\anaconda3\\envs\\OZP-compatibility\\lib\\site-packages\\sklearn\\metrics\\_classification.py:1471: UndefinedMetricWarning: Precision and F-score are ill-defined and being set to 0.0 in labels with no predicted samples. Use `zero_division` parameter to control this behavior.\n",
      "  _warn_prf(average, modifier, msg_start, len(result))\n",
      "c:\\Users\\bramb\\anaconda3\\envs\\OZP-compatibility\\lib\\site-packages\\sklearn\\metrics\\_classification.py:1471: UndefinedMetricWarning: Precision and F-score are ill-defined and being set to 0.0 in labels with no predicted samples. Use `zero_division` parameter to control this behavior.\n",
      "  _warn_prf(average, modifier, msg_start, len(result))\n",
      "c:\\Users\\bramb\\anaconda3\\envs\\OZP-compatibility\\lib\\site-packages\\sklearn\\metrics\\_classification.py:1471: UndefinedMetricWarning: Precision and F-score are ill-defined and being set to 0.0 in labels with no predicted samples. Use `zero_division` parameter to control this behavior.\n",
      "  _warn_prf(average, modifier, msg_start, len(result))\n",
      "c:\\Users\\bramb\\anaconda3\\envs\\OZP-compatibility\\lib\\site-packages\\sklearn\\metrics\\_classification.py:1471: UndefinedMetricWarning: Precision and F-score are ill-defined and being set to 0.0 in labels with no predicted samples. Use `zero_division` parameter to control this behavior.\n",
      "  _warn_prf(average, modifier, msg_start, len(result))\n",
      "c:\\Users\\bramb\\anaconda3\\envs\\OZP-compatibility\\lib\\site-packages\\sklearn\\metrics\\_classification.py:1471: UndefinedMetricWarning: Precision and F-score are ill-defined and being set to 0.0 in labels with no predicted samples. Use `zero_division` parameter to control this behavior.\n",
      "  _warn_prf(average, modifier, msg_start, len(result))\n",
      "c:\\Users\\bramb\\anaconda3\\envs\\OZP-compatibility\\lib\\site-packages\\sklearn\\metrics\\_classification.py:1471: UndefinedMetricWarning: Precision and F-score are ill-defined and being set to 0.0 in labels with no predicted samples. Use `zero_division` parameter to control this behavior.\n",
      "  _warn_prf(average, modifier, msg_start, len(result))\n"
     ]
    }
   ],
   "source": [
    "\n",
    "options = ['w2vec','ruleBased','DictionaryBased','TFIDF500','TFIDFEX500','TFIDFIN500','blingfire','reweightedblingfire','nltk','reweightednltk','spacysm','reweightedspacysm','spacylg','reweightedspacylg','spacytrf','reweightedspacytrf']\n",
    "options = ['w2vec','TFIDF500','ruleBased','DictionaryBased','spacysm']\n",
    "\n",
    "for name in options:\n",
    "    df = pd.read_json(f'data/predictionDataTest/{name}Pred.json', lines=True, orient='records')\n",
    "    roc = True\n",
    "\n",
    "    predmale = df.loc[(df['gender'] == 'm') & (df['split'] == 'test'), ['prediction']]\n",
    "    predfemale = df.loc[(df['gender'] == 'f') & (df['split'] == 'test'), ['prediction']]\n",
    "    try:\n",
    "        probmale = df.loc[(df['gender'] == 'm') & (df['split'] == 'test'), ['probability']]\n",
    "        probfemale = df.loc[(df['gender'] == 'f') & (df['split'] == 'test'), ['probability']]\n",
    "    except:\n",
    "        roc = False\n",
    "        probfemale = 1\n",
    "        probmale = 1\n",
    "    ytestmale = df.loc[(df['gender'] == 'm') & (df['split'] == 'test'), ['label']]\n",
    "    ytestfemale = df.loc[(df['gender'] == 'f') & (df['split'] == 'test'), ['label']]\n",
    "    \n",
    "\n",
    "    score_dict = all_measures(predfemale,ytestfemale,probfemale,predmale,ytestmale,probmale, name, roc=roc)\n",
    "\n",
    "    try:\n",
    "        df = pd.read_csv('data/results/depressionResultsTest.csv')\n",
    "    except:\n",
    "        df = pd.DataFrame()\n",
    "\n",
    "    df_new = pd.DataFrame(score_dict,index=[len(df)])\n",
    "\n",
    "    df = pd.concat([df,df_new],ignore_index=True)\n",
    "\n",
    "    df.to_csv('data/results/depressionResultsTest.csv', index=False)"
   ]
  },
  {
   "cell_type": "markdown",
   "metadata": {},
   "source": [
    "### Symptom prediction results"
   ]
  },
  {
   "cell_type": "code",
   "execution_count": 4,
   "metadata": {},
   "outputs": [],
   "source": [
    "def getPred(df, threshold):\n",
    "    symps = [\"Anxious_Mood\",\"Autonomic_symptoms\",\"Cardiovascular_symptoms\",\"Catatonic_behavior\",\"Decreased_energy_tiredness_fatigue\",\"Depressed_Mood\",\"Gastrointestinal_symptoms\",\"Genitourinary_symptoms\",\"Hyperactivity_agitation\",\"Impulsivity\",\"Inattention\",\"Indecisiveness\",\"Respiratory_symptoms\",\"Suicidal_ideas\",\"Worthlessness_and_guilty\",\"avoidance_of_stimuli\",\"compensatory_behaviors_to_prevent_weight_gain\",\"compulsions\",\"diminished_emotional_expression\",\"do_things_easily_get_painful_consequences\",\"drastical_shift_in_mood_and_energy\",\"fear_about_social_situations\",\"fear_of_gaining_weight\",\"fears_of_being_negatively_evaluated\",\"flight_of_ideas\",\"intrusion_symptoms\",\"loss_of_interest_or_motivation\",\"more_talktive\",\"obsession\",\"panic_fear\",\"pessimism\",\"poor_memory\",\"sleep_disturbance\",\"somatic_muscle\",\"somatic_symptoms_others\",\"somatic_symptoms_sensory\",\"weight_and_appetite_change\",\"Anger_Irritability\"]\n",
    "\n",
    "    relevant_sents = []\n",
    "    postid = 0\n",
    "    sentid = 0\n",
    "\n",
    "    for post in df['sentences']:\n",
    "        postid += 1\n",
    "        for sent in post:\n",
    "            sentid += 1\n",
    "            meet_threshold = []\n",
    "            if len(sent['sentence'].split()) >= 10:\n",
    "                meet_threshold = [{'id':[postid,sentid],'sentence':sent['sentence']}]\n",
    "                for symptom in symps:\n",
    "                    if sent['probabilities'][symptom] >= 0.3:\n",
    "                        meet_threshold.append({symptom:sent['probabilities'][symptom]})\n",
    "                        if sent['probabilities'][symptom] >= threshold:\n",
    "                            meet_threshold.append('1')\n",
    "                        else:\n",
    "                            meet_threshold.append('0')\n",
    "                        meet_threshold.append(sent['probabilities'][symptom])\n",
    "                if len(meet_threshold) >= 4:\n",
    "                    relevant_sents.append(meet_threshold)\n",
    "            else:\n",
    "                continue\n",
    "    df = pd.DataFrame(relevant_sents)\n",
    "    return df\n"
   ]
  },
  {
   "cell_type": "code",
   "execution_count": 6,
   "metadata": {},
   "outputs": [],
   "source": [
    "# Create total set\n",
    "df = pd.concat([pd.read_json(f'data/annotationData/femaledata.json'),pd.read_json(f'data/annotationData/maledata.json')]).reset_index()\n",
    "df.to_json('data/annotationData/totaldata.json', orient='records')"
   ]
  },
  {
   "cell_type": "code",
   "execution_count": 26,
   "metadata": {},
   "outputs": [
    {
     "data": {
      "application/vnd.plotly.v1+json": {
       "config": {
        "plotlyServerURL": "https://plot.ly"
       },
       "data": [
        {
         "mode": "lines",
         "name": "Pos Precision",
         "type": "scatter",
         "x": [
          0.3,
          0.31,
          0.32,
          0.33,
          0.34,
          0.35000000000000003,
          0.36000000000000004,
          0.37000000000000005,
          0.38000000000000006,
          0.39000000000000007,
          0.4000000000000001,
          0.4100000000000001,
          0.4200000000000001,
          0.4300000000000001,
          0.4400000000000001,
          0.4500000000000001,
          0.46000000000000013,
          0.47000000000000014,
          0.48000000000000015,
          0.49000000000000016,
          0.5000000000000002,
          0.5100000000000002,
          0.5200000000000002,
          0.5300000000000002,
          0.5400000000000003,
          0.5500000000000003,
          0.5600000000000003,
          0.5700000000000003,
          0.5800000000000003,
          0.5900000000000003,
          0.6000000000000003,
          0.6100000000000003,
          0.6200000000000003,
          0.6300000000000003,
          0.6400000000000003,
          0.6500000000000004,
          0.6600000000000004,
          0.6700000000000004,
          0.6800000000000004,
          0.6900000000000004
         ],
         "y": [
          0.7421875,
          0.7411764705882353,
          0.7420634920634921,
          0.7379032258064516,
          0.7368421052631579,
          0.743801652892562,
          0.7427385892116183,
          0.7416666666666667,
          0.7415254237288136,
          0.7456140350877193,
          0.7432432432432432,
          0.7420814479638009,
          0.740909090909091,
          0.7397260273972602,
          0.7441860465116279,
          0.7429906542056075,
          0.7405660377358491,
          0.7428571428571429,
          0.7414634146341463,
          0.7401960784313726,
          0.7412935323383084,
          0.7386934673366834,
          0.7373737373737373,
          0.75,
          0.7446808510638298,
          0.745945945945946,
          0.7486338797814208,
          0.7458563535911602,
          0.7430167597765364,
          0.7457627118644068,
          0.7443181818181818,
          0.7441860465116279,
          0.7380952380952381,
          0.7409638554216867,
          0.7423312883435583,
          0.7391304347826086,
          0.74375,
          0.7388535031847133,
          0.7371794871794872,
          0.7450980392156863
         ]
        },
        {
         "mode": "lines",
         "name": "Neg Precision",
         "type": "scatter",
         "x": [
          0.3,
          0.31,
          0.32,
          0.33,
          0.34,
          0.35000000000000003,
          0.36000000000000004,
          0.37000000000000005,
          0.38000000000000006,
          0.39000000000000007,
          0.4000000000000001,
          0.4100000000000001,
          0.4200000000000001,
          0.4300000000000001,
          0.4400000000000001,
          0.4500000000000001,
          0.46000000000000013,
          0.47000000000000014,
          0.48000000000000015,
          0.49000000000000016,
          0.5000000000000002,
          0.5100000000000002,
          0.5200000000000002,
          0.5300000000000002,
          0.5400000000000003,
          0.5500000000000003,
          0.5600000000000003,
          0.5700000000000003,
          0.5800000000000003,
          0.5900000000000003,
          0.6000000000000003,
          0.6100000000000003,
          0.6200000000000003,
          0.6300000000000003,
          0.6400000000000003,
          0.6500000000000004,
          0.6600000000000004,
          0.6700000000000004,
          0.6800000000000004,
          0.6900000000000004
         ],
         "y": [
          0,
          0,
          0.25,
          0.125,
          0.1111111111111111,
          0.2857142857142857,
          0.26666666666666666,
          0.25,
          0.25,
          0.2857142857142857,
          0.2647058823529412,
          0.2571428571428571,
          0.25,
          0.24324324324324326,
          0.2682926829268293,
          0.2619047619047619,
          0.25,
          0.2608695652173913,
          0.2549019607843137,
          0.25,
          0.2545454545454545,
          0.24561403508771928,
          0.2413793103448276,
          0.28125,
          0.2647058823529412,
          0.2676056338028169,
          0.273972602739726,
          0.26666666666666666,
          0.2597402597402597,
          0.26582278481012656,
          0.2625,
          0.2619047619047619,
          0.25,
          0.25555555555555554,
          0.25806451612903225,
          0.25263157894736843,
          0.2604166666666667,
          0.25252525252525254,
          0.25,
          0.2621359223300971
         ]
        },
        {
         "mode": "lines",
         "name": "Pos Recall",
         "type": "scatter",
         "x": [
          0.3,
          0.31,
          0.32,
          0.33,
          0.34,
          0.35000000000000003,
          0.36000000000000004,
          0.37000000000000005,
          0.38000000000000006,
          0.39000000000000007,
          0.4000000000000001,
          0.4100000000000001,
          0.4200000000000001,
          0.4300000000000001,
          0.4400000000000001,
          0.4500000000000001,
          0.46000000000000013,
          0.47000000000000014,
          0.48000000000000015,
          0.49000000000000016,
          0.5000000000000002,
          0.5100000000000002,
          0.5200000000000002,
          0.5300000000000002,
          0.5400000000000003,
          0.5500000000000003,
          0.5600000000000003,
          0.5700000000000003,
          0.5800000000000003,
          0.5900000000000003,
          0.6000000000000003,
          0.6100000000000003,
          0.6200000000000003,
          0.6300000000000003,
          0.6400000000000003,
          0.6500000000000004,
          0.6600000000000004,
          0.6700000000000004,
          0.6800000000000004,
          0.6900000000000004
         ],
         "y": [
          1,
          0.9947368421052631,
          0.9842105263157894,
          0.9631578947368421,
          0.9578947368421052,
          0.9473684210526315,
          0.9421052631578948,
          0.9368421052631579,
          0.9210526315789473,
          0.8947368421052632,
          0.868421052631579,
          0.8631578947368421,
          0.8578947368421053,
          0.8526315789473684,
          0.8421052631578947,
          0.8368421052631579,
          0.8263157894736842,
          0.8210526315789474,
          0.8,
          0.7947368421052632,
          0.7842105263157895,
          0.7736842105263158,
          0.7684210526315789,
          0.7578947368421053,
          0.7368421052631579,
          0.7263157894736842,
          0.7210526315789474,
          0.7105263157894737,
          0.7,
          0.6947368421052632,
          0.6894736842105263,
          0.6736842105263158,
          0.6526315789473685,
          0.6473684210526316,
          0.6368421052631579,
          0.6263157894736842,
          0.6263157894736842,
          0.6105263157894737,
          0.6052631578947368,
          0.6
         ]
        },
        {
         "mode": "lines",
         "name": "Neg Recall",
         "type": "scatter",
         "x": [
          0.3,
          0.31,
          0.32,
          0.33,
          0.34,
          0.35000000000000003,
          0.36000000000000004,
          0.37000000000000005,
          0.38000000000000006,
          0.39000000000000007,
          0.4000000000000001,
          0.4100000000000001,
          0.4200000000000001,
          0.4300000000000001,
          0.4400000000000001,
          0.4500000000000001,
          0.46000000000000013,
          0.47000000000000014,
          0.48000000000000015,
          0.49000000000000016,
          0.5000000000000002,
          0.5100000000000002,
          0.5200000000000002,
          0.5300000000000002,
          0.5400000000000003,
          0.5500000000000003,
          0.5600000000000003,
          0.5700000000000003,
          0.5800000000000003,
          0.5900000000000003,
          0.6000000000000003,
          0.6100000000000003,
          0.6200000000000003,
          0.6300000000000003,
          0.6400000000000003,
          0.6500000000000004,
          0.6600000000000004,
          0.6700000000000004,
          0.6800000000000004,
          0.6900000000000004
         ],
         "y": [
          0,
          0,
          0.015151515151515152,
          0.015151515151515152,
          0.015151515151515152,
          0.06060606060606061,
          0.06060606060606061,
          0.06060606060606061,
          0.07575757575757576,
          0.12121212121212122,
          0.13636363636363635,
          0.13636363636363635,
          0.13636363636363635,
          0.13636363636363635,
          0.16666666666666666,
          0.16666666666666666,
          0.16666666666666666,
          0.18181818181818182,
          0.19696969696969696,
          0.19696969696969696,
          0.21212121212121213,
          0.21212121212121213,
          0.21212121212121213,
          0.2727272727272727,
          0.2727272727272727,
          0.2878787878787879,
          0.30303030303030304,
          0.30303030303030304,
          0.30303030303030304,
          0.3181818181818182,
          0.3181818181818182,
          0.3333333333333333,
          0.3333333333333333,
          0.3484848484848485,
          0.36363636363636365,
          0.36363636363636365,
          0.3787878787878788,
          0.3787878787878788,
          0.3787878787878788,
          0.4090909090909091
         ]
        },
        {
         "mode": "lines",
         "name": "Pos F1",
         "type": "scatter",
         "x": [
          0.3,
          0.31,
          0.32,
          0.33,
          0.34,
          0.35000000000000003,
          0.36000000000000004,
          0.37000000000000005,
          0.38000000000000006,
          0.39000000000000007,
          0.4000000000000001,
          0.4100000000000001,
          0.4200000000000001,
          0.4300000000000001,
          0.4400000000000001,
          0.4500000000000001,
          0.46000000000000013,
          0.47000000000000014,
          0.48000000000000015,
          0.49000000000000016,
          0.5000000000000002,
          0.5100000000000002,
          0.5200000000000002,
          0.5300000000000002,
          0.5400000000000003,
          0.5500000000000003,
          0.5600000000000003,
          0.5700000000000003,
          0.5800000000000003,
          0.5900000000000003,
          0.6000000000000003,
          0.6100000000000003,
          0.6200000000000003,
          0.6300000000000003,
          0.6400000000000003,
          0.6500000000000004,
          0.6600000000000004,
          0.6700000000000004,
          0.6800000000000004,
          0.6900000000000004
         ],
         "y": [
          0.852017937219731,
          0.849438202247191,
          0.8461538461538461,
          0.8356164383561644,
          0.8329519450800915,
          0.8333333333333333,
          0.8306264501160093,
          0.827906976744186,
          0.8215962441314554,
          0.8133971291866028,
          0.8009708737864077,
          0.7980535279805353,
          0.7951219512195122,
          0.7921760391198045,
          0.7901234567901234,
          0.7871287128712873,
          0.7810945273631841,
          0.78,
          0.769620253164557,
          0.7664974619289341,
          0.7621483375959079,
          0.755784061696658,
          0.7525773195876289,
          0.7539267015706805,
          0.7407407407407407,
          0.7360000000000002,
          0.7345844504021448,
          0.7277628032345014,
          0.7208672086720866,
          0.7193460490463216,
          0.7158469945355191,
          0.707182320441989,
          0.6927374301675978,
          0.6910112359550562,
          0.6855524079320113,
          0.6780626780626781,
          0.68,
          0.6685878962536023,
          0.6647398843930636,
          0.6647230320699709
         ]
        },
        {
         "mode": "lines",
         "name": "Neg F1",
         "type": "scatter",
         "x": [
          0.3,
          0.31,
          0.32,
          0.33,
          0.34,
          0.35000000000000003,
          0.36000000000000004,
          0.37000000000000005,
          0.38000000000000006,
          0.39000000000000007,
          0.4000000000000001,
          0.4100000000000001,
          0.4200000000000001,
          0.4300000000000001,
          0.4400000000000001,
          0.4500000000000001,
          0.46000000000000013,
          0.47000000000000014,
          0.48000000000000015,
          0.49000000000000016,
          0.5000000000000002,
          0.5100000000000002,
          0.5200000000000002,
          0.5300000000000002,
          0.5400000000000003,
          0.5500000000000003,
          0.5600000000000003,
          0.5700000000000003,
          0.5800000000000003,
          0.5900000000000003,
          0.6000000000000003,
          0.6100000000000003,
          0.6200000000000003,
          0.6300000000000003,
          0.6400000000000003,
          0.6500000000000004,
          0.6600000000000004,
          0.6700000000000004,
          0.6800000000000004,
          0.6900000000000004
         ],
         "y": [
          0,
          0,
          0.028571428571428574,
          0.027027027027027032,
          0.02666666666666667,
          0.1,
          0.09876543209876543,
          0.0975609756097561,
          0.11627906976744187,
          0.1702127659574468,
          0.18,
          0.17821782178217818,
          0.1764705882352941,
          0.17475728155339804,
          0.20560747663551404,
          0.20370370370370366,
          0.2,
          0.21428571428571427,
          0.2222222222222222,
          0.22033898305084745,
          0.23140495867768593,
          0.2276422764227642,
          0.22580645161290322,
          0.2769230769230769,
          0.26865671641791045,
          0.2773722627737226,
          0.28776978417266186,
          0.28368794326241137,
          0.2797202797202797,
          0.28965517241379307,
          0.2876712328767123,
          0.29333333333333333,
          0.28571428571428575,
          0.2948717948717949,
          0.3018867924528302,
          0.2981366459627329,
          0.308641975308642,
          0.30303030303030304,
          0.30120481927710846,
          0.31952662721893493
         ]
        },
        {
         "mode": "lines",
         "name": "Matthews",
         "type": "scatter",
         "x": [
          0.3,
          0.31,
          0.32,
          0.33,
          0.34,
          0.35000000000000003,
          0.36000000000000004,
          0.37000000000000005,
          0.38000000000000006,
          0.39000000000000007,
          0.4000000000000001,
          0.4100000000000001,
          0.4200000000000001,
          0.4300000000000001,
          0.4400000000000001,
          0.4500000000000001,
          0.46000000000000013,
          0.47000000000000014,
          0.48000000000000015,
          0.49000000000000016,
          0.5000000000000002,
          0.5100000000000002,
          0.5200000000000002,
          0.5300000000000002,
          0.5400000000000003,
          0.5500000000000003,
          0.5600000000000003,
          0.5700000000000003,
          0.5800000000000003,
          0.5900000000000003,
          0.6000000000000003,
          0.6100000000000003,
          0.6200000000000003,
          0.6300000000000003,
          0.6400000000000003,
          0.6500000000000004,
          0.6600000000000004,
          0.6700000000000004,
          0.6800000000000004,
          0.6900000000000004
         ],
         "y": [
          0,
          -0.036908387964894686,
          -0.0022501473191548593,
          -0.054531733281280345,
          -0.0640174249015725,
          0.015341913539692222,
          0.0050498211620684744,
          -0.0046114297591071645,
          -0.0051992442927704125,
          0.022352946992878313,
          0.006167178752204929,
          -0.0006092174340757127,
          -0.007224721947627512,
          -0.013690124531859022,
          0.010462434656132141,
          0.004144502217742804,
          -0.0081365375903362,
          0.003270884202713723,
          -0.0033187367903246474,
          -0.009017119298399427,
          -0.0039068765628599515,
          -0.014924756972570655,
          -0.02033267253221388,
          0.0309344112444873,
          0.009477615742394693,
          0.01386935279643605,
          0.02333303324263565,
          0.013029574517523625,
          0.002890433288687299,
          0.012233932147735946,
          0.007224721947627512,
          0.006537776013503026,
          -0.01292611223882469,
          -0.0037990873283174,
          0.00043517827430387176,
          -0.009098023121685169,
          0.0046114297591071645,
          -0.009598173731727062,
          -0.014299436656190864,
          0.008109456626670416
         ]
        },
        {
         "mode": "lines",
         "name": "ROC-AUC",
         "type": "scatter",
         "x": [
          0.3,
          0.31,
          0.32,
          0.33,
          0.34,
          0.35000000000000003,
          0.36000000000000004,
          0.37000000000000005,
          0.38000000000000006,
          0.39000000000000007,
          0.4000000000000001,
          0.4100000000000001,
          0.4200000000000001,
          0.4300000000000001,
          0.4400000000000001,
          0.4500000000000001,
          0.46000000000000013,
          0.47000000000000014,
          0.48000000000000015,
          0.49000000000000016,
          0.5000000000000002,
          0.5100000000000002,
          0.5200000000000002,
          0.5300000000000002,
          0.5400000000000003,
          0.5500000000000003,
          0.5600000000000003,
          0.5700000000000003,
          0.5800000000000003,
          0.5900000000000003,
          0.6000000000000003,
          0.6100000000000003,
          0.6200000000000003,
          0.6300000000000003,
          0.6400000000000003,
          0.6500000000000004,
          0.6600000000000004,
          0.6700000000000004,
          0.6800000000000004,
          0.6900000000000004
         ],
         "y": [
          0.4976076555023924,
          0.4976076555023924,
          0.4976076555023924,
          0.4976076555023924,
          0.4976076555023924,
          0.4976076555023924,
          0.4976076555023924,
          0.4976076555023924,
          0.4976076555023924,
          0.4976076555023924,
          0.4976076555023924,
          0.4976076555023924,
          0.4976076555023924,
          0.4976076555023924,
          0.4976076555023924,
          0.4976076555023924,
          0.4976076555023924,
          0.4976076555023924,
          0.4976076555023924,
          0.4976076555023924,
          0.4976076555023924,
          0.4976076555023924,
          0.4976076555023924,
          0.4976076555023924,
          0.4976076555023924,
          0.4976076555023924,
          0.4976076555023924,
          0.4976076555023924,
          0.4976076555023924,
          0.4976076555023924,
          0.4976076555023924,
          0.4976076555023924,
          0.4976076555023924,
          0.4976076555023924,
          0.4976076555023924,
          0.4976076555023924,
          0.4976076555023924,
          0.4976076555023924,
          0.4976076555023924,
          0.4976076555023924
         ]
        }
       ],
       "layout": {
        "template": {
         "data": {
          "bar": [
           {
            "error_x": {
             "color": "#2a3f5f"
            },
            "error_y": {
             "color": "#2a3f5f"
            },
            "marker": {
             "line": {
              "color": "#E5ECF6",
              "width": 0.5
             },
             "pattern": {
              "fillmode": "overlay",
              "size": 10,
              "solidity": 0.2
             }
            },
            "type": "bar"
           }
          ],
          "barpolar": [
           {
            "marker": {
             "line": {
              "color": "#E5ECF6",
              "width": 0.5
             },
             "pattern": {
              "fillmode": "overlay",
              "size": 10,
              "solidity": 0.2
             }
            },
            "type": "barpolar"
           }
          ],
          "carpet": [
           {
            "aaxis": {
             "endlinecolor": "#2a3f5f",
             "gridcolor": "white",
             "linecolor": "white",
             "minorgridcolor": "white",
             "startlinecolor": "#2a3f5f"
            },
            "baxis": {
             "endlinecolor": "#2a3f5f",
             "gridcolor": "white",
             "linecolor": "white",
             "minorgridcolor": "white",
             "startlinecolor": "#2a3f5f"
            },
            "type": "carpet"
           }
          ],
          "choropleth": [
           {
            "colorbar": {
             "outlinewidth": 0,
             "ticks": ""
            },
            "type": "choropleth"
           }
          ],
          "contour": [
           {
            "colorbar": {
             "outlinewidth": 0,
             "ticks": ""
            },
            "colorscale": [
             [
              0,
              "#0d0887"
             ],
             [
              0.1111111111111111,
              "#46039f"
             ],
             [
              0.2222222222222222,
              "#7201a8"
             ],
             [
              0.3333333333333333,
              "#9c179e"
             ],
             [
              0.4444444444444444,
              "#bd3786"
             ],
             [
              0.5555555555555556,
              "#d8576b"
             ],
             [
              0.6666666666666666,
              "#ed7953"
             ],
             [
              0.7777777777777778,
              "#fb9f3a"
             ],
             [
              0.8888888888888888,
              "#fdca26"
             ],
             [
              1,
              "#f0f921"
             ]
            ],
            "type": "contour"
           }
          ],
          "contourcarpet": [
           {
            "colorbar": {
             "outlinewidth": 0,
             "ticks": ""
            },
            "type": "contourcarpet"
           }
          ],
          "heatmap": [
           {
            "colorbar": {
             "outlinewidth": 0,
             "ticks": ""
            },
            "colorscale": [
             [
              0,
              "#0d0887"
             ],
             [
              0.1111111111111111,
              "#46039f"
             ],
             [
              0.2222222222222222,
              "#7201a8"
             ],
             [
              0.3333333333333333,
              "#9c179e"
             ],
             [
              0.4444444444444444,
              "#bd3786"
             ],
             [
              0.5555555555555556,
              "#d8576b"
             ],
             [
              0.6666666666666666,
              "#ed7953"
             ],
             [
              0.7777777777777778,
              "#fb9f3a"
             ],
             [
              0.8888888888888888,
              "#fdca26"
             ],
             [
              1,
              "#f0f921"
             ]
            ],
            "type": "heatmap"
           }
          ],
          "heatmapgl": [
           {
            "colorbar": {
             "outlinewidth": 0,
             "ticks": ""
            },
            "colorscale": [
             [
              0,
              "#0d0887"
             ],
             [
              0.1111111111111111,
              "#46039f"
             ],
             [
              0.2222222222222222,
              "#7201a8"
             ],
             [
              0.3333333333333333,
              "#9c179e"
             ],
             [
              0.4444444444444444,
              "#bd3786"
             ],
             [
              0.5555555555555556,
              "#d8576b"
             ],
             [
              0.6666666666666666,
              "#ed7953"
             ],
             [
              0.7777777777777778,
              "#fb9f3a"
             ],
             [
              0.8888888888888888,
              "#fdca26"
             ],
             [
              1,
              "#f0f921"
             ]
            ],
            "type": "heatmapgl"
           }
          ],
          "histogram": [
           {
            "marker": {
             "pattern": {
              "fillmode": "overlay",
              "size": 10,
              "solidity": 0.2
             }
            },
            "type": "histogram"
           }
          ],
          "histogram2d": [
           {
            "colorbar": {
             "outlinewidth": 0,
             "ticks": ""
            },
            "colorscale": [
             [
              0,
              "#0d0887"
             ],
             [
              0.1111111111111111,
              "#46039f"
             ],
             [
              0.2222222222222222,
              "#7201a8"
             ],
             [
              0.3333333333333333,
              "#9c179e"
             ],
             [
              0.4444444444444444,
              "#bd3786"
             ],
             [
              0.5555555555555556,
              "#d8576b"
             ],
             [
              0.6666666666666666,
              "#ed7953"
             ],
             [
              0.7777777777777778,
              "#fb9f3a"
             ],
             [
              0.8888888888888888,
              "#fdca26"
             ],
             [
              1,
              "#f0f921"
             ]
            ],
            "type": "histogram2d"
           }
          ],
          "histogram2dcontour": [
           {
            "colorbar": {
             "outlinewidth": 0,
             "ticks": ""
            },
            "colorscale": [
             [
              0,
              "#0d0887"
             ],
             [
              0.1111111111111111,
              "#46039f"
             ],
             [
              0.2222222222222222,
              "#7201a8"
             ],
             [
              0.3333333333333333,
              "#9c179e"
             ],
             [
              0.4444444444444444,
              "#bd3786"
             ],
             [
              0.5555555555555556,
              "#d8576b"
             ],
             [
              0.6666666666666666,
              "#ed7953"
             ],
             [
              0.7777777777777778,
              "#fb9f3a"
             ],
             [
              0.8888888888888888,
              "#fdca26"
             ],
             [
              1,
              "#f0f921"
             ]
            ],
            "type": "histogram2dcontour"
           }
          ],
          "mesh3d": [
           {
            "colorbar": {
             "outlinewidth": 0,
             "ticks": ""
            },
            "type": "mesh3d"
           }
          ],
          "parcoords": [
           {
            "line": {
             "colorbar": {
              "outlinewidth": 0,
              "ticks": ""
             }
            },
            "type": "parcoords"
           }
          ],
          "pie": [
           {
            "automargin": true,
            "type": "pie"
           }
          ],
          "scatter": [
           {
            "fillpattern": {
             "fillmode": "overlay",
             "size": 10,
             "solidity": 0.2
            },
            "type": "scatter"
           }
          ],
          "scatter3d": [
           {
            "line": {
             "colorbar": {
              "outlinewidth": 0,
              "ticks": ""
             }
            },
            "marker": {
             "colorbar": {
              "outlinewidth": 0,
              "ticks": ""
             }
            },
            "type": "scatter3d"
           }
          ],
          "scattercarpet": [
           {
            "marker": {
             "colorbar": {
              "outlinewidth": 0,
              "ticks": ""
             }
            },
            "type": "scattercarpet"
           }
          ],
          "scattergeo": [
           {
            "marker": {
             "colorbar": {
              "outlinewidth": 0,
              "ticks": ""
             }
            },
            "type": "scattergeo"
           }
          ],
          "scattergl": [
           {
            "marker": {
             "colorbar": {
              "outlinewidth": 0,
              "ticks": ""
             }
            },
            "type": "scattergl"
           }
          ],
          "scattermapbox": [
           {
            "marker": {
             "colorbar": {
              "outlinewidth": 0,
              "ticks": ""
             }
            },
            "type": "scattermapbox"
           }
          ],
          "scatterpolar": [
           {
            "marker": {
             "colorbar": {
              "outlinewidth": 0,
              "ticks": ""
             }
            },
            "type": "scatterpolar"
           }
          ],
          "scatterpolargl": [
           {
            "marker": {
             "colorbar": {
              "outlinewidth": 0,
              "ticks": ""
             }
            },
            "type": "scatterpolargl"
           }
          ],
          "scatterternary": [
           {
            "marker": {
             "colorbar": {
              "outlinewidth": 0,
              "ticks": ""
             }
            },
            "type": "scatterternary"
           }
          ],
          "surface": [
           {
            "colorbar": {
             "outlinewidth": 0,
             "ticks": ""
            },
            "colorscale": [
             [
              0,
              "#0d0887"
             ],
             [
              0.1111111111111111,
              "#46039f"
             ],
             [
              0.2222222222222222,
              "#7201a8"
             ],
             [
              0.3333333333333333,
              "#9c179e"
             ],
             [
              0.4444444444444444,
              "#bd3786"
             ],
             [
              0.5555555555555556,
              "#d8576b"
             ],
             [
              0.6666666666666666,
              "#ed7953"
             ],
             [
              0.7777777777777778,
              "#fb9f3a"
             ],
             [
              0.8888888888888888,
              "#fdca26"
             ],
             [
              1,
              "#f0f921"
             ]
            ],
            "type": "surface"
           }
          ],
          "table": [
           {
            "cells": {
             "fill": {
              "color": "#EBF0F8"
             },
             "line": {
              "color": "white"
             }
            },
            "header": {
             "fill": {
              "color": "#C8D4E3"
             },
             "line": {
              "color": "white"
             }
            },
            "type": "table"
           }
          ]
         },
         "layout": {
          "annotationdefaults": {
           "arrowcolor": "#2a3f5f",
           "arrowhead": 0,
           "arrowwidth": 1
          },
          "autotypenumbers": "strict",
          "coloraxis": {
           "colorbar": {
            "outlinewidth": 0,
            "ticks": ""
           }
          },
          "colorscale": {
           "diverging": [
            [
             0,
             "#8e0152"
            ],
            [
             0.1,
             "#c51b7d"
            ],
            [
             0.2,
             "#de77ae"
            ],
            [
             0.3,
             "#f1b6da"
            ],
            [
             0.4,
             "#fde0ef"
            ],
            [
             0.5,
             "#f7f7f7"
            ],
            [
             0.6,
             "#e6f5d0"
            ],
            [
             0.7,
             "#b8e186"
            ],
            [
             0.8,
             "#7fbc41"
            ],
            [
             0.9,
             "#4d9221"
            ],
            [
             1,
             "#276419"
            ]
           ],
           "sequential": [
            [
             0,
             "#0d0887"
            ],
            [
             0.1111111111111111,
             "#46039f"
            ],
            [
             0.2222222222222222,
             "#7201a8"
            ],
            [
             0.3333333333333333,
             "#9c179e"
            ],
            [
             0.4444444444444444,
             "#bd3786"
            ],
            [
             0.5555555555555556,
             "#d8576b"
            ],
            [
             0.6666666666666666,
             "#ed7953"
            ],
            [
             0.7777777777777778,
             "#fb9f3a"
            ],
            [
             0.8888888888888888,
             "#fdca26"
            ],
            [
             1,
             "#f0f921"
            ]
           ],
           "sequentialminus": [
            [
             0,
             "#0d0887"
            ],
            [
             0.1111111111111111,
             "#46039f"
            ],
            [
             0.2222222222222222,
             "#7201a8"
            ],
            [
             0.3333333333333333,
             "#9c179e"
            ],
            [
             0.4444444444444444,
             "#bd3786"
            ],
            [
             0.5555555555555556,
             "#d8576b"
            ],
            [
             0.6666666666666666,
             "#ed7953"
            ],
            [
             0.7777777777777778,
             "#fb9f3a"
            ],
            [
             0.8888888888888888,
             "#fdca26"
            ],
            [
             1,
             "#f0f921"
            ]
           ]
          },
          "colorway": [
           "#636efa",
           "#EF553B",
           "#00cc96",
           "#ab63fa",
           "#FFA15A",
           "#19d3f3",
           "#FF6692",
           "#B6E880",
           "#FF97FF",
           "#FECB52"
          ],
          "font": {
           "color": "#2a3f5f"
          },
          "geo": {
           "bgcolor": "white",
           "lakecolor": "white",
           "landcolor": "#E5ECF6",
           "showlakes": true,
           "showland": true,
           "subunitcolor": "white"
          },
          "hoverlabel": {
           "align": "left"
          },
          "hovermode": "closest",
          "mapbox": {
           "style": "light"
          },
          "paper_bgcolor": "white",
          "plot_bgcolor": "#E5ECF6",
          "polar": {
           "angularaxis": {
            "gridcolor": "white",
            "linecolor": "white",
            "ticks": ""
           },
           "bgcolor": "#E5ECF6",
           "radialaxis": {
            "gridcolor": "white",
            "linecolor": "white",
            "ticks": ""
           }
          },
          "scene": {
           "xaxis": {
            "backgroundcolor": "#E5ECF6",
            "gridcolor": "white",
            "gridwidth": 2,
            "linecolor": "white",
            "showbackground": true,
            "ticks": "",
            "zerolinecolor": "white"
           },
           "yaxis": {
            "backgroundcolor": "#E5ECF6",
            "gridcolor": "white",
            "gridwidth": 2,
            "linecolor": "white",
            "showbackground": true,
            "ticks": "",
            "zerolinecolor": "white"
           },
           "zaxis": {
            "backgroundcolor": "#E5ECF6",
            "gridcolor": "white",
            "gridwidth": 2,
            "linecolor": "white",
            "showbackground": true,
            "ticks": "",
            "zerolinecolor": "white"
           }
          },
          "shapedefaults": {
           "line": {
            "color": "#2a3f5f"
           }
          },
          "ternary": {
           "aaxis": {
            "gridcolor": "white",
            "linecolor": "white",
            "ticks": ""
           },
           "baxis": {
            "gridcolor": "white",
            "linecolor": "white",
            "ticks": ""
           },
           "bgcolor": "#E5ECF6",
           "caxis": {
            "gridcolor": "white",
            "linecolor": "white",
            "ticks": ""
           }
          },
          "title": {
           "x": 0.05
          },
          "xaxis": {
           "automargin": true,
           "gridcolor": "white",
           "linecolor": "white",
           "ticks": "",
           "title": {
            "standoff": 15
           },
           "zerolinecolor": "white",
           "zerolinewidth": 2
          },
          "yaxis": {
           "automargin": true,
           "gridcolor": "white",
           "linecolor": "white",
           "ticks": "",
           "title": {
            "standoff": 15
           },
           "zerolinecolor": "white",
           "zerolinewidth": 2
          }
         }
        },
        "title": {
         "text": "Threshold vs. Metric Scores"
        },
        "xaxis": {
         "title": {
          "text": "Threshold"
         }
        },
        "yaxis": {
         "title": {
          "text": "Score"
         }
        }
       }
      }
     },
     "metadata": {},
     "output_type": "display_data"
    }
   ],
   "source": [
    "ytruem = pd.read_csv('data/annotationData/MaleAnnotationsetFilled.csv', sep=';')\n",
    "ytruef = pd.read_csv('data/annotationData/FemaleAnnotationsetFilled.csv', sep=';')\n",
    "\n",
    "\n",
    "precisions = []\n",
    "recalls = []\n",
    "f1_scores = []\n",
    "tprs = []\n",
    "fprs = []\n",
    "mccs = []\n",
    "rocs = []\n",
    "\n",
    "thresholds = list(np.arange(0.3,0.7,0.01))\n",
    "# thresholds = [0.5]\n",
    "gender = 'total'\n",
    "\n",
    "if gender == 'female':\n",
    "    ytrue = ytruef\n",
    "if gender == 'male':\n",
    "    ytrue = ytruem\n",
    "if gender == 'total':\n",
    "    ytrue = pd.concat([ytruef,ytruem]).reset_index()\n",
    "\n",
    "for threshold in thresholds:\n",
    "    ypred = getPred(pd.read_json(f'data/annotationData/{gender}data.json'), threshold)\n",
    "    dataset = []\n",
    "    for x in range(len(ytrue)):\n",
    "        for i in range(1,30,3):\n",
    "            try:\n",
    "                obj = ast.literal_eval(ytrue[str(i)][x])\n",
    "                symp =list(obj.keys())[0]\n",
    "                true = ytrue[str(i+1)][x]\n",
    "                pred = ypred[i+1][x]\n",
    "                prob = ypred[i+2][x]\n",
    "                data = {'post':x,'symptom': symp, 'true':int(true), 'pred':int(pred), 'prob':float(prob)}\n",
    "                dataset.append(data)\n",
    "            except:\n",
    "                continue\n",
    "    df = pd.DataFrame(dataset)\n",
    "    true = df['true']\n",
    "    pred = df['pred']\n",
    "    prob = df['prob']\n",
    "    tn, fp, fn, tp = confusion_matrix(true, pred).ravel()\n",
    "    precisions.append(precision_score(true, pred))\n",
    "    recalls.append(recall_score(true, pred))\n",
    "    f1_scores.append(f1_score(true, pred))\n",
    "    mccs.append(matthews_corrcoef(true, pred))\n",
    "    rocs.append(roc_auc_score(true,prob))\n",
    "    # symptompredictions for further analysis\n",
    "    # df.to_csv('data/predictionData/symptomPred0.5m.csv')\n",
    "\n",
    "\n",
    "fig= go.Figure()\n",
    "fig.add_trace(go.Scatter(x=thresholds, y=precisions, mode='lines', name='Precision'))\n",
    "fig.add_trace(go.Scatter(x=thresholds, y=recalls, mode='lines', name='Recall'))\n",
    "fig.add_trace(go.Scatter(x=thresholds, y=f1_scores, mode='lines', name='F1 Score'))\n",
    "fig.add_trace(go.Scatter(x=thresholds, y=mccs, mode='lines', name='Matthews'))\n",
    "fig.add_trace(go.Scatter(x=thresholds, y=rocs, mode='lines', name='ROC-AUC'))\n",
    "\n",
    "fig.update_layout(title='Threshold vs. Metric Scores',\n",
    "                  xaxis_title='Threshold',\n",
    "                  yaxis_title='Score')\n",
    "\n",
    "fig.show()"
   ]
  },
  {
   "cell_type": "code",
   "execution_count": 6,
   "metadata": {},
   "outputs": [],
   "source": [
    "ytruem = pd.read_csv('data/annotationData/MaleAnnotationsetFilled.csv', sep=';')\n",
    "ytruef = pd.read_csv('data/annotationData/FemaleAnnotationsetFilled.csv', sep=';')\n",
    "\n",
    "threshold = 0.5\n",
    "gender = 'total'\n",
    "\n",
    "if gender == 'female':\n",
    "    ytrue = ytruef\n",
    "if gender == 'male':\n",
    "    ytrue = ytruem\n",
    "if gender == 'total':\n",
    "    ytrue = pd.concat([ytruef,ytruem]).reset_index()\n",
    "\n",
    "\n",
    "ypred = getPred(pd.read_json(f'data/annotationData/{gender}data.json'), threshold)\n",
    "dataset = []\n",
    "for x in range(len(ytrue)):\n",
    "    for i in range(1,30,3):\n",
    "        try:\n",
    "            obj = ast.literal_eval(ytrue[str(i)][x])\n",
    "            symp =list(obj.keys())[0]\n",
    "            true = ytrue[str(i+1)][x]\n",
    "            pred = ypred[i+1][x]\n",
    "            prob = ypred[i+2][x]\n",
    "            data = {'post':x,'symptom': symp, 'true':int(true), 'pred':int(pred), 'prob':float(prob)}\n",
    "            dataset.append(data)\n",
    "        except:\n",
    "            continue\n",
    "df = pd.DataFrame(dataset)\n",
    "true = df['true']\n",
    "pred = df['pred']\n",
    "prob = df['prob']\n",
    "precision = precision_score(true, pred)\n",
    "recall = recall_score(true, pred)\n",
    "f1 = f1_score(true, pred)\n",
    "auc = roc_auc_score(true, prob)\n",
    "mcc = matthews_corrcoef(true, pred)\n",
    "tn, fp, fn, tp = confusion_matrix(true, pred).ravel()\n",
    "\n"
   ]
  },
  {
   "cell_type": "code",
   "execution_count": 20,
   "metadata": {},
   "outputs": [
    {
     "data": {
      "text/plain": [
       "AUC-ROC                  0.605284\n",
       "F1 (Negative)            0.301887\n",
       "F1 (Positive)            0.812183\n",
       "MCC                      0.114187\n",
       "Precision (Negative)     0.296296\n",
       "Precision (Positive)     0.816327\n",
       "Recall (Negative)        0.307692\n",
       "Recall (Positive)        0.808081\n",
       "Support (Negative)      26.000000\n",
       "Support (Positive)      99.000000\n",
       "TNR                      0.307692\n",
       "TPR                      0.808081\n",
       "Name: Total, dtype: float64"
      ]
     },
     "metadata": {},
     "output_type": "display_data"
    }
   ],
   "source": [
    "# data = pd.read_csv('data/predictionData/symptomPred0.5.csv')\n",
    "dff = pd.read_csv('data/predictionData/thresholds/symptomPred0.5f.csv')\n",
    "dfm = pd.read_csv('data/predictionData/thresholds/symptomPred0.5m.csv')\n",
    "\n",
    "import pandas as pd\n",
    "from sklearn.metrics import classification_report, roc_auc_score, matthews_corrcoef\n",
    "\n",
    "metrics = {}\n",
    "\n",
    "data = dfm\n",
    "\n",
    "total_report = classification_report(data['true'], data['pred'], output_dict=True, zero_division=0)\n",
    "total_metrics = {\n",
    "        'Precision (Positive)': total_report['1']['precision'] if '1' in total_report else 0,\n",
    "        'Recall (Positive)': total_report['1']['recall'] if '1' in total_report else 0,\n",
    "        'F1 (Positive)': total_report['1']['f1-score'] if '1' in total_report else 0,\n",
    "        'Support (Positive)': total_report['1']['support'] if '1' in total_report else 0,\n",
    "        \n",
    "        'Precision (Negative)': total_report['0']['precision'] if '0' in total_report else 0,\n",
    "        'Recall (Negative)': total_report['0']['recall'] if '0' in total_report else 0,\n",
    "        'F1 (Negative)': total_report['0']['f1-score'] if '0' in total_report else 0,\n",
    "        'Support (Negative)': total_report['0']['support'] if '0' in total_report else 0,\n",
    "}\n",
    "\n",
    "if len(data['true'].unique()) > 1:\n",
    "    total_metrics['AUC-ROC'] = roc_auc_score(data['true'], data['prob'])\n",
    "else:\n",
    "    total_metrics['AUC-ROC'] = 'N/A'\n",
    "\n",
    "total_metrics['MCC'] = matthews_corrcoef(data['true'], data['pred'])\n",
    "tn, fp, fn, tp = confusion_matrix(data['true'], data['pred']).ravel()\n",
    "total_metrics['TPR'] = tp / (tp + fn)\n",
    "total_metrics['TNR'] = tn / (tn + fp)\n",
    "\n",
    "metrics['Total'] = total_metrics\n",
    "\n",
    "\n",
    "display(pd.DataFrame(metrics)['Total'])"
   ]
  }
 ],
 "metadata": {
  "kernelspec": {
   "display_name": "OZP-compatibility",
   "language": "python",
   "name": "python3"
  },
  "language_info": {
   "codemirror_mode": {
    "name": "ipython",
    "version": 3
   },
   "file_extension": ".py",
   "mimetype": "text/x-python",
   "name": "python",
   "nbconvert_exporter": "python",
   "pygments_lexer": "ipython3",
   "version": "3.9.18"
  }
 },
 "nbformat": 4,
 "nbformat_minor": 2
}
