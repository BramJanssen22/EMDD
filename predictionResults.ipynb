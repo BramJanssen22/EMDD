{
 "cells": [
  {
   "cell_type": "code",
   "execution_count": 19,
   "metadata": {},
   "outputs": [],
   "source": [
    "import pandas as pd\n",
    "import numpy as np\n",
    "import ast\n",
    "import matplotlib.pyplot as plt\n",
    "import plotly.graph_objects as go\n",
    "from sklearn.metrics import confusion_matrix, precision_score, recall_score, f1_score, classification_report, accuracy_score, matthews_corrcoef, roc_auc_score\n"
   ]
  },
  {
   "cell_type": "markdown",
   "metadata": {},
   "source": [
    "### Binary prediction Metrics"
   ]
  },
  {
   "cell_type": "code",
   "execution_count": 2,
   "metadata": {},
   "outputs": [],
   "source": [
    "# Performance measures\n",
    "\n",
    "def prediction_measures(y_test,ypred):\n",
    "    performance = classification_report(y_test,ypred,output_dict=True)\n",
    "    return performance['depression'],performance['normal'],performance['accuracy']\n"
   ]
  },
  {
   "cell_type": "code",
   "execution_count": 12,
   "metadata": {},
   "outputs": [],
   "source": [
    "# All measurements\n",
    "\n",
    "def all_measures(predsensitive, truesensitive, predother, trueother, name='test',single=False):\n",
    "    score_dict = {}\n",
    "    score_dict['predictor'] = name\n",
    "    # Metrics for sensitive group\n",
    "    depression_performance, normal_performance ,accuracy = prediction_measures(predsensitive,truesensitive)\n",
    "    score_dict['depressionSensPrecision'] = depression_performance['precision']\n",
    "    score_dict['depressionSensRecall'] = depression_performance['recall']\n",
    "    score_dict['depressionSensF1'] = depression_performance['f1-score']\n",
    "    score_dict['depressionSensSupport'] = depression_performance['support']\n",
    "    score_dict['normalSensPrecision'] = normal_performance['precision']\n",
    "    score_dict['normalSensRecall'] = normal_performance['recall']\n",
    "    score_dict['normalSensF1'] = normal_performance['f1-score']\n",
    "    score_dict['normalSensSupport'] = normal_performance['support']\n",
    "    score_dict['accuracySens'] = accuracy\n",
    "    score_dict['MCCSens'] = matthews_corrcoef(predsensitive,truesensitive)\n",
    "    if single == False:\n",
    "        # Metrics for other group\n",
    "        depression_performance, normal_performance ,accuracy = prediction_measures(predother,trueother)\n",
    "        score_dict['depressionOtherPrecision'] = depression_performance['precision']\n",
    "        score_dict['depressionOtherRecall'] = depression_performance['recall']\n",
    "        score_dict['depressionOtherF1'] = depression_performance['f1-score']\n",
    "        score_dict['depressionOtherSupport'] = depression_performance['support']\n",
    "        score_dict['normalOtherPrecision'] = normal_performance['precision']\n",
    "        score_dict['normalOtherRecall'] = normal_performance['recall']\n",
    "        score_dict['normalOtherF1'] = normal_performance['f1-score']\n",
    "        score_dict['normalOtherSupport'] = normal_performance['recall']\n",
    "        score_dict['accuracyOther'] = accuracy\n",
    "        score_dict['MCCOther'] = matthews_corrcoef(predother,trueother)\n",
    "        # Metrics for total\n",
    "        depression_performance, normal_performance ,accuracy = prediction_measures(pd.concat([predsensitive,predother]),pd.concat([truesensitive,trueother]))\n",
    "        score_dict['depressionTotalPrecision'] = depression_performance['precision']\n",
    "        score_dict['depressionTotalRecall'] = depression_performance['recall']\n",
    "        score_dict['depressionTotalF1'] = depression_performance['f1-score']\n",
    "        score_dict['depressionTotalSupport'] = depression_performance['support']\n",
    "        score_dict['normalTotalPrecision'] = normal_performance['precision']\n",
    "        score_dict['normalTotalRecall'] = normal_performance['recall']\n",
    "        score_dict['normalTotalF1'] = normal_performance['f1-score']\n",
    "        score_dict['normalTotalSupport'] = normal_performance['recall']\n",
    "        score_dict['accuracyTotal'] = accuracy\n",
    "        score_dict['MCCTotal'] = matthews_corrcoef(pd.concat([predsensitive,predother]),pd.concat([truesensitive,trueother]))\n",
    "        # Fairness metrics between groups\n",
    "        TNS, FPS, FNS, TPS = confusion_matrix(truesensitive, predsensitive).ravel()\n",
    "        TNO, FPO, FNO, TPO = confusion_matrix(trueother,predother).ravel()\n",
    "        score_dict['statisticalParity'] = ((TPS+FPS)/len(truesensitive)) / ((TPO+FPO)/len(trueother))\n",
    "        score_dict['equalOpportunity'] = (TPS / (TPS+FNS)) / (TPO / (TPO+FNO))\n",
    "        score_dict['equalisedOdds'] =  ((TPS / (TPS+FNS)) + (TNS / (TNS+FPS))) / ((TPO / (TPO+FNO))+ (TNO) / (TNO+FPO))\n",
    "        score_dict['equalAccuracy'] = (accuracy_score(truesensitive,predsensitive)/accuracy_score(trueother,predother))\n",
    "    return score_dict"
   ]
  },
  {
   "cell_type": "code",
   "execution_count": 15,
   "metadata": {},
   "outputs": [
    {
     "name": "stderr",
     "output_type": "stream",
     "text": [
      "/Users/bram/anaconda3/lib/python3.11/site-packages/sklearn/metrics/_classification.py:1469: UndefinedMetricWarning: Recall and F-score are ill-defined and being set to 0.0 in labels with no true samples. Use `zero_division` parameter to control this behavior.\n",
      "  _warn_prf(average, modifier, msg_start, len(result))\n",
      "/Users/bram/anaconda3/lib/python3.11/site-packages/sklearn/metrics/_classification.py:1469: UndefinedMetricWarning: Recall and F-score are ill-defined and being set to 0.0 in labels with no true samples. Use `zero_division` parameter to control this behavior.\n",
      "  _warn_prf(average, modifier, msg_start, len(result))\n",
      "/Users/bram/anaconda3/lib/python3.11/site-packages/sklearn/metrics/_classification.py:1469: UndefinedMetricWarning: Recall and F-score are ill-defined and being set to 0.0 in labels with no true samples. Use `zero_division` parameter to control this behavior.\n",
      "  _warn_prf(average, modifier, msg_start, len(result))\n",
      "/Users/bram/anaconda3/lib/python3.11/site-packages/sklearn/metrics/_classification.py:1469: UndefinedMetricWarning: Recall and F-score are ill-defined and being set to 0.0 in labels with no true samples. Use `zero_division` parameter to control this behavior.\n",
      "  _warn_prf(average, modifier, msg_start, len(result))\n",
      "/Users/bram/anaconda3/lib/python3.11/site-packages/sklearn/metrics/_classification.py:1469: UndefinedMetricWarning: Recall and F-score are ill-defined and being set to 0.0 in labels with no true samples. Use `zero_division` parameter to control this behavior.\n",
      "  _warn_prf(average, modifier, msg_start, len(result))\n",
      "/Users/bram/anaconda3/lib/python3.11/site-packages/sklearn/metrics/_classification.py:1469: UndefinedMetricWarning: Recall and F-score are ill-defined and being set to 0.0 in labels with no true samples. Use `zero_division` parameter to control this behavior.\n",
      "  _warn_prf(average, modifier, msg_start, len(result))\n",
      "/Users/bram/anaconda3/lib/python3.11/site-packages/sklearn/metrics/_classification.py:1469: UndefinedMetricWarning: Recall and F-score are ill-defined and being set to 0.0 in labels with no true samples. Use `zero_division` parameter to control this behavior.\n",
      "  _warn_prf(average, modifier, msg_start, len(result))\n",
      "/Users/bram/anaconda3/lib/python3.11/site-packages/sklearn/metrics/_classification.py:1469: UndefinedMetricWarning: Recall and F-score are ill-defined and being set to 0.0 in labels with no true samples. Use `zero_division` parameter to control this behavior.\n",
      "  _warn_prf(average, modifier, msg_start, len(result))\n",
      "/Users/bram/anaconda3/lib/python3.11/site-packages/sklearn/metrics/_classification.py:1469: UndefinedMetricWarning: Recall and F-score are ill-defined and being set to 0.0 in labels with no true samples. Use `zero_division` parameter to control this behavior.\n",
      "  _warn_prf(average, modifier, msg_start, len(result))\n",
      "/var/folders/qw/2ytfcz3d78qfsgsvq73r4dx80000gn/T/ipykernel_1569/3028240561.py:46: RuntimeWarning: invalid value encountered in scalar divide\n",
      "  score_dict['statisticalParity'] = ((TPS+FPS)/len(truesensitive)) / ((TPO+FPO)/len(trueother))\n",
      "/var/folders/qw/2ytfcz3d78qfsgsvq73r4dx80000gn/T/ipykernel_1569/3028240561.py:47: RuntimeWarning: invalid value encountered in scalar divide\n",
      "  score_dict['equalOpportunity'] = (TPS / (TPS+FNS)) / (TPO / (TPO+FNO))\n",
      "/Users/bram/anaconda3/lib/python3.11/site-packages/sklearn/metrics/_classification.py:1469: UndefinedMetricWarning: Recall and F-score are ill-defined and being set to 0.0 in labels with no true samples. Use `zero_division` parameter to control this behavior.\n",
      "  _warn_prf(average, modifier, msg_start, len(result))\n",
      "/Users/bram/anaconda3/lib/python3.11/site-packages/sklearn/metrics/_classification.py:1469: UndefinedMetricWarning: Recall and F-score are ill-defined and being set to 0.0 in labels with no true samples. Use `zero_division` parameter to control this behavior.\n",
      "  _warn_prf(average, modifier, msg_start, len(result))\n",
      "/Users/bram/anaconda3/lib/python3.11/site-packages/sklearn/metrics/_classification.py:1469: UndefinedMetricWarning: Recall and F-score are ill-defined and being set to 0.0 in labels with no true samples. Use `zero_division` parameter to control this behavior.\n",
      "  _warn_prf(average, modifier, msg_start, len(result))\n",
      "/Users/bram/anaconda3/lib/python3.11/site-packages/sklearn/metrics/_classification.py:1469: UndefinedMetricWarning: Recall and F-score are ill-defined and being set to 0.0 in labels with no true samples. Use `zero_division` parameter to control this behavior.\n",
      "  _warn_prf(average, modifier, msg_start, len(result))\n",
      "/Users/bram/anaconda3/lib/python3.11/site-packages/sklearn/metrics/_classification.py:1469: UndefinedMetricWarning: Recall and F-score are ill-defined and being set to 0.0 in labels with no true samples. Use `zero_division` parameter to control this behavior.\n",
      "  _warn_prf(average, modifier, msg_start, len(result))\n",
      "/Users/bram/anaconda3/lib/python3.11/site-packages/sklearn/metrics/_classification.py:1469: UndefinedMetricWarning: Recall and F-score are ill-defined and being set to 0.0 in labels with no true samples. Use `zero_division` parameter to control this behavior.\n",
      "  _warn_prf(average, modifier, msg_start, len(result))\n",
      "/Users/bram/anaconda3/lib/python3.11/site-packages/sklearn/metrics/_classification.py:1469: UndefinedMetricWarning: Recall and F-score are ill-defined and being set to 0.0 in labels with no true samples. Use `zero_division` parameter to control this behavior.\n",
      "  _warn_prf(average, modifier, msg_start, len(result))\n",
      "/Users/bram/anaconda3/lib/python3.11/site-packages/sklearn/metrics/_classification.py:1469: UndefinedMetricWarning: Recall and F-score are ill-defined and being set to 0.0 in labels with no true samples. Use `zero_division` parameter to control this behavior.\n",
      "  _warn_prf(average, modifier, msg_start, len(result))\n",
      "/Users/bram/anaconda3/lib/python3.11/site-packages/sklearn/metrics/_classification.py:1469: UndefinedMetricWarning: Recall and F-score are ill-defined and being set to 0.0 in labels with no true samples. Use `zero_division` parameter to control this behavior.\n",
      "  _warn_prf(average, modifier, msg_start, len(result))\n",
      "/var/folders/qw/2ytfcz3d78qfsgsvq73r4dx80000gn/T/ipykernel_1569/3028240561.py:46: RuntimeWarning: invalid value encountered in scalar divide\n",
      "  score_dict['statisticalParity'] = ((TPS+FPS)/len(truesensitive)) / ((TPO+FPO)/len(trueother))\n",
      "/var/folders/qw/2ytfcz3d78qfsgsvq73r4dx80000gn/T/ipykernel_1569/3028240561.py:47: RuntimeWarning: invalid value encountered in scalar divide\n",
      "  score_dict['equalOpportunity'] = (TPS / (TPS+FNS)) / (TPO / (TPO+FNO))\n",
      "/Users/bram/anaconda3/lib/python3.11/site-packages/sklearn/metrics/_classification.py:1469: UndefinedMetricWarning: Recall and F-score are ill-defined and being set to 0.0 in labels with no true samples. Use `zero_division` parameter to control this behavior.\n",
      "  _warn_prf(average, modifier, msg_start, len(result))\n",
      "/Users/bram/anaconda3/lib/python3.11/site-packages/sklearn/metrics/_classification.py:1469: UndefinedMetricWarning: Recall and F-score are ill-defined and being set to 0.0 in labels with no true samples. Use `zero_division` parameter to control this behavior.\n",
      "  _warn_prf(average, modifier, msg_start, len(result))\n",
      "/Users/bram/anaconda3/lib/python3.11/site-packages/sklearn/metrics/_classification.py:1469: UndefinedMetricWarning: Recall and F-score are ill-defined and being set to 0.0 in labels with no true samples. Use `zero_division` parameter to control this behavior.\n",
      "  _warn_prf(average, modifier, msg_start, len(result))\n",
      "/Users/bram/anaconda3/lib/python3.11/site-packages/sklearn/metrics/_classification.py:1469: UndefinedMetricWarning: Recall and F-score are ill-defined and being set to 0.0 in labels with no true samples. Use `zero_division` parameter to control this behavior.\n",
      "  _warn_prf(average, modifier, msg_start, len(result))\n",
      "/Users/bram/anaconda3/lib/python3.11/site-packages/sklearn/metrics/_classification.py:1469: UndefinedMetricWarning: Recall and F-score are ill-defined and being set to 0.0 in labels with no true samples. Use `zero_division` parameter to control this behavior.\n",
      "  _warn_prf(average, modifier, msg_start, len(result))\n",
      "/Users/bram/anaconda3/lib/python3.11/site-packages/sklearn/metrics/_classification.py:1469: UndefinedMetricWarning: Recall and F-score are ill-defined and being set to 0.0 in labels with no true samples. Use `zero_division` parameter to control this behavior.\n",
      "  _warn_prf(average, modifier, msg_start, len(result))\n",
      "/Users/bram/anaconda3/lib/python3.11/site-packages/sklearn/metrics/_classification.py:1469: UndefinedMetricWarning: Recall and F-score are ill-defined and being set to 0.0 in labels with no true samples. Use `zero_division` parameter to control this behavior.\n",
      "  _warn_prf(average, modifier, msg_start, len(result))\n",
      "/Users/bram/anaconda3/lib/python3.11/site-packages/sklearn/metrics/_classification.py:1469: UndefinedMetricWarning: Recall and F-score are ill-defined and being set to 0.0 in labels with no true samples. Use `zero_division` parameter to control this behavior.\n",
      "  _warn_prf(average, modifier, msg_start, len(result))\n",
      "/Users/bram/anaconda3/lib/python3.11/site-packages/sklearn/metrics/_classification.py:1469: UndefinedMetricWarning: Recall and F-score are ill-defined and being set to 0.0 in labels with no true samples. Use `zero_division` parameter to control this behavior.\n",
      "  _warn_prf(average, modifier, msg_start, len(result))\n",
      "/var/folders/qw/2ytfcz3d78qfsgsvq73r4dx80000gn/T/ipykernel_1569/3028240561.py:46: RuntimeWarning: invalid value encountered in scalar divide\n",
      "  score_dict['statisticalParity'] = ((TPS+FPS)/len(truesensitive)) / ((TPO+FPO)/len(trueother))\n",
      "/var/folders/qw/2ytfcz3d78qfsgsvq73r4dx80000gn/T/ipykernel_1569/3028240561.py:47: RuntimeWarning: invalid value encountered in scalar divide\n",
      "  score_dict['equalOpportunity'] = (TPS / (TPS+FNS)) / (TPO / (TPO+FNO))\n",
      "/Users/bram/anaconda3/lib/python3.11/site-packages/sklearn/metrics/_classification.py:1469: UndefinedMetricWarning: Recall and F-score are ill-defined and being set to 0.0 in labels with no true samples. Use `zero_division` parameter to control this behavior.\n",
      "  _warn_prf(average, modifier, msg_start, len(result))\n",
      "/Users/bram/anaconda3/lib/python3.11/site-packages/sklearn/metrics/_classification.py:1469: UndefinedMetricWarning: Recall and F-score are ill-defined and being set to 0.0 in labels with no true samples. Use `zero_division` parameter to control this behavior.\n",
      "  _warn_prf(average, modifier, msg_start, len(result))\n",
      "/Users/bram/anaconda3/lib/python3.11/site-packages/sklearn/metrics/_classification.py:1469: UndefinedMetricWarning: Recall and F-score are ill-defined and being set to 0.0 in labels with no true samples. Use `zero_division` parameter to control this behavior.\n",
      "  _warn_prf(average, modifier, msg_start, len(result))\n",
      "/Users/bram/anaconda3/lib/python3.11/site-packages/sklearn/metrics/_classification.py:1469: UndefinedMetricWarning: Recall and F-score are ill-defined and being set to 0.0 in labels with no true samples. Use `zero_division` parameter to control this behavior.\n",
      "  _warn_prf(average, modifier, msg_start, len(result))\n",
      "/Users/bram/anaconda3/lib/python3.11/site-packages/sklearn/metrics/_classification.py:1469: UndefinedMetricWarning: Recall and F-score are ill-defined and being set to 0.0 in labels with no true samples. Use `zero_division` parameter to control this behavior.\n",
      "  _warn_prf(average, modifier, msg_start, len(result))\n",
      "/Users/bram/anaconda3/lib/python3.11/site-packages/sklearn/metrics/_classification.py:1469: UndefinedMetricWarning: Recall and F-score are ill-defined and being set to 0.0 in labels with no true samples. Use `zero_division` parameter to control this behavior.\n",
      "  _warn_prf(average, modifier, msg_start, len(result))\n",
      "/Users/bram/anaconda3/lib/python3.11/site-packages/sklearn/metrics/_classification.py:1469: UndefinedMetricWarning: Recall and F-score are ill-defined and being set to 0.0 in labels with no true samples. Use `zero_division` parameter to control this behavior.\n",
      "  _warn_prf(average, modifier, msg_start, len(result))\n",
      "/Users/bram/anaconda3/lib/python3.11/site-packages/sklearn/metrics/_classification.py:1469: UndefinedMetricWarning: Recall and F-score are ill-defined and being set to 0.0 in labels with no true samples. Use `zero_division` parameter to control this behavior.\n",
      "  _warn_prf(average, modifier, msg_start, len(result))\n",
      "/Users/bram/anaconda3/lib/python3.11/site-packages/sklearn/metrics/_classification.py:1469: UndefinedMetricWarning: Recall and F-score are ill-defined and being set to 0.0 in labels with no true samples. Use `zero_division` parameter to control this behavior.\n",
      "  _warn_prf(average, modifier, msg_start, len(result))\n",
      "/var/folders/qw/2ytfcz3d78qfsgsvq73r4dx80000gn/T/ipykernel_1569/3028240561.py:46: RuntimeWarning: invalid value encountered in scalar divide\n",
      "  score_dict['statisticalParity'] = ((TPS+FPS)/len(truesensitive)) / ((TPO+FPO)/len(trueother))\n",
      "/var/folders/qw/2ytfcz3d78qfsgsvq73r4dx80000gn/T/ipykernel_1569/3028240561.py:47: RuntimeWarning: invalid value encountered in scalar divide\n",
      "  score_dict['equalOpportunity'] = (TPS / (TPS+FNS)) / (TPO / (TPO+FNO))\n",
      "/Users/bram/anaconda3/lib/python3.11/site-packages/sklearn/metrics/_classification.py:1469: UndefinedMetricWarning: Recall and F-score are ill-defined and being set to 0.0 in labels with no true samples. Use `zero_division` parameter to control this behavior.\n",
      "  _warn_prf(average, modifier, msg_start, len(result))\n",
      "/Users/bram/anaconda3/lib/python3.11/site-packages/sklearn/metrics/_classification.py:1469: UndefinedMetricWarning: Recall and F-score are ill-defined and being set to 0.0 in labels with no true samples. Use `zero_division` parameter to control this behavior.\n",
      "  _warn_prf(average, modifier, msg_start, len(result))\n",
      "/Users/bram/anaconda3/lib/python3.11/site-packages/sklearn/metrics/_classification.py:1469: UndefinedMetricWarning: Recall and F-score are ill-defined and being set to 0.0 in labels with no true samples. Use `zero_division` parameter to control this behavior.\n",
      "  _warn_prf(average, modifier, msg_start, len(result))\n",
      "/Users/bram/anaconda3/lib/python3.11/site-packages/sklearn/metrics/_classification.py:1469: UndefinedMetricWarning: Recall and F-score are ill-defined and being set to 0.0 in labels with no true samples. Use `zero_division` parameter to control this behavior.\n",
      "  _warn_prf(average, modifier, msg_start, len(result))\n",
      "/Users/bram/anaconda3/lib/python3.11/site-packages/sklearn/metrics/_classification.py:1469: UndefinedMetricWarning: Recall and F-score are ill-defined and being set to 0.0 in labels with no true samples. Use `zero_division` parameter to control this behavior.\n",
      "  _warn_prf(average, modifier, msg_start, len(result))\n",
      "/Users/bram/anaconda3/lib/python3.11/site-packages/sklearn/metrics/_classification.py:1469: UndefinedMetricWarning: Recall and F-score are ill-defined and being set to 0.0 in labels with no true samples. Use `zero_division` parameter to control this behavior.\n",
      "  _warn_prf(average, modifier, msg_start, len(result))\n",
      "/Users/bram/anaconda3/lib/python3.11/site-packages/sklearn/metrics/_classification.py:1469: UndefinedMetricWarning: Recall and F-score are ill-defined and being set to 0.0 in labels with no true samples. Use `zero_division` parameter to control this behavior.\n",
      "  _warn_prf(average, modifier, msg_start, len(result))\n",
      "/Users/bram/anaconda3/lib/python3.11/site-packages/sklearn/metrics/_classification.py:1469: UndefinedMetricWarning: Recall and F-score are ill-defined and being set to 0.0 in labels with no true samples. Use `zero_division` parameter to control this behavior.\n",
      "  _warn_prf(average, modifier, msg_start, len(result))\n",
      "/Users/bram/anaconda3/lib/python3.11/site-packages/sklearn/metrics/_classification.py:1469: UndefinedMetricWarning: Recall and F-score are ill-defined and being set to 0.0 in labels with no true samples. Use `zero_division` parameter to control this behavior.\n",
      "  _warn_prf(average, modifier, msg_start, len(result))\n",
      "/var/folders/qw/2ytfcz3d78qfsgsvq73r4dx80000gn/T/ipykernel_1569/3028240561.py:46: RuntimeWarning: invalid value encountered in scalar divide\n",
      "  score_dict['statisticalParity'] = ((TPS+FPS)/len(truesensitive)) / ((TPO+FPO)/len(trueother))\n",
      "/var/folders/qw/2ytfcz3d78qfsgsvq73r4dx80000gn/T/ipykernel_1569/3028240561.py:47: RuntimeWarning: invalid value encountered in scalar divide\n",
      "  score_dict['equalOpportunity'] = (TPS / (TPS+FNS)) / (TPO / (TPO+FNO))\n"
     ]
    }
   ],
   "source": [
    "\n",
    "options = ['w2vec','ruleBased','DictionaryBased','TFIDF500','TFIDFEX500','TFIDFIN500','blingfire','reweightedblingfire','nltk','reweightednltk','spacysm','reweightedspacysm','spacylg','reweightedspacylg','spacytrf','reweightedspacytrf']\n",
    "\n",
    "\n",
    "for name in options:\n",
    "    df = pd.read_json(f'data/predictionData/{name}Pred.json', lines=True, orient='records')\n",
    "\n",
    "    pred_male = df.loc[(df['gender'] == 'm') & (df['split'] == 'test'), ['prediction']]\n",
    "    pred_female = df.loc[(df['gender'] == 'f') & (df['split'] == 'test'), ['prediction']]\n",
    "    y_testm = df.loc[(df['gender'] == 'm') & (df['split'] == 'test'), ['label']]\n",
    "    y_testf = df.loc[(df['gender'] == 'f') & (df['split'] == 'test'), ['label']]\n",
    "\n",
    "    score_dict = all_measures(pred_female,y_testf,pred_male,y_testm, name)\n",
    "\n",
    "    try:\n",
    "        df = pd.read_csv('data/results/depressiontestresults.csv')\n",
    "    except:\n",
    "        df = pd.DataFrame()\n",
    "\n",
    "    df_new = pd.DataFrame(score_dict,index=[len(df)])\n",
    "\n",
    "    df = pd.concat([df,df_new],ignore_index=True)\n",
    "\n",
    "    df.to_csv('data/results/depressiontestresults.csv', index=False)"
   ]
  },
  {
   "cell_type": "code",
   "execution_count": 5,
   "metadata": {},
   "outputs": [
    {
     "name": "stdout",
     "output_type": "stream",
     "text": [
      "1.0\n",
      "0.8920208508039849\n"
     ]
    }
   ],
   "source": [
    "df = pd.read_json(f'data/predictionData/TFIDF500Pred.json', lines=True, orient='records')\n",
    "\n",
    "pred_male = df.loc[(df['gender'] == 'm') & (df['split'] == 'test'), ['prediction']]\n",
    "pred_female = df.loc[(df['gender'] == 'f') & (df['split'] == 'test'), ['prediction']]\n",
    "y_testm = df.loc[(df['gender'] == 'm') & (df['split'] == 'test'), ['label']]\n",
    "y_testf = df.loc[(df['gender'] == 'f') & (df['split'] == 'test'), ['label']]\n",
    "\n",
    "print(matthews_corrcoef(y_testm,pred_male))\n",
    "print(matthews_corrcoef(y_testf,pred_female))"
   ]
  },
  {
   "cell_type": "markdown",
   "metadata": {},
   "source": [
    "### Symptom prediction results"
   ]
  },
  {
   "cell_type": "code",
   "execution_count": 6,
   "metadata": {},
   "outputs": [],
   "source": [
    "def getPred(df, threshold):\n",
    "    symps = [\"Anxious_Mood\",\"Autonomic_symptoms\",\"Cardiovascular_symptoms\",\"Catatonic_behavior\",\"Decreased_energy_tiredness_fatigue\",\"Depressed_Mood\",\"Gastrointestinal_symptoms\",\"Genitourinary_symptoms\",\"Hyperactivity_agitation\",\"Impulsivity\",\"Inattention\",\"Indecisiveness\",\"Respiratory_symptoms\",\"Suicidal_ideas\",\"Worthlessness_and_guilty\",\"avoidance_of_stimuli\",\"compensatory_behaviors_to_prevent_weight_gain\",\"compulsions\",\"diminished_emotional_expression\",\"do_things_easily_get_painful_consequences\",\"drastical_shift_in_mood_and_energy\",\"fear_about_social_situations\",\"fear_of_gaining_weight\",\"fears_of_being_negatively_evaluated\",\"flight_of_ideas\",\"intrusion_symptoms\",\"loss_of_interest_or_motivation\",\"more_talktive\",\"obsession\",\"panic_fear\",\"pessimism\",\"poor_memory\",\"sleep_disturbance\",\"somatic_muscle\",\"somatic_symptoms_others\",\"somatic_symptoms_sensory\",\"weight_and_appetite_change\",\"Anger_Irritability\"]\n",
    "\n",
    "    relevant_sents = []\n",
    "    postid = 0\n",
    "    sentid = 0\n",
    "\n",
    "    for post in df['sentences']:\n",
    "        postid += 1\n",
    "        for sent in post:\n",
    "            sentid += 1\n",
    "            meet_threshold = []\n",
    "            if len(sent['sentence'].split()) >= 10:\n",
    "                meet_threshold = [{'id':[postid,sentid],'sentence':sent['sentence']}]\n",
    "                for symptom in symps:\n",
    "                    if sent['probabilities'][symptom] >= 0.3:\n",
    "                        meet_threshold.append({symptom:sent['probabilities'][symptom]})\n",
    "                        if sent['probabilities'][symptom] >= threshold:\n",
    "                            meet_threshold.append('1')\n",
    "                        else:\n",
    "                            meet_threshold.append('0')\n",
    "                        meet_threshold.append(sent['probabilities'][symptom])\n",
    "                if len(meet_threshold) >= 4:\n",
    "                    relevant_sents.append(meet_threshold)\n",
    "            else:\n",
    "                continue\n",
    "    df = pd.DataFrame(relevant_sents)\n",
    "    return df\n"
   ]
  },
  {
   "cell_type": "code",
   "execution_count": 7,
   "metadata": {},
   "outputs": [
    {
     "name": "stdout",
     "output_type": "stream",
     "text": [
      "40\n"
     ]
    }
   ],
   "source": [
    "# Create total set\n",
    "df = pd.concat([pd.read_json(f'data/annotationData/femaledata.json'),pd.read_json(f'data/annotationData/maledata.json')]).reset_index()\n",
    "print(len(df))\n",
    "df.to_json('data/annotationData/totaldata.json', orient='records')"
   ]
  },
  {
   "cell_type": "code",
   "execution_count": 22,
   "metadata": {},
   "outputs": [
    {
     "data": {
      "application/vnd.plotly.v1+json": {
       "config": {
        "plotlyServerURL": "https://plot.ly"
       },
       "data": [
        {
         "mode": "lines",
         "name": "Precision",
         "type": "scatter",
         "x": [
          0.3,
          0.31,
          0.32,
          0.33,
          0.34,
          0.35000000000000003,
          0.36000000000000004,
          0.37000000000000005,
          0.38000000000000006,
          0.39000000000000007,
          0.4000000000000001,
          0.4100000000000001,
          0.4200000000000001,
          0.4300000000000001,
          0.4400000000000001,
          0.4500000000000001,
          0.46000000000000013,
          0.47000000000000014,
          0.48000000000000015,
          0.49000000000000016,
          0.5000000000000002,
          0.5100000000000002,
          0.5200000000000002,
          0.5300000000000002,
          0.5400000000000003,
          0.5500000000000003,
          0.5600000000000003,
          0.5700000000000003,
          0.5800000000000003,
          0.5900000000000003,
          0.6000000000000003,
          0.6100000000000003,
          0.6200000000000003,
          0.6300000000000003,
          0.6400000000000003,
          0.6500000000000004,
          0.6600000000000004,
          0.6700000000000004,
          0.6800000000000004,
          0.6900000000000004,
          0.7000000000000004,
          0.7100000000000004,
          0.7200000000000004,
          0.7300000000000004,
          0.7400000000000004,
          0.7500000000000004,
          0.7600000000000005,
          0.7700000000000005,
          0.7800000000000005,
          0.7900000000000005,
          0.8000000000000005,
          0.8100000000000005,
          0.8200000000000005,
          0.8300000000000005,
          0.8400000000000005,
          0.8500000000000005,
          0.8600000000000005,
          0.8700000000000006,
          0.8800000000000006,
          0.8900000000000006,
          0.9000000000000006,
          0.9100000000000006,
          0.9200000000000006,
          0.9300000000000006,
          0.9400000000000006,
          0.9500000000000006,
          0.9600000000000006,
          0.9700000000000006,
          0.9800000000000006,
          0.9900000000000007
         ],
         "y": [
          0.7421875,
          0.7411764705882353,
          0.7420634920634921,
          0.7379032258064516,
          0.7368421052631579,
          0.743801652892562,
          0.7427385892116183,
          0.7416666666666667,
          0.7415254237288136,
          0.7456140350877193,
          0.7432432432432432,
          0.7420814479638009,
          0.740909090909091,
          0.7397260273972602,
          0.7441860465116279,
          0.7429906542056075,
          0.7405660377358491,
          0.7428571428571429,
          0.7414634146341463,
          0.7401960784313726,
          0.7412935323383084,
          0.7386934673366834,
          0.7373737373737373,
          0.75,
          0.7446808510638298,
          0.745945945945946,
          0.7486338797814208,
          0.7458563535911602,
          0.7430167597765364,
          0.7457627118644068,
          0.7443181818181818,
          0.7441860465116279,
          0.7380952380952381,
          0.7409638554216867,
          0.7423312883435583,
          0.7391304347826086,
          0.74375,
          0.7388535031847133,
          0.7371794871794872,
          0.7450980392156863,
          0.7533333333333333,
          0.7516778523489933,
          0.7465753424657534,
          0.7412587412587412,
          0.7428571428571429,
          0.7426470588235294,
          0.7368421052631579,
          0.7348484848484849,
          0.7322834645669292,
          0.736,
          0.7333333333333333,
          0.7350427350427351,
          0.7327586206896551,
          0.7297297297297297,
          0.7339449541284404,
          0.7289719626168224,
          0.7333333333333333,
          0.73,
          0.7216494845360825,
          0.7282608695652174,
          0.7191011235955056,
          0.7241379310344828,
          0.7439024390243902,
          0.7402597402597403,
          0.7464788732394366,
          0.7424242424242424,
          0.7547169811320755,
          0.7647058823529411,
          0.8,
          0.6666666666666666
         ]
        },
        {
         "mode": "lines",
         "name": "Recall",
         "type": "scatter",
         "x": [
          0.3,
          0.31,
          0.32,
          0.33,
          0.34,
          0.35000000000000003,
          0.36000000000000004,
          0.37000000000000005,
          0.38000000000000006,
          0.39000000000000007,
          0.4000000000000001,
          0.4100000000000001,
          0.4200000000000001,
          0.4300000000000001,
          0.4400000000000001,
          0.4500000000000001,
          0.46000000000000013,
          0.47000000000000014,
          0.48000000000000015,
          0.49000000000000016,
          0.5000000000000002,
          0.5100000000000002,
          0.5200000000000002,
          0.5300000000000002,
          0.5400000000000003,
          0.5500000000000003,
          0.5600000000000003,
          0.5700000000000003,
          0.5800000000000003,
          0.5900000000000003,
          0.6000000000000003,
          0.6100000000000003,
          0.6200000000000003,
          0.6300000000000003,
          0.6400000000000003,
          0.6500000000000004,
          0.6600000000000004,
          0.6700000000000004,
          0.6800000000000004,
          0.6900000000000004,
          0.7000000000000004,
          0.7100000000000004,
          0.7200000000000004,
          0.7300000000000004,
          0.7400000000000004,
          0.7500000000000004,
          0.7600000000000005,
          0.7700000000000005,
          0.7800000000000005,
          0.7900000000000005,
          0.8000000000000005,
          0.8100000000000005,
          0.8200000000000005,
          0.8300000000000005,
          0.8400000000000005,
          0.8500000000000005,
          0.8600000000000005,
          0.8700000000000006,
          0.8800000000000006,
          0.8900000000000006,
          0.9000000000000006,
          0.9100000000000006,
          0.9200000000000006,
          0.9300000000000006,
          0.9400000000000006,
          0.9500000000000006,
          0.9600000000000006,
          0.9700000000000006,
          0.9800000000000006,
          0.9900000000000007
         ],
         "y": [
          1,
          0.9947368421052631,
          0.9842105263157894,
          0.9631578947368421,
          0.9578947368421052,
          0.9473684210526315,
          0.9421052631578948,
          0.9368421052631579,
          0.9210526315789473,
          0.8947368421052632,
          0.868421052631579,
          0.8631578947368421,
          0.8578947368421053,
          0.8526315789473684,
          0.8421052631578947,
          0.8368421052631579,
          0.8263157894736842,
          0.8210526315789474,
          0.8,
          0.7947368421052632,
          0.7842105263157895,
          0.7736842105263158,
          0.7684210526315789,
          0.7578947368421053,
          0.7368421052631579,
          0.7263157894736842,
          0.7210526315789474,
          0.7105263157894737,
          0.7,
          0.6947368421052632,
          0.6894736842105263,
          0.6736842105263158,
          0.6526315789473685,
          0.6473684210526316,
          0.6368421052631579,
          0.6263157894736842,
          0.6263157894736842,
          0.6105263157894737,
          0.6052631578947368,
          0.6,
          0.5947368421052631,
          0.5894736842105263,
          0.5736842105263158,
          0.5578947368421052,
          0.5473684210526316,
          0.531578947368421,
          0.5157894736842106,
          0.5105263157894737,
          0.48947368421052634,
          0.4842105263157895,
          0.4631578947368421,
          0.45263157894736844,
          0.4473684210526316,
          0.4263157894736842,
          0.42105263157894735,
          0.4105263157894737,
          0.4052631578947368,
          0.38421052631578945,
          0.3684210526315789,
          0.3526315789473684,
          0.3368421052631579,
          0.33157894736842103,
          0.32105263157894737,
          0.3,
          0.2789473684210526,
          0.2578947368421053,
          0.21052631578947367,
          0.20526315789473684,
          0.16842105263157894,
          0.06315789473684211
         ]
        },
        {
         "mode": "lines",
         "name": "F1 Score",
         "type": "scatter",
         "x": [
          0.3,
          0.31,
          0.32,
          0.33,
          0.34,
          0.35000000000000003,
          0.36000000000000004,
          0.37000000000000005,
          0.38000000000000006,
          0.39000000000000007,
          0.4000000000000001,
          0.4100000000000001,
          0.4200000000000001,
          0.4300000000000001,
          0.4400000000000001,
          0.4500000000000001,
          0.46000000000000013,
          0.47000000000000014,
          0.48000000000000015,
          0.49000000000000016,
          0.5000000000000002,
          0.5100000000000002,
          0.5200000000000002,
          0.5300000000000002,
          0.5400000000000003,
          0.5500000000000003,
          0.5600000000000003,
          0.5700000000000003,
          0.5800000000000003,
          0.5900000000000003,
          0.6000000000000003,
          0.6100000000000003,
          0.6200000000000003,
          0.6300000000000003,
          0.6400000000000003,
          0.6500000000000004,
          0.6600000000000004,
          0.6700000000000004,
          0.6800000000000004,
          0.6900000000000004,
          0.7000000000000004,
          0.7100000000000004,
          0.7200000000000004,
          0.7300000000000004,
          0.7400000000000004,
          0.7500000000000004,
          0.7600000000000005,
          0.7700000000000005,
          0.7800000000000005,
          0.7900000000000005,
          0.8000000000000005,
          0.8100000000000005,
          0.8200000000000005,
          0.8300000000000005,
          0.8400000000000005,
          0.8500000000000005,
          0.8600000000000005,
          0.8700000000000006,
          0.8800000000000006,
          0.8900000000000006,
          0.9000000000000006,
          0.9100000000000006,
          0.9200000000000006,
          0.9300000000000006,
          0.9400000000000006,
          0.9500000000000006,
          0.9600000000000006,
          0.9700000000000006,
          0.9800000000000006,
          0.9900000000000007
         ],
         "y": [
          0.852017937219731,
          0.849438202247191,
          0.8461538461538461,
          0.8356164383561644,
          0.8329519450800915,
          0.8333333333333333,
          0.8306264501160093,
          0.827906976744186,
          0.8215962441314554,
          0.8133971291866028,
          0.8009708737864077,
          0.7980535279805353,
          0.7951219512195122,
          0.7921760391198045,
          0.7901234567901234,
          0.7871287128712873,
          0.7810945273631841,
          0.78,
          0.769620253164557,
          0.7664974619289341,
          0.7621483375959079,
          0.755784061696658,
          0.7525773195876289,
          0.7539267015706805,
          0.7407407407407407,
          0.7360000000000002,
          0.7345844504021448,
          0.7277628032345014,
          0.7208672086720866,
          0.7193460490463216,
          0.7158469945355191,
          0.707182320441989,
          0.6927374301675978,
          0.6910112359550562,
          0.6855524079320113,
          0.6780626780626781,
          0.68,
          0.6685878962536023,
          0.6647398843930636,
          0.6647230320699709,
          0.6647058823529411,
          0.6607669616519174,
          0.6488095238095238,
          0.6366366366366366,
          0.6303030303030304,
          0.6196319018404908,
          0.606811145510836,
          0.6024844720496895,
          0.5867507886435331,
          0.5841269841269842,
          0.567741935483871,
          0.5602605863192183,
          0.5555555555555556,
          0.5382059800664453,
          0.5351170568561873,
          0.5252525252525252,
          0.5220338983050847,
          0.5034482758620689,
          0.4878048780487805,
          0.475177304964539,
          0.45878136200716846,
          0.45487364620938625,
          0.4485294117647058,
          0.42696629213483145,
          0.40613026819923365,
          0.38281250000000006,
          0.3292181069958848,
          0.3236514522821577,
          0.2782608695652174,
          0.11538461538461539
         ]
        },
        {
         "mode": "lines",
         "name": "Matthews",
         "type": "scatter",
         "x": [
          0.3,
          0.31,
          0.32,
          0.33,
          0.34,
          0.35000000000000003,
          0.36000000000000004,
          0.37000000000000005,
          0.38000000000000006,
          0.39000000000000007,
          0.4000000000000001,
          0.4100000000000001,
          0.4200000000000001,
          0.4300000000000001,
          0.4400000000000001,
          0.4500000000000001,
          0.46000000000000013,
          0.47000000000000014,
          0.48000000000000015,
          0.49000000000000016,
          0.5000000000000002,
          0.5100000000000002,
          0.5200000000000002,
          0.5300000000000002,
          0.5400000000000003,
          0.5500000000000003,
          0.5600000000000003,
          0.5700000000000003,
          0.5800000000000003,
          0.5900000000000003,
          0.6000000000000003,
          0.6100000000000003,
          0.6200000000000003,
          0.6300000000000003,
          0.6400000000000003,
          0.6500000000000004,
          0.6600000000000004,
          0.6700000000000004,
          0.6800000000000004,
          0.6900000000000004,
          0.7000000000000004,
          0.7100000000000004,
          0.7200000000000004,
          0.7300000000000004,
          0.7400000000000004,
          0.7500000000000004,
          0.7600000000000005,
          0.7700000000000005,
          0.7800000000000005,
          0.7900000000000005,
          0.8000000000000005,
          0.8100000000000005,
          0.8200000000000005,
          0.8300000000000005,
          0.8400000000000005,
          0.8500000000000005,
          0.8600000000000005,
          0.8700000000000006,
          0.8800000000000006,
          0.8900000000000006,
          0.9000000000000006,
          0.9100000000000006,
          0.9200000000000006,
          0.9300000000000006,
          0.9400000000000006,
          0.9500000000000006,
          0.9600000000000006,
          0.9700000000000006,
          0.9800000000000006,
          0.9900000000000007
         ],
         "y": [
          0,
          -0.036908387964894686,
          -0.0022501473191548593,
          -0.054531733281280345,
          -0.0640174249015725,
          0.015341913539692222,
          0.0050498211620684744,
          -0.0046114297591071645,
          -0.0051992442927704125,
          0.022352946992878313,
          0.006167178752204929,
          -0.0006092174340757127,
          -0.007224721947627512,
          -0.013690124531859022,
          0.010462434656132141,
          0.004144502217742804,
          -0.0081365375903362,
          0.003270884202713723,
          -0.0033187367903246474,
          -0.009017119298399427,
          -0.0039068765628599515,
          -0.014924756972570655,
          -0.02033267253221388,
          0.0309344112444873,
          0.009477615742394693,
          0.01386935279643605,
          0.02333303324263565,
          0.013029574517523625,
          0.002890433288687299,
          0.012233932147735946,
          0.007224721947627512,
          0.006537776013503026,
          -0.01292611223882469,
          -0.0037990873283174,
          0.00043517827430387176,
          -0.009098023121685169,
          0.0046114297591071645,
          -0.009598173731727062,
          -0.014299436656190864,
          0.008109456626670416,
          0.030310732974272555,
          0.02560205223010083,
          0.011556393180619618,
          -0.0023884871455356394,
          0.0016817810747473967,
          0.0011184359989362025,
          -0.012707035509074854,
          -0.017310320320529676,
          -0.022465205095172455,
          -0.013817382104151763,
          -0.019013411981915442,
          -0.01498527351137865,
          -0.019620779205386296,
          -0.024917760272035523,
          -0.016225838589991565,
          -0.02560205223010083,
          -0.016878935967392438,
          -0.022307121183657748,
          -0.03667220118875363,
          -0.023845653983989166,
          -0.0385286451130542,
          -0.02960562993405041,
          0.0026913624088868732,
          -0.002890433288687299,
          0.006077581562483213,
          0.0003189792663476874,
          0.014635723608848634,
          0.025676542535669637,
          0.05687430036232169,
          -0.04747945712332959
         ]
        },
        {
         "mode": "lines",
         "name": "ROC-AUC",
         "type": "scatter",
         "x": [
          0.3,
          0.31,
          0.32,
          0.33,
          0.34,
          0.35000000000000003,
          0.36000000000000004,
          0.37000000000000005,
          0.38000000000000006,
          0.39000000000000007,
          0.4000000000000001,
          0.4100000000000001,
          0.4200000000000001,
          0.4300000000000001,
          0.4400000000000001,
          0.4500000000000001,
          0.46000000000000013,
          0.47000000000000014,
          0.48000000000000015,
          0.49000000000000016,
          0.5000000000000002,
          0.5100000000000002,
          0.5200000000000002,
          0.5300000000000002,
          0.5400000000000003,
          0.5500000000000003,
          0.5600000000000003,
          0.5700000000000003,
          0.5800000000000003,
          0.5900000000000003,
          0.6000000000000003,
          0.6100000000000003,
          0.6200000000000003,
          0.6300000000000003,
          0.6400000000000003,
          0.6500000000000004,
          0.6600000000000004,
          0.6700000000000004,
          0.6800000000000004,
          0.6900000000000004,
          0.7000000000000004,
          0.7100000000000004,
          0.7200000000000004,
          0.7300000000000004,
          0.7400000000000004,
          0.7500000000000004,
          0.7600000000000005,
          0.7700000000000005,
          0.7800000000000005,
          0.7900000000000005,
          0.8000000000000005,
          0.8100000000000005,
          0.8200000000000005,
          0.8300000000000005,
          0.8400000000000005,
          0.8500000000000005,
          0.8600000000000005,
          0.8700000000000006,
          0.8800000000000006,
          0.8900000000000006,
          0.9000000000000006,
          0.9100000000000006,
          0.9200000000000006,
          0.9300000000000006,
          0.9400000000000006,
          0.9500000000000006,
          0.9600000000000006,
          0.9700000000000006,
          0.9800000000000006,
          0.9900000000000007
         ],
         "y": [
          0.4976076555023924,
          0.4976076555023924,
          0.4976076555023924,
          0.4976076555023924,
          0.4976076555023924,
          0.4976076555023924,
          0.4976076555023924,
          0.4976076555023924,
          0.4976076555023924,
          0.4976076555023924,
          0.4976076555023924,
          0.4976076555023924,
          0.4976076555023924,
          0.4976076555023924,
          0.4976076555023924,
          0.4976076555023924,
          0.4976076555023924,
          0.4976076555023924,
          0.4976076555023924,
          0.4976076555023924,
          0.4976076555023924,
          0.4976076555023924,
          0.4976076555023924,
          0.4976076555023924,
          0.4976076555023924,
          0.4976076555023924,
          0.4976076555023924,
          0.4976076555023924,
          0.4976076555023924,
          0.4976076555023924,
          0.4976076555023924,
          0.4976076555023924,
          0.4976076555023924,
          0.4976076555023924,
          0.4976076555023924,
          0.4976076555023924,
          0.4976076555023924,
          0.4976076555023924,
          0.4976076555023924,
          0.4976076555023924,
          0.4976076555023924,
          0.4976076555023924,
          0.4976076555023924,
          0.4976076555023924,
          0.4976076555023924,
          0.4976076555023924,
          0.4976076555023924,
          0.4976076555023924,
          0.4976076555023924,
          0.4976076555023924,
          0.4976076555023924,
          0.4976076555023924,
          0.4976076555023924,
          0.4976076555023924,
          0.4976076555023924,
          0.4976076555023924,
          0.4976076555023924,
          0.4976076555023924,
          0.4976076555023924,
          0.4976076555023924,
          0.4976076555023924,
          0.4976076555023924,
          0.4976076555023924,
          0.4976076555023924,
          0.4976076555023924,
          0.4976076555023924,
          0.4976076555023924,
          0.4976076555023924,
          0.4976076555023924,
          0.4976076555023924
         ]
        }
       ],
       "layout": {
        "template": {
         "data": {
          "bar": [
           {
            "error_x": {
             "color": "#2a3f5f"
            },
            "error_y": {
             "color": "#2a3f5f"
            },
            "marker": {
             "line": {
              "color": "#E5ECF6",
              "width": 0.5
             },
             "pattern": {
              "fillmode": "overlay",
              "size": 10,
              "solidity": 0.2
             }
            },
            "type": "bar"
           }
          ],
          "barpolar": [
           {
            "marker": {
             "line": {
              "color": "#E5ECF6",
              "width": 0.5
             },
             "pattern": {
              "fillmode": "overlay",
              "size": 10,
              "solidity": 0.2
             }
            },
            "type": "barpolar"
           }
          ],
          "carpet": [
           {
            "aaxis": {
             "endlinecolor": "#2a3f5f",
             "gridcolor": "white",
             "linecolor": "white",
             "minorgridcolor": "white",
             "startlinecolor": "#2a3f5f"
            },
            "baxis": {
             "endlinecolor": "#2a3f5f",
             "gridcolor": "white",
             "linecolor": "white",
             "minorgridcolor": "white",
             "startlinecolor": "#2a3f5f"
            },
            "type": "carpet"
           }
          ],
          "choropleth": [
           {
            "colorbar": {
             "outlinewidth": 0,
             "ticks": ""
            },
            "type": "choropleth"
           }
          ],
          "contour": [
           {
            "colorbar": {
             "outlinewidth": 0,
             "ticks": ""
            },
            "colorscale": [
             [
              0,
              "#0d0887"
             ],
             [
              0.1111111111111111,
              "#46039f"
             ],
             [
              0.2222222222222222,
              "#7201a8"
             ],
             [
              0.3333333333333333,
              "#9c179e"
             ],
             [
              0.4444444444444444,
              "#bd3786"
             ],
             [
              0.5555555555555556,
              "#d8576b"
             ],
             [
              0.6666666666666666,
              "#ed7953"
             ],
             [
              0.7777777777777778,
              "#fb9f3a"
             ],
             [
              0.8888888888888888,
              "#fdca26"
             ],
             [
              1,
              "#f0f921"
             ]
            ],
            "type": "contour"
           }
          ],
          "contourcarpet": [
           {
            "colorbar": {
             "outlinewidth": 0,
             "ticks": ""
            },
            "type": "contourcarpet"
           }
          ],
          "heatmap": [
           {
            "colorbar": {
             "outlinewidth": 0,
             "ticks": ""
            },
            "colorscale": [
             [
              0,
              "#0d0887"
             ],
             [
              0.1111111111111111,
              "#46039f"
             ],
             [
              0.2222222222222222,
              "#7201a8"
             ],
             [
              0.3333333333333333,
              "#9c179e"
             ],
             [
              0.4444444444444444,
              "#bd3786"
             ],
             [
              0.5555555555555556,
              "#d8576b"
             ],
             [
              0.6666666666666666,
              "#ed7953"
             ],
             [
              0.7777777777777778,
              "#fb9f3a"
             ],
             [
              0.8888888888888888,
              "#fdca26"
             ],
             [
              1,
              "#f0f921"
             ]
            ],
            "type": "heatmap"
           }
          ],
          "heatmapgl": [
           {
            "colorbar": {
             "outlinewidth": 0,
             "ticks": ""
            },
            "colorscale": [
             [
              0,
              "#0d0887"
             ],
             [
              0.1111111111111111,
              "#46039f"
             ],
             [
              0.2222222222222222,
              "#7201a8"
             ],
             [
              0.3333333333333333,
              "#9c179e"
             ],
             [
              0.4444444444444444,
              "#bd3786"
             ],
             [
              0.5555555555555556,
              "#d8576b"
             ],
             [
              0.6666666666666666,
              "#ed7953"
             ],
             [
              0.7777777777777778,
              "#fb9f3a"
             ],
             [
              0.8888888888888888,
              "#fdca26"
             ],
             [
              1,
              "#f0f921"
             ]
            ],
            "type": "heatmapgl"
           }
          ],
          "histogram": [
           {
            "marker": {
             "pattern": {
              "fillmode": "overlay",
              "size": 10,
              "solidity": 0.2
             }
            },
            "type": "histogram"
           }
          ],
          "histogram2d": [
           {
            "colorbar": {
             "outlinewidth": 0,
             "ticks": ""
            },
            "colorscale": [
             [
              0,
              "#0d0887"
             ],
             [
              0.1111111111111111,
              "#46039f"
             ],
             [
              0.2222222222222222,
              "#7201a8"
             ],
             [
              0.3333333333333333,
              "#9c179e"
             ],
             [
              0.4444444444444444,
              "#bd3786"
             ],
             [
              0.5555555555555556,
              "#d8576b"
             ],
             [
              0.6666666666666666,
              "#ed7953"
             ],
             [
              0.7777777777777778,
              "#fb9f3a"
             ],
             [
              0.8888888888888888,
              "#fdca26"
             ],
             [
              1,
              "#f0f921"
             ]
            ],
            "type": "histogram2d"
           }
          ],
          "histogram2dcontour": [
           {
            "colorbar": {
             "outlinewidth": 0,
             "ticks": ""
            },
            "colorscale": [
             [
              0,
              "#0d0887"
             ],
             [
              0.1111111111111111,
              "#46039f"
             ],
             [
              0.2222222222222222,
              "#7201a8"
             ],
             [
              0.3333333333333333,
              "#9c179e"
             ],
             [
              0.4444444444444444,
              "#bd3786"
             ],
             [
              0.5555555555555556,
              "#d8576b"
             ],
             [
              0.6666666666666666,
              "#ed7953"
             ],
             [
              0.7777777777777778,
              "#fb9f3a"
             ],
             [
              0.8888888888888888,
              "#fdca26"
             ],
             [
              1,
              "#f0f921"
             ]
            ],
            "type": "histogram2dcontour"
           }
          ],
          "mesh3d": [
           {
            "colorbar": {
             "outlinewidth": 0,
             "ticks": ""
            },
            "type": "mesh3d"
           }
          ],
          "parcoords": [
           {
            "line": {
             "colorbar": {
              "outlinewidth": 0,
              "ticks": ""
             }
            },
            "type": "parcoords"
           }
          ],
          "pie": [
           {
            "automargin": true,
            "type": "pie"
           }
          ],
          "scatter": [
           {
            "fillpattern": {
             "fillmode": "overlay",
             "size": 10,
             "solidity": 0.2
            },
            "type": "scatter"
           }
          ],
          "scatter3d": [
           {
            "line": {
             "colorbar": {
              "outlinewidth": 0,
              "ticks": ""
             }
            },
            "marker": {
             "colorbar": {
              "outlinewidth": 0,
              "ticks": ""
             }
            },
            "type": "scatter3d"
           }
          ],
          "scattercarpet": [
           {
            "marker": {
             "colorbar": {
              "outlinewidth": 0,
              "ticks": ""
             }
            },
            "type": "scattercarpet"
           }
          ],
          "scattergeo": [
           {
            "marker": {
             "colorbar": {
              "outlinewidth": 0,
              "ticks": ""
             }
            },
            "type": "scattergeo"
           }
          ],
          "scattergl": [
           {
            "marker": {
             "colorbar": {
              "outlinewidth": 0,
              "ticks": ""
             }
            },
            "type": "scattergl"
           }
          ],
          "scattermapbox": [
           {
            "marker": {
             "colorbar": {
              "outlinewidth": 0,
              "ticks": ""
             }
            },
            "type": "scattermapbox"
           }
          ],
          "scatterpolar": [
           {
            "marker": {
             "colorbar": {
              "outlinewidth": 0,
              "ticks": ""
             }
            },
            "type": "scatterpolar"
           }
          ],
          "scatterpolargl": [
           {
            "marker": {
             "colorbar": {
              "outlinewidth": 0,
              "ticks": ""
             }
            },
            "type": "scatterpolargl"
           }
          ],
          "scatterternary": [
           {
            "marker": {
             "colorbar": {
              "outlinewidth": 0,
              "ticks": ""
             }
            },
            "type": "scatterternary"
           }
          ],
          "surface": [
           {
            "colorbar": {
             "outlinewidth": 0,
             "ticks": ""
            },
            "colorscale": [
             [
              0,
              "#0d0887"
             ],
             [
              0.1111111111111111,
              "#46039f"
             ],
             [
              0.2222222222222222,
              "#7201a8"
             ],
             [
              0.3333333333333333,
              "#9c179e"
             ],
             [
              0.4444444444444444,
              "#bd3786"
             ],
             [
              0.5555555555555556,
              "#d8576b"
             ],
             [
              0.6666666666666666,
              "#ed7953"
             ],
             [
              0.7777777777777778,
              "#fb9f3a"
             ],
             [
              0.8888888888888888,
              "#fdca26"
             ],
             [
              1,
              "#f0f921"
             ]
            ],
            "type": "surface"
           }
          ],
          "table": [
           {
            "cells": {
             "fill": {
              "color": "#EBF0F8"
             },
             "line": {
              "color": "white"
             }
            },
            "header": {
             "fill": {
              "color": "#C8D4E3"
             },
             "line": {
              "color": "white"
             }
            },
            "type": "table"
           }
          ]
         },
         "layout": {
          "annotationdefaults": {
           "arrowcolor": "#2a3f5f",
           "arrowhead": 0,
           "arrowwidth": 1
          },
          "autotypenumbers": "strict",
          "coloraxis": {
           "colorbar": {
            "outlinewidth": 0,
            "ticks": ""
           }
          },
          "colorscale": {
           "diverging": [
            [
             0,
             "#8e0152"
            ],
            [
             0.1,
             "#c51b7d"
            ],
            [
             0.2,
             "#de77ae"
            ],
            [
             0.3,
             "#f1b6da"
            ],
            [
             0.4,
             "#fde0ef"
            ],
            [
             0.5,
             "#f7f7f7"
            ],
            [
             0.6,
             "#e6f5d0"
            ],
            [
             0.7,
             "#b8e186"
            ],
            [
             0.8,
             "#7fbc41"
            ],
            [
             0.9,
             "#4d9221"
            ],
            [
             1,
             "#276419"
            ]
           ],
           "sequential": [
            [
             0,
             "#0d0887"
            ],
            [
             0.1111111111111111,
             "#46039f"
            ],
            [
             0.2222222222222222,
             "#7201a8"
            ],
            [
             0.3333333333333333,
             "#9c179e"
            ],
            [
             0.4444444444444444,
             "#bd3786"
            ],
            [
             0.5555555555555556,
             "#d8576b"
            ],
            [
             0.6666666666666666,
             "#ed7953"
            ],
            [
             0.7777777777777778,
             "#fb9f3a"
            ],
            [
             0.8888888888888888,
             "#fdca26"
            ],
            [
             1,
             "#f0f921"
            ]
           ],
           "sequentialminus": [
            [
             0,
             "#0d0887"
            ],
            [
             0.1111111111111111,
             "#46039f"
            ],
            [
             0.2222222222222222,
             "#7201a8"
            ],
            [
             0.3333333333333333,
             "#9c179e"
            ],
            [
             0.4444444444444444,
             "#bd3786"
            ],
            [
             0.5555555555555556,
             "#d8576b"
            ],
            [
             0.6666666666666666,
             "#ed7953"
            ],
            [
             0.7777777777777778,
             "#fb9f3a"
            ],
            [
             0.8888888888888888,
             "#fdca26"
            ],
            [
             1,
             "#f0f921"
            ]
           ]
          },
          "colorway": [
           "#636efa",
           "#EF553B",
           "#00cc96",
           "#ab63fa",
           "#FFA15A",
           "#19d3f3",
           "#FF6692",
           "#B6E880",
           "#FF97FF",
           "#FECB52"
          ],
          "font": {
           "color": "#2a3f5f"
          },
          "geo": {
           "bgcolor": "white",
           "lakecolor": "white",
           "landcolor": "#E5ECF6",
           "showlakes": true,
           "showland": true,
           "subunitcolor": "white"
          },
          "hoverlabel": {
           "align": "left"
          },
          "hovermode": "closest",
          "mapbox": {
           "style": "light"
          },
          "paper_bgcolor": "white",
          "plot_bgcolor": "#E5ECF6",
          "polar": {
           "angularaxis": {
            "gridcolor": "white",
            "linecolor": "white",
            "ticks": ""
           },
           "bgcolor": "#E5ECF6",
           "radialaxis": {
            "gridcolor": "white",
            "linecolor": "white",
            "ticks": ""
           }
          },
          "scene": {
           "xaxis": {
            "backgroundcolor": "#E5ECF6",
            "gridcolor": "white",
            "gridwidth": 2,
            "linecolor": "white",
            "showbackground": true,
            "ticks": "",
            "zerolinecolor": "white"
           },
           "yaxis": {
            "backgroundcolor": "#E5ECF6",
            "gridcolor": "white",
            "gridwidth": 2,
            "linecolor": "white",
            "showbackground": true,
            "ticks": "",
            "zerolinecolor": "white"
           },
           "zaxis": {
            "backgroundcolor": "#E5ECF6",
            "gridcolor": "white",
            "gridwidth": 2,
            "linecolor": "white",
            "showbackground": true,
            "ticks": "",
            "zerolinecolor": "white"
           }
          },
          "shapedefaults": {
           "line": {
            "color": "#2a3f5f"
           }
          },
          "ternary": {
           "aaxis": {
            "gridcolor": "white",
            "linecolor": "white",
            "ticks": ""
           },
           "baxis": {
            "gridcolor": "white",
            "linecolor": "white",
            "ticks": ""
           },
           "bgcolor": "#E5ECF6",
           "caxis": {
            "gridcolor": "white",
            "linecolor": "white",
            "ticks": ""
           }
          },
          "title": {
           "x": 0.05
          },
          "xaxis": {
           "automargin": true,
           "gridcolor": "white",
           "linecolor": "white",
           "ticks": "",
           "title": {
            "standoff": 15
           },
           "zerolinecolor": "white",
           "zerolinewidth": 2
          },
          "yaxis": {
           "automargin": true,
           "gridcolor": "white",
           "linecolor": "white",
           "ticks": "",
           "title": {
            "standoff": 15
           },
           "zerolinecolor": "white",
           "zerolinewidth": 2
          }
         }
        },
        "title": {
         "text": "Threshold vs. Metric Scores"
        },
        "xaxis": {
         "title": {
          "text": "Threshold"
         }
        },
        "yaxis": {
         "title": {
          "text": "Score"
         }
        }
       }
      }
     },
     "metadata": {},
     "output_type": "display_data"
    }
   ],
   "source": [
    "ytruem = pd.read_csv('data/annotationData/MaleAnnotationsetFilled.csv', sep=';')\n",
    "ytruef = pd.read_csv('data/annotationData/FemaleAnnotationsetFilled.csv', sep=';')\n",
    "\n",
    "\n",
    "precisions = []\n",
    "recalls = []\n",
    "f1_scores = []\n",
    "tprs = []\n",
    "fprs = []\n",
    "mccs = []\n",
    "rocs = []\n",
    "\n",
    "thresholds = list(np.arange(0.3,1,0.01))\n",
    "gender = 'total'\n",
    "\n",
    "if gender == 'female':\n",
    "    ytrue = ytruef\n",
    "if gender == 'male':\n",
    "    ytrue = ytruem\n",
    "if gender == 'total':\n",
    "    ytrue = pd.concat([ytruef,ytruem]).reset_index()\n",
    "\n",
    "for threshold in thresholds:\n",
    "    ypred = getPred(pd.read_json(f'data/annotationData/{gender}data.json'), threshold)\n",
    "    dataset = []\n",
    "    for x in range(len(ytrue)):\n",
    "        for i in range(1,30,3):\n",
    "            try:\n",
    "                obj = ast.literal_eval(ytrue[str(i)][x])\n",
    "                symp =list(obj.keys())[0]\n",
    "                true = ytrue[str(i+1)][x]\n",
    "                pred = ypred[i+1][x]\n",
    "                prob = ypred[i+2][x]\n",
    "                data = {'post':x,'symptom': symp, 'true':int(true), 'pred':int(pred), 'prob':float(prob)}\n",
    "                dataset.append(data)\n",
    "            except:\n",
    "                continue\n",
    "    df = pd.DataFrame(dataset)\n",
    "    true = df['true']\n",
    "    pred = df['pred']\n",
    "    prob = df['prob']\n",
    "    tn, fp, fn, tp = confusion_matrix(true, pred).ravel()\n",
    "    precisions.append(precision_score(true, pred))\n",
    "    recalls.append(recall_score(true, pred))\n",
    "    f1_scores.append(f1_score(true, pred))\n",
    "    mccs.append(matthews_corrcoef(true, pred))\n",
    "    rocs.append(roc_auc_score(true,prob))\n",
    "    # symptompredictions for further analysis\n",
    "    # df.to_csv('data/predictionData/symptomPred.csv')\n",
    "\n",
    "# Create plot\n",
    "# plt.figure(figsize=(10, 6))\n",
    "# plt.plot(thresholds, precisions, label='Precision')\n",
    "# plt.plot(thresholds, recalls, label='Recall')\n",
    "# plt.plot(thresholds, f1_scores, label='F1 Score')\n",
    "# plt.plot(thresholds, mccs, label='Matthews')\n",
    "# plt.plot(thresholds, rocs, label='ROC-AUC')\n",
    "# plt.xlabel('Threshold')\n",
    "# plt.ylabel('Score')\n",
    "# plt.title('Threshold vs. Metric Scores')\n",
    "# plt.legend()\n",
    "# plt.grid(True)\n",
    "# plt.show()\n",
    "\n",
    "fig= go.Figure()\n",
    "fig.add_trace(go.Scatter(x=thresholds, y=precisions, mode='lines', name='Precision'))\n",
    "fig.add_trace(go.Scatter(x=thresholds, y=recalls, mode='lines', name='Recall'))\n",
    "fig.add_trace(go.Scatter(x=thresholds, y=f1_scores, mode='lines', name='F1 Score'))\n",
    "fig.add_trace(go.Scatter(x=thresholds, y=mccs, mode='lines', name='Matthews'))\n",
    "fig.add_trace(go.Scatter(x=thresholds, y=rocs, mode='lines', name='ROC-AUC'))\n",
    "\n",
    "fig.update_layout(title='Threshold vs. Metric Scores',\n",
    "                  xaxis_title='Threshold',\n",
    "                  yaxis_title='Score')\n",
    "\n",
    "fig.show()\n",
    "\n"
   ]
  },
  {
   "cell_type": "code",
   "execution_count": 9,
   "metadata": {},
   "outputs": [
    {
     "name": "stdout",
     "output_type": "stream",
     "text": [
      "0.030310732974272555\n"
     ]
    }
   ],
   "source": [
    "ytruem = pd.read_csv('data/annotationData/MaleAnnotationsetFilled.csv', sep=';')\n",
    "ytruef = pd.read_csv('data/annotationData/FemaleAnnotationsetFilled.csv', sep=';')\n",
    "\n",
    "threshold = 0.7\n",
    "gender = 'total'\n",
    "\n",
    "if gender == 'female':\n",
    "    ytrue = ytruef\n",
    "if gender == 'male':\n",
    "    ytrue = ytruem\n",
    "if gender == 'total':\n",
    "    ytrue = pd.concat([ytruef,ytruem]).reset_index()\n",
    "\n",
    "\n",
    "ypred = getPred(pd.read_json(f'data/annotationData/{gender}data.json'), threshold)\n",
    "dataset = []\n",
    "for x in range(len(ytrue)):\n",
    "    for i in range(1,30,3):\n",
    "        try:\n",
    "            obj = ast.literal_eval(ytrue[str(i)][x])\n",
    "            symp =list(obj.keys())[0]\n",
    "            true = ytrue[str(i+1)][x]\n",
    "            pred = ypred[i+1][x]\n",
    "            prob = ypred[i+2][x]\n",
    "            data = {'post':x,'symptom': symp, 'true':int(true), 'pred':int(pred), 'prob':float(prob)}\n",
    "            dataset.append(data)\n",
    "        except:\n",
    "            continue\n",
    "df = pd.DataFrame(dataset)\n",
    "true = df['true']\n",
    "pred = df['pred']\n",
    "prob = df['prob']\n",
    "precision = precision_score(true, pred)\n",
    "recall = recall_score(true, pred)\n",
    "f1 = f1_score(true, pred)\n",
    "auc = roc_auc_score(true, prob)\n",
    "mcc = matthews_corrcoef(true, pred)\n"
   ]
  }
 ],
 "metadata": {
  "kernelspec": {
   "display_name": "OZP-compatibility",
   "language": "python",
   "name": "python3"
  },
  "language_info": {
   "codemirror_mode": {
    "name": "ipython",
    "version": 3
   },
   "file_extension": ".py",
   "mimetype": "text/x-python",
   "name": "python",
   "nbconvert_exporter": "python",
   "pygments_lexer": "ipython3",
   "version": "3.11.5"
  }
 },
 "nbformat": 4,
 "nbformat_minor": 2
}
