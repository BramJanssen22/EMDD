{
 "cells": [
  {
   "cell_type": "code",
   "execution_count": 2,
   "metadata": {},
   "outputs": [],
   "source": [
    "import pandas as pd\n",
    "import matplotlib.pyplot as plt\n",
    "import plotly.express as px"
   ]
  },
  {
   "cell_type": "markdown",
   "metadata": {},
   "source": [
    "### results analysis"
   ]
  },
  {
   "cell_type": "code",
   "execution_count": null,
   "metadata": {},
   "outputs": [],
   "source": [
    "df = pd.read_csv('../data/results/depressiontestresults.csv')\n",
    "\n",
    "# Table for SVM tokenizer Performance and Fairness Metrics\n",
    "SVMTKMetrics = df[['predictor','depressionTotalF1','normalTotalF1','accuracyTotal','statisticalParity','equalOpportunity','equalisedOdds','equalAccuracy']]\n",
    "\n",
    "SVMTKMetrics.to_csv('SVMTKMetricsSVM.csv')\n",
    "\n",
    "SVMTKMetrics = SVMTKMetrics[SVMTKMetrics['predictor'].isin(['blingfire','nltk','spacysm','spacylg','spacytrf'])]\n",
    "SVMTKMetrics.set_index('predictor', inplace=True)\n",
    "SVMTKMetrics = SVMTKMetrics.T\n",
    "\n",
    "latex = SVMTKMetrics.to_latex(\n",
    "    caption='Tokenizer Performance And Fairness Metrics',\n",
    "    index=True,  \n",
    "    header=True, \n",
    "    bold_rows=True, \n",
    "    column_format='lcccccc',\n",
    "    escape=False\n",
    ")\n",
    "print(latex)\n",
    "display(SVMTKMetrics)"
   ]
  },
  {
   "cell_type": "markdown",
   "metadata": {},
   "source": [
    "### Symptom result creation"
   ]
  },
  {
   "cell_type": "code",
   "execution_count": 5,
   "metadata": {},
   "outputs": [],
   "source": [
    "# options = ['blingfire','reweightedblingfire','nltk','reweightednltk','spacysm','reweightedspacysm','spacylg','reweightedspacylg','spacytrf','reweightedspacytrf']\n",
    "options = ['Testspacysm']\n",
    "symps = [\"Anxious_Mood\",\"Autonomic_symptoms\",\"Cardiovascular_symptoms\",\"Catatonic_behavior\",\"Decreased_energy_tiredness_fatigue\",\"Depressed_Mood\",\"Gastrointestinal_symptoms\",\"Genitourinary_symptoms\",\"Hyperactivity_agitation\",\"Impulsivity\",\"Inattention\",\"Indecisiveness\",\"Respiratory_symptoms\",\"Suicidal_ideas\",\"Worthlessness_and_guilty\",\"avoidance_of_stimuli\",\"compensatory_behaviors_to_prevent_weight_gain\",\"compulsions\",\"diminished_emotional_expression\",\"do_things_easily_get_painful_consequences\",\"drastical_shift_in_mood_and_energy\",\"fear_about_social_situations\",\"fear_of_gaining_weight\",\"fears_of_being_negatively_evaluated\",\"flight_of_ideas\",\"intrusion_symptoms\",\"loss_of_interest_or_motivation\",\"more_talktive\",\"obsession\",\"panic_fear\",\"pessimism\",\"poor_memory\",\"sleep_disturbance\",\"somatic_muscle\",\"somatic_symptoms_others\",\"somatic_symptoms_sensory\",\"weight_and_appetite_change\",\"Anger_Irritability\"]\n",
    "label = 'depression'\n",
    "\n",
    "for name in options:\n",
    "    df = pd.read_json(f'../data/vectorData/{name}Vectors.json',orient='records', lines=True)\n",
    "    dfm = df.loc[(df['label'] == label) & (df['gender'] == 'm')]\n",
    "    dff = df.loc[(df['label'] == label) & (df['gender'] == 'f')]\n",
    "    vectorsm = dfm[symps]\n",
    "    vectorsf = dff[symps]\n",
    "    metricsm = {\n",
    "    'Mean_M': vectorsm.mean(),\n",
    "    'Std_M': vectorsm.std(),\n",
    "    'Median_M': vectorsm.median(),\n",
    "    'Maximum_M': vectorsm.max(),\n",
    "    'Minimum_M': vectorsm.min(),\n",
    "    '25th Percentile_M': vectorsm.quantile(0.25),\n",
    "    '75th Percentile_M': vectorsm.quantile(0.75),\n",
    "    'Variance_M': vectorsm.var(),\n",
    "    }\n",
    "    metricsf = {\n",
    "    'Mean_F': vectorsf.mean(),\n",
    "    'Std_F': vectorsf.std(),\n",
    "    'Median_F': vectorsf.median(),\n",
    "    'Maximum_F': vectorsf.max(),\n",
    "    'Minimum_F': vectorsf.min(),\n",
    "    '25th Percentile_F': vectorsf.quantile(0.25),\n",
    "    '75th Percentile_F': vectorsf.quantile(0.75),\n",
    "    'Variance_F': vectorsf.var(),\n",
    "    }\n",
    "    metricsm = pd.DataFrame(metricsm)\n",
    "    metricsf = pd.DataFrame(metricsf)\n",
    "    # metricsm = metricsm.T\n",
    "    # metricsf = metricsf.T\n",
    "\n",
    "metricsf.to_csv(f'{label}femaleSymptomMetrics.csv')\n",
    "metricsm.to_csv(f'{label}maleSymptomMetrics.csv')\n"
   ]
  },
  {
   "cell_type": "code",
   "execution_count": 57,
   "metadata": {},
   "outputs": [],
   "source": [
    "# Load data\n",
    "female_data = pd.read_csv(f'{label}femaleSymptomMetrics.csv', index_col=0)\n",
    "male_data = pd.read_csv(f'{label}maleSymptomMetrics.csv', index_col=0)\n",
    "\n",
    "# Merging dataframes\n",
    "merged_data = female_data.merge(male_data, left_index=True, right_index=True, how='inner')\n",
    "\n",
    "# Calculating differences\n",
    "\n",
    "merged_data['Mean_Diff'] = merged_data['Mean_F']/ merged_data['Mean_M']\n",
    "merged_data['Std_Diff'] = merged_data['Std_F'] / merged_data['Std_M']\n",
    "\n",
    "# Selecting metrics\n",
    "comparison_columns = ['Mean_F', 'Mean_M','Mean_Diff',\n",
    "                      'Std_F', 'Std_M','Std_Diff',\n",
    "                      'Median_F', 'Median_M', \n",
    "                      'Maximum_F', 'Maximum_M', \n",
    "                      'Minimum_F', 'Minimum_M', \n",
    "                      '25th Percentile_F', '25th Percentile_M',\n",
    "                      '75th Percentile_F', '75th Percentile_M', \n",
    "                      'Variance_F', 'Variance_M'\n",
    "                      ]\n",
    "\n",
    "# Creating a summary dataframe for comparison\n",
    "summary_comparison = merged_data[comparison_columns]\n",
    "\n",
    "summary_comparison.to_csv(f'{label}comparison.csv')"
   ]
  },
  {
   "cell_type": "markdown",
   "metadata": {},
   "source": [
    "### Top 10 symptom metrics"
   ]
  },
  {
   "cell_type": "code",
   "execution_count": null,
   "metadata": {},
   "outputs": [],
   "source": [
    "# Creating ranked comparison\n",
    "sorted_valuesF = summary_comparison.sort_values(by='Mean_F', ascending=False)\n",
    "sorted_valuesM = summary_comparison.sort_values(by='Mean_M', ascending=False)\n",
    "\n",
    "sorted_valuesF['ranking_F'] = range(1,39)\n",
    "sorted_valuesM['ranking_M'] = range(1,39)\n",
    "\n",
    "\n",
    "merged = sorted_valuesM.merge(sorted_valuesF[['ranking_F']], left_index=True, right_index=True, how='right')\n",
    "merged.to_csv('../data/results/depressedSymptomComparison.csv')\n",
    "\n",
    "print(merged[['Mean_F','Mean_M','Mean_Diff','Std_F', 'Std_M','Std_Diff']].head(10).to_latex(caption='Top 10 symptom metrics'))"
   ]
  },
  {
   "cell_type": "markdown",
   "metadata": {},
   "source": [
    "### Top 10 repression symptom distribution graph"
   ]
  },
  {
   "cell_type": "code",
   "execution_count": null,
   "metadata": {},
   "outputs": [],
   "source": [
    "df = pd.read_json(f'../data/vectorData/TestspacysmVectors.json',orient='records', lines=True)\n",
    "df = df.loc[df['label'] == 'depression']\n",
    "symps = [\"Anxious_Mood\",\"Depressed_Mood\",\"Hyperactivity_agitation\",\"Worthlessness_and_guilty\",\"diminished_emotional_expression\",\"drastical_shift_in_mood_and_energy\",\"panic_fear\",\"pessimism\",\"sleep_disturbance\",\"Anger_Irritability\"]\n",
    "\n",
    "df = pd.melt(df, id_vars=['video_id', 'label', 'key', 'gender', 'duration', 'channelId', 'text'], \n",
    "                  var_name='Symptom', value_name='Score',\n",
    "                  value_vars=symps)\n",
    "\n",
    "fig = px.box(df, x='Symptom', y='Score', color='gender',\n",
    "             title='Symptom Distributions by Gender',\n",
    "             category_orders={\"Symptom\": sorted(df['Symptom'].unique())},\n",
    "             color_discrete_map={'m': 'blue', 'f': 'red'})\n",
    "\n",
    "fig.update_layout(xaxis={'categoryorder':'array', 'categoryarray': sorted(df['Symptom'].unique())},\n",
    "                  xaxis_title='Symptom',\n",
    "                  yaxis_title='Score',\n",
    "                  boxmode='group',  \n",
    "                  height=1000,  \n",
    "                  width=1800)  \n",
    "fig.update_traces(quartilemethod=\"inclusive\")\n",
    "\n",
    "# Display the figure\n",
    "fig.show()"
   ]
  },
  {
   "cell_type": "markdown",
   "metadata": {},
   "source": [
    "### Adjusted symptom differences"
   ]
  },
  {
   "cell_type": "code",
   "execution_count": null,
   "metadata": {},
   "outputs": [],
   "source": [
    "df = pd.read_csv('../data/results/depressedSymptomComparison.csv')\n",
    "df['Adjusted_Mean_Diff'] = (df['Mean_Diff'] / df['Mean_Diff'].mean() * 100) - 100\n",
    "\n",
    "display(df[['Unnamed: 0','Mean_F','Mean_M','Mean_Diff','Adjusted_Mean_Diff']])"
   ]
  },
  {
   "cell_type": "markdown",
   "metadata": {},
   "source": [
    "### D-vlog dataset distribution"
   ]
  },
  {
   "cell_type": "code",
   "execution_count": 11,
   "metadata": {},
   "outputs": [
    {
     "name": "stdout",
     "output_type": "stream",
     "text": [
      "\\begin{table}\n",
      "\\caption{D-vlog dataset distribution}\n",
      "\\begin{tabular}{lrrr}\n",
      "\\toprule\n",
      "gender & f & m & Total \\\\\n",
      "label &  &  &  \\\\\n",
      "\\midrule\n",
      "depression & 295 & 139 & 434 \\\\\n",
      "normal & 237 & 126 & 363 \\\\\n",
      "Total & 532 & 265 & 797 \\\\\n",
      "\\bottomrule\n",
      "\\end{tabular}\n",
      "\\end{table}\n",
      "\n"
     ]
    }
   ],
   "source": [
    "df = pd.read_json('../data/splitData/postdataLinesSplit.json',lines=True, orient='records')\n",
    "\n",
    "df = df[['gender','label']]\n",
    "\n",
    "\n",
    "overview = pd.pivot_table(df, index='label', columns='gender', aggfunc=len, fill_value=0)\n",
    "\n",
    "overview['Total'] = overview.sum(axis=1)  # Total per label\n",
    "overview.loc['Total'] = overview.sum()  # Total per gender and overall\n",
    "\n",
    "print(overview.to_latex(caption='D-vlog dataset distribution'))\n"
   ]
  }
 ],
 "metadata": {
  "kernelspec": {
   "display_name": "OZP",
   "language": "python",
   "name": "python3"
  },
  "language_info": {
   "codemirror_mode": {
    "name": "ipython",
    "version": 3
   },
   "file_extension": ".py",
   "mimetype": "text/x-python",
   "name": "python",
   "nbconvert_exporter": "python",
   "pygments_lexer": "ipython3",
   "version": "3.9.18"
  }
 },
 "nbformat": 4,
 "nbformat_minor": 2
}
