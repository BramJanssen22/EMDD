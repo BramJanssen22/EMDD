{
 "cells": [
  {
   "cell_type": "code",
   "execution_count": 4,
   "metadata": {},
   "outputs": [
    {
     "name": "stdout",
     "output_type": "stream",
     "text": [
      "\\begin{tabular}{lrrrrrrr}\n",
      "\\toprule\n",
      "predictor & depressionSensF1 & normalSensF1 & depressionOtherF1 & normalOtherF1 & depressionTotalF1 & normalTotalF1 & equalAccuracy \\\\\n",
      "\\midrule\n",
      "w2vec & 0.949153 & 0.940000 & 0.980392 & 0.980392 & 0.958580 & 0.953642 & 0.963853 \\\\\n",
      "ruleBased & 0.867925 & 0.875000 & 0.844444 & 0.877193 & 0.860927 & 0.875740 & 1.010217 \\\\\n",
      "blingfire & 0.702381 & 0.000000 & 0.575342 & 0.000000 & 0.663900 & 0.000000 & 1.340323 \\\\\n",
      "reweightedblingfire & 0.702381 & 0.000000 & 0.575342 & 0.000000 & 0.663900 & 0.000000 & 1.340323 \\\\\n",
      "nltk & 0.702381 & 0.000000 & 0.575342 & 0.000000 & 0.663900 & 0.000000 & 1.340323 \\\\\n",
      "reweightednltk & 0.702381 & 0.000000 & 0.575342 & 0.000000 & 0.663900 & 0.000000 & 1.340323 \\\\\n",
      "spacysm & 0.888889 & 0.871287 & 0.878049 & 0.920635 & 0.886076 & 0.890244 & 0.974429 \\\\\n",
      "reweightedspacysm & 0.862069 & 0.843137 & 0.820513 & 0.892308 & 0.851613 & 0.862275 & 0.985933 \\\\\n",
      "spacylg & 0.854701 & 0.831683 & 0.878049 & 0.920635 & 0.860759 & 0.865854 & 0.933828 \\\\\n",
      "reweightedspacylg & 0.852174 & 0.834951 & 0.829268 & 0.888889 & 0.846154 & 0.855422 & 0.975331 \\\\\n",
      "spacytrf & 0.750000 & 0.735849 & 0.878049 & 0.920635 & 0.784314 & 0.804734 & 0.822175 \\\\\n",
      "reweightedspacytrf & 0.711538 & 0.736842 & 0.809524 & 0.870968 & 0.739726 & 0.784091 & 0.856547 \\\\\n",
      "\\bottomrule\n",
      "\\end{tabular}\n",
      "\n"
     ]
    }
   ],
   "source": [
    "import pandas as pd\n",
    "\n",
    "df = pd.read_csv('../data/results/testresults.csv')\n",
    "\n",
    "latex = df[['predictor','depressionSensF1','normalSensF1','depressionOtherF1','normalOtherF1','depressionTotalF1','normalTotalF1','equalAccuracy']].to_latex(index=False)\n",
    "\n",
    "print(latex)"
   ]
  }
 ],
 "metadata": {
  "kernelspec": {
   "display_name": "OZP",
   "language": "python",
   "name": "python3"
  },
  "language_info": {
   "codemirror_mode": {
    "name": "ipython",
    "version": 3
   },
   "file_extension": ".py",
   "mimetype": "text/x-python",
   "name": "python",
   "nbconvert_exporter": "python",
   "pygments_lexer": "ipython3",
   "version": "3.11.5"
  }
 },
 "nbformat": 4,
 "nbformat_minor": 2
}
