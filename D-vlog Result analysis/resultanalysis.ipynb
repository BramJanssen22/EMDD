{
 "cells": [
  {
   "cell_type": "code",
   "execution_count": 1,
   "metadata": {},
   "outputs": [],
   "source": [
    "import pandas as pd"
   ]
  },
  {
   "cell_type": "markdown",
   "metadata": {},
   "source": [
    "### results analysis"
   ]
  },
  {
   "cell_type": "code",
   "execution_count": 2,
   "metadata": {},
   "outputs": [
    {
     "name": "stdout",
     "output_type": "stream",
     "text": [
      "\\begin{tabular}{lrrrrrrr}\n",
      "\\toprule\n",
      "predictor & depressionSensF1 & normalSensF1 & depressionOtherF1 & normalOtherF1 & depressionTotalF1 & normalTotalF1 & equalAccuracy \\\\\n",
      "\\midrule\n",
      "w2vec & 0.949153 & 0.940000 & 0.980392 & 0.980392 & 0.958580 & 0.953642 & 0.963853 \\\\\n",
      "ruleBased & 0.867925 & 0.875000 & 0.844444 & 0.877193 & 0.860927 & 0.875740 & 1.010217 \\\\\n",
      "DictionaryBased & 0.678788 & 0.000000 & 0.657895 & 0.000000 & 0.672199 & 0.000000 & 1.048073 \\\\\n",
      "TFIDF & 0.878505 & 0.882883 & 0.901961 & 0.901961 & 0.886076 & 0.888889 & 0.976466 \\\\\n",
      "blingfire & 0.702381 & 0.000000 & 0.575342 & 0.000000 & 0.663900 & 0.000000 & 1.340323 \\\\\n",
      "reweightedblingfire & 0.702381 & 0.000000 & 0.575342 & 0.000000 & 0.663900 & 0.000000 & 1.340323 \\\\\n",
      "nltk & 0.702381 & 0.000000 & 0.575342 & 0.000000 & 0.663900 & 0.000000 & 1.340323 \\\\\n",
      "reweightednltk & 0.702381 & 0.000000 & 0.575342 & 0.000000 & 0.663900 & 0.000000 & 1.340323 \\\\\n",
      "spacysm & 0.888889 & 0.871287 & 0.878049 & 0.920635 & 0.886076 & 0.890244 & 0.974429 \\\\\n",
      "reweightedspacysm & 0.862069 & 0.843137 & 0.820513 & 0.892308 & 0.851613 & 0.862275 & 0.985933 \\\\\n",
      "spacylg & 0.854701 & 0.831683 & 0.878049 & 0.920635 & 0.860759 & 0.865854 & 0.933828 \\\\\n",
      "reweightedspacylg & 0.852174 & 0.834951 & 0.829268 & 0.888889 & 0.846154 & 0.855422 & 0.975331 \\\\\n",
      "spacytrf & 0.750000 & 0.735849 & 0.878049 & 0.920635 & 0.784314 & 0.804734 & 0.822175 \\\\\n",
      "reweightedspacytrf & 0.711538 & 0.736842 & 0.809524 & 0.870968 & 0.739726 & 0.784091 & 0.856547 \\\\\n",
      "\\bottomrule\n",
      "\\end{tabular}\n",
      "\n"
     ]
    }
   ],
   "source": [
    "df = pd.read_csv('../data/results/testresults.csv')\n",
    "\n",
    "latex = df[['predictor','depressionSensF1','normalSensF1','depressionOtherF1','normalOtherF1','depressionTotalF1','normalTotalF1','equalAccuracy']].to_latex(index=False)\n",
    "\n",
    "print(latex)"
   ]
  },
  {
   "cell_type": "markdown",
   "metadata": {},
   "source": [
    "### symptom analysis"
   ]
  },
  {
   "cell_type": "code",
   "execution_count": 34,
   "metadata": {},
   "outputs": [],
   "source": [
    "options = ['blingfire','reweightedblingfire','nltk','reweightednltk','spacysm','reweightedspacysm','spacylg','reweightedspacylg','spacytrf','reweightedspacytrf']\n",
    "options = ['spacylg']\n",
    "\n",
    "for name in options:\n",
    "    df = pd.read_json(f'../data/vectorData/{name}Vectors.json',orient='records', lines=True)\n",
    "    dfm = df.loc[(df['label'] == 'depression') & (df['gender'] == 'm')]\n",
    "    dff = df.loc[(df['label'] == 'depression') & (df['gender'] == 'f')]\n",
    "    vectorsm = dfm[[str(i) for i in range(38)]]\n",
    "    vectorsf = dff[[str(i) for i in range(38)]]\n",
    "    metricsm = {\n",
    "    'Mean_M': vectorsm.mean(),\n",
    "    'Standard Deviation_M': vectorsm.std(),\n",
    "    'Median_M': vectorsm.median(),\n",
    "    'Maximum_M': vectorsm.max(),\n",
    "    'Minimum_M': vectorsm.min(),\n",
    "    '25th Percentile_M': vectorsm.quantile(0.25),\n",
    "    '75th Percentile_M': vectorsm.quantile(0.75),\n",
    "    'Variance_M': vectorsm.var(),\n",
    "    }\n",
    "    metricsf = {\n",
    "    'Mean_F': vectorsf.mean(),\n",
    "    'Standard Deviation_F': vectorsf.std(),\n",
    "    'Median_F': vectorsf.median(),\n",
    "    'Maximum_F': vectorsf.max(),\n",
    "    'Minimum_F': vectorsf.min(),\n",
    "    '25th Percentile_F': vectorsf.quantile(0.25),\n",
    "    '75th Percentile_F': vectorsf.quantile(0.75),\n",
    "    'Variance_F': vectorsf.var(),\n",
    "    }\n",
    "    metricsm = pd.DataFrame(metricsm)\n",
    "    metricsf = pd.DataFrame(metricsf)\n",
    "    metricsm = metricsm.T\n",
    "    metricsf = metricsf.T\n",
    "    male = pd.concat([vectorsm,metricsm])\n",
    "    female = pd.concat([vectorsf,metricsf])\n"
   ]
  },
  {
   "cell_type": "code",
   "execution_count": 35,
   "metadata": {},
   "outputs": [
    {
     "name": "stdout",
     "output_type": "stream",
     "text": [
      "                          0         1         2         3         4         5  \\\n",
      "0                  0.149254  0.010987  0.004449  0.075842  0.592972  0.993252   \n",
      "2                  0.984693  0.110332  0.060827  0.472854  0.352428  0.990917   \n",
      "5                  0.965062  0.022097  0.007692  0.285382  0.041045  0.993490   \n",
      "13                 0.946086  0.021434  0.008468  0.413327  0.068924  0.978652   \n",
      "14                 0.014497  0.004771  0.001405  0.006460  0.003374  0.089435   \n",
      "...                     ...       ...       ...       ...       ...       ...   \n",
      "Maximum_M          0.999164  0.989194  0.984951  0.961789  0.985807  0.994677   \n",
      "Minimum_M          0.003569  0.000420  0.000073  0.001992  0.000730  0.001081   \n",
      "25th Percentile_M  0.143931  0.011011  0.003137  0.019873  0.027808  0.945933   \n",
      "75th Percentile_M  0.971781  0.082467  0.017957  0.292075  0.261691  0.991917   \n",
      "Variance_M         0.162994  0.072471  0.069430  0.062956  0.098028  0.062111   \n",
      "\n",
      "                          6         7         8         9  ...        28  \\\n",
      "0                  0.040511  0.011172  0.489078  0.040727  ...  0.045182   \n",
      "2                  0.848026  0.017609  0.403022  0.070550  ...  0.060523   \n",
      "5                  0.006981  0.007978  0.688178  0.004244  ...  0.073556   \n",
      "13                 0.002382  0.003408  0.216823  0.027247  ...  0.014411   \n",
      "14                 0.006847  0.007978  0.008193  0.021032  ...  0.002811   \n",
      "...                     ...       ...       ...       ...  ...       ...   \n",
      "Maximum_M          0.983580  0.095914  0.969388  0.490291  ...  0.967644   \n",
      "Minimum_M          0.000315  0.000545  0.004883  0.001727  ...  0.000207   \n",
      "25th Percentile_M  0.005250  0.004387  0.053419  0.007929  ...  0.010335   \n",
      "75th Percentile_M  0.162963  0.010600  0.493211  0.051316  ...  0.047478   \n",
      "Variance_M         0.102787  0.000153  0.086338  0.004255  ...  0.030448   \n",
      "\n",
      "                         29        30        31        32        33        34  \\\n",
      "0                  0.013103  0.728830  0.031996  0.243483  0.011947  0.070687   \n",
      "2                  0.468166  0.638095  0.032908  0.098873  0.021176  0.202172   \n",
      "5                  0.065656  0.275158  0.008226  0.076267  0.011947  0.212776   \n",
      "13                 0.090280  0.094141  0.023773  0.033829  0.011873  0.065476   \n",
      "14                 0.002821  0.004727  0.004918  0.008032  0.010776  0.004087   \n",
      "...                     ...       ...       ...       ...       ...       ...   \n",
      "Maximum_M          0.993378  0.972086  0.986962  0.987000  0.917778  0.784502   \n",
      "Minimum_M          0.000166  0.000203  0.001507  0.001220  0.000609  0.000295   \n",
      "25th Percentile_M  0.008120  0.094603  0.007487  0.024715  0.007442  0.033428   \n",
      "75th Percentile_M  0.203246  0.558911  0.066184  0.457699  0.029284  0.174179   \n",
      "Variance_M         0.098120  0.084615  0.065524  0.123863  0.041763  0.020067   \n",
      "\n",
      "                         35        36        37  \n",
      "0                  0.007873  0.272215  0.874925  \n",
      "2                  0.029628  0.847818  0.376844  \n",
      "5                  0.012822  0.007069  0.945444  \n",
      "13                 0.020584  0.016953  0.146082  \n",
      "14                 0.003353  0.007056  0.025690  \n",
      "...                     ...       ...       ...  \n",
      "Maximum_M          0.968362  0.979988  0.969721  \n",
      "Minimum_M          0.000373  0.000779  0.000980  \n",
      "25th Percentile_M  0.005237  0.008016  0.072323  \n",
      "75th Percentile_M  0.020710  0.726292  0.394372  \n",
      "Variance_M         0.023338  0.147200  0.073430  \n",
      "\n",
      "[147 rows x 38 columns]\n"
     ]
    }
   ],
   "source": [
    "print(male)"
   ]
  }
 ],
 "metadata": {
  "kernelspec": {
   "display_name": "OZP",
   "language": "python",
   "name": "python3"
  },
  "language_info": {
   "codemirror_mode": {
    "name": "ipython",
    "version": 3
   },
   "file_extension": ".py",
   "mimetype": "text/x-python",
   "name": "python",
   "nbconvert_exporter": "python",
   "pygments_lexer": "ipython3",
   "version": "3.11.5"
  }
 },
 "nbformat": 4,
 "nbformat_minor": 2
}
