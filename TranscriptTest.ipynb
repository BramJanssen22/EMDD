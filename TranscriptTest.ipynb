{
  "cells": [
    {
      "cell_type": "markdown",
      "metadata": {},
      "source": [
        "### Transcript downloader"
      ]
    },
    {
      "cell_type": "code",
      "execution_count": 1,
      "metadata": {},
      "outputs": [
        {
          "name": "stderr",
          "output_type": "stream",
          "text": [
            "100%|██████████| 961/961 [03:00<00:00,  5.33it/s]\n"
          ]
        }
      ],
      "source": [
        "import pandas as pd\n",
        "from concurrent.futures import ThreadPoolExecutor\n",
        "from youtube_transcript_api import YouTubeTranscriptApi\n",
        "from tqdm import tqdm\n",
        "\n",
        "# Load data from CSV\n",
        "data = pd.read_csv(\"dvlog.csv\")\n",
        "\n",
        "# Function to fetch transcript for a video key\n",
        "def fetch_transcript(key):\n",
        "    try:\n",
        "        all_text = YouTubeTranscriptApi.get_transcript(key)\n",
        "        transcript = \" \".join([text['text']+'.' for text in all_text])\n",
        "        return key, [transcript]\n",
        "    except Exception as e:\n",
<<<<<<< HEAD
        "        return key, None\n",
        "\n",
        "# Use ThreadPoolExecutor for asynchronous fetching\n",
        "with ThreadPoolExecutor(max_workers=10) as executor:\n",
=======
        "        # print(f\"Error fetching transcript for key {key}: {e}\")\n",
        "        return key, None  # Return a placeholder for the transcript in case of an error\n",
        "\n",
        "# Use ThreadPoolExecutor for asynchronous fetching\n",
        "with ThreadPoolExecutor(max_workers=10) as executor:\n",
        "    # Fetch transcripts asynchronously and use tqdm for progress bar\n",
>>>>>>> 48e6161d9fbd4f19d50cd922418abef3cc8abfe4
        "    results = list(tqdm(executor.map(fetch_transcript, data['key']), total=len(data)))\n",
        "\n",
        "# Create a dictionary from the results\n",
        "transcript_dict = dict(results)\n",
        "\n",
        "# Add the transcripts to the DataFrame\n",
        "data['text'] = data['key'].map(transcript_dict)\n",
        "\n"
      ]
    },
    {
      "cell_type": "markdown",
      "metadata": {},
      "source": [
        "### Formatting/ Preprocessing\n"
      ]
    },
    {
      "cell_type": "code",
      "execution_count": 3,
      "metadata": {},
      "outputs": [],
      "source": [
        "id = []\n",
        "posts = []\n",
        "diseases = []\n",
        "\n",
        "for index, row in data.iterrows():\n",
        "    if row[\"text\"] != None:\n",
        "        id.append(row['video_id'])\n",
        "        posts.append(row['text'])\n",
        "        diseases.append([\"Anxious_Mood\", \"Autonomic_symptoms\", \"Cardiovascular_symptoms\", \"Catatonic_behavior\", \"Decreased_energy_tiredness_fatigue\", \"Depressed_Mood\", \"Gastrointestinal_symptoms\", \"Genitourinary_symptoms\", \"Hyperactivity_agitation\", \"Impulsivity\", \"Inattention\", \"Indecisiveness\", \"Respiratory_symptoms\", \"Suicidal_ideas\", \"Worthlessness_and_guilty\", \"avoidance_of_stimuli\", \"compensatory_behaviors_to_prevent_weight_gain\", \"compulsions\", \"diminished_emotional_expression\", \"do_things_easily_get_painful_consequences\", \"drastical_shift_in_mood_and_energy\", \"fear_about_social_situations\", \"fear_of_gaining_weight\", \"fears_of_being_negatively_evaluated\", \"flight_of_ideas\", \"intrusion_symptoms\", \"loss_of_interest_or_motivation\", \"more_talktive\", \"obsession\", \"panic_fear\", \"pessimism\", \"poor_memory\", \"sleep_disturbance\", \"somatic_muscle\", \"somatic_symptoms_others\", \"somatic_symptoms_sensory\", \"weight_and_appetite_change\", \"Anger_Irritability\"])\n",
        "\n",
        "jsondata = pd.DataFrame()\n",
        "jsondata['id'] = id\n",
        "jsondata['posts'] = posts\n",
        "jsondata['diseases'] = diseases\n",
        "\n",
        "# Save the updated DataFrame to a JSON file\n",
        "jsondata.to_json(\"Psysym/data/datastoreOZP/dvlog_wtext.json\", orient='records', lines=True)"
      ]
    }
  ],
  "metadata": {
    "colab": {
      "provenance": []
    },
    "kernelspec": {
      "display_name": "Python 3",
      "name": "python3"
    },
    "language_info": {
      "codemirror_mode": {
        "name": "ipython",
        "version": 3
      },
      "file_extension": ".py",
      "mimetype": "text/x-python",
      "name": "python",
      "nbconvert_exporter": "python",
      "pygments_lexer": "ipython3",
      "version": "3.9.18"
    }
  },
  "nbformat": 4,
  "nbformat_minor": 0
}
