{
  "cells": [
    {
      "cell_type": "markdown",
      "metadata": {},
      "source": [
        "### Transcript downloader"
      ]
    },
    {
      "cell_type": "code",
      "execution_count": 6,
      "metadata": {},
      "outputs": [
        {
          "name": "stderr",
          "output_type": "stream",
          "text": [
            "100%|██████████| 961/961 [02:57<00:00,  5.43it/s]\n"
          ]
        }
      ],
      "source": [
        "import pandas as pd\n",
        "from concurrent.futures import ThreadPoolExecutor\n",
        "from youtube_transcript_api import YouTubeTranscriptApi\n",
        "from tqdm import tqdm\n",
        "\n",
        "# Load data from CSV\n",
        "data = pd.read_csv(\"PsySym/data/datastoreOZP/dvlog.csv\")\n",
        "\n",
        "# Function to fetch transcript for a video key\n",
        "def fetch_transcript(key):\n",
        "    try:\n",
        "        all_text = YouTubeTranscriptApi.get_transcript(key)\n",
        "        transcript = \" \".join([text['text']+'.' for text in all_text])\n",
        "        return key, [transcript]\n",
        "    except Exception as e:\n",
        "        return key, None\n",
        "\n",
        "# Use ThreadPoolExecutor for asynchronous fetching\n",
        "with ThreadPoolExecutor(max_workers=10) as executor:\n",
        "    results = list(tqdm(executor.map(fetch_transcript, data['key']), total=len(data)))\n",
        "\n",
        "# Create a dictionary from the results\n",
        "transcript_dict = dict(results)\n",
        "\n",
        "# Add the transcripts to the DataFrame\n",
        "data['text'] = data['key'].map(transcript_dict)\n",
        "\n"
      ]
    },
    {
      "cell_type": "markdown",
      "metadata": {},
      "source": [
        "### Formatting/ Preprocessing\n"
      ]
    },
    {
      "cell_type": "code",
      "execution_count": 7,
      "metadata": {},
      "outputs": [],
      "source": [
        "id = []\n",
        "posts = []\n",
        "diseases = []\n",
        "\n",
        "for index, row in data.iterrows():\n",
        "    if row[\"text\"] != None:\n",
        "        id.append(row['video_id'])\n",
        "        posts.append(row['text'])\n",
        "        diseases.append(['depression', 'anxiety', 'autism', 'adhd', 'schizophrenia', 'bipolar', 'ocd', 'ptsd', 'eating'])\n",
        "\n",
        "jsondata = pd.DataFrame()\n",
        "jsondata['id'] = id\n",
        "jsondata['posts'] = posts\n",
        "jsondata['diseases'] = diseases\n",
        "\n",
        "# Save the updated DataFrame to a JSON file\n",
        "jsondata.to_json(\"Psysym/data/datastoreOZP/dvlog_wtext.json\", orient='records', lines=True)"
      ]
    }
  ],
  "metadata": {
    "colab": {
      "provenance": []
    },
    "kernelspec": {
      "display_name": "Python 3",
      "name": "python3"
    },
    "language_info": {
      "codemirror_mode": {
        "name": "ipython",
        "version": 3
      },
      "file_extension": ".py",
      "mimetype": "text/x-python",
      "name": "python",
      "nbconvert_exporter": "python",
      "pygments_lexer": "ipython3",
      "version": "3.9.18"
    }
  },
  "nbformat": 4,
  "nbformat_minor": 0
}
