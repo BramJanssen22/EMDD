{
 "cells": [
  {
   "cell_type": "code",
   "execution_count": 21,
   "metadata": {},
   "outputs": [],
   "source": [
    "import pandas as pd\n",
    "import numpy as np\n",
    "from sklearn.feature_extraction.text import TfidfVectorizer, ENGLISH_STOP_WORDS\n",
    "from sklearn.feature_selection import SelectKBest, chi2\n"
   ]
  },
  {
   "cell_type": "markdown",
   "metadata": {},
   "source": [
    "### Create vectors"
   ]
  },
  {
   "cell_type": "code",
   "execution_count": 25,
   "metadata": {},
   "outputs": [
    {
     "name": "stderr",
     "output_type": "stream",
     "text": [
      "c:\\Users\\bramb\\anaconda3\\envs\\OZP-compatibility\\lib\\site-packages\\sklearn\\feature_extraction\\text.py:408: UserWarning: Your stop_words may be inconsistent with your preprocessing. Tokenizing the stop words generated tokens ['abnormal', 'abuse', 'abusedepression', 'activities', 'adhd', 'affect', 'affects', 'ah', 'ahvh', 'altered', 'anergy', 'anger', 'angry', 'anixety', 'anxiety', 'anxious', 'appeared', 'appears', 'appetite', 'appreciate', 'appropriately', 'assess', 'assessment', 'attack', 'attacks', 'augmentation', 'bad', 'bai', 'battling', 'behavior', 'behaviour', 'blue', 'blunted', 'borderline', 'bpii', 'bulimia', 'calm', 'cannabis', 'capacity', 'catatonia', 'changes', 'characterlogical', 'childhood', 'chronically', 'cold', 'comorbid', 'concentrating', 'concentration', 'concept', 'congruent', 'consistently', 'constricted', 'constricteddepressed', 'cont', 'contact', 'continue', 'crying', 'culminating', 'current', 'cutting', 'dark', 'decreased', 'denies', 'depress', 'depressedirritable', 'depressedsad', 'depressiono', 'depressionpsychotic', 'depressionsevere', 'depressionsleep', 'depressionœ', 'depressiveanxiety', 'detached', 'diagnosis', 'difficulty', 'diminished', 'discussing', 'disorder', 'disorderdepression', 'disorganized', 'distant', 'disturbance', 'disturbed', 'domain', 'dysphoric', 'dysregulation', 'emotional', 'emotionally', 'emptiness', 'endogenous', 'endorse', 'endorsed', 'endorses', 'endorsing', 'energy', 'enjoyment', 'eomi', 'epidose', 'episode', 'episodes', 'etoh', 'exhibits', 'experiencing', 'expressed', 'extremely', 'eye', 'eyes', 'factors', 'fatigue', 'features', 'feel', 'feeling', 'feelings', 'feels', 'felt', 'fibromyalgia', 'flat', 'focused', 'followed', 'frustration', 'function', 'future', 'gerd', 'geriatric', 'goal', 'guilt', 'hi', 'homelife', 'hope', 'htn', 'hyperlipidemia', 'hyperphagia', 'hypersomnia', 'hypothyroidism', 'ideation', 'ideations', 'im', 'impulsivity', 'including', 'incongruent', 'increasing', 'increasingly', 'indication', 'indifferent', 'inertia', 'insomnia', 'intense', 'interview', 'irritability', 'irritable', 'isolated', 'labile', 'lack', 'lonely', 'longstanding', 'longstang', 'loss', 'lost', 'low', 'mainly', 'major', 'manage', 'managing', 'mania', 'manic', 'matters', 'mdnppa', 'mental', 'mentions', 'middle', 'migraines', 'mildly', 'moderate', 'moderately', 'mood', 'moodanxiety', 'moods', 'moood', 'morose', 'motivation', 'movements', 'multiple', 'needs', 'negative', 'negatively', 'neurosis', 'neurovegetative', 'nonpressured', 'normal', 'obesity', 'obessionscompulsions', 'objective', 'occasionally', 'ocd', 'ok', 'ongoing', 'osteoporosis', 'otpsrtr', 'outcome', 'panic', 'paranoia', 'passive', 'patternprocess', 'personality', 'phq', 'pleasure', 'pmr', 'polysubstance', 'poor', 'poststroke', 'posttraumatic', 'powerless', 'presenting', 'presents', 'problem', 'process', 'profoundly', 'prompting', 'prosody', 'pseudodementia', 'psych', 'psychiatrist', 'psychic', 'psychological', 'psychopathology', 'psychosis', 'psychotic', 'ptsd', 'qids', 'really', 'recent', 'recurrent', 'refractory', 'related', 'remains', 'reported', 'reporting', 'reports', 'ro', 'screen', 'sees', 'self', 'selfesteem', 'selfloathing', 'selfreproach', 'sensorium', 'severe', 'severely', 'severly', 'shame', 'shi', 'si', 'significant', 'sihi', 'sleep', 'slow', 'social', 'soft', 'somewhat', 'speech', 'stable', 'state', 'stress', 'subdued', 'subproblems', 'sucidality', 'suffering', 'suicidal', 'suicidality', 'suicide', 'sx', 'sxo', 'sxs', 'sympotms', 'symptom', 'symptomatology', 'symptoms', 'symtoms', 'symtpoms', 'target', 'tearful', 'tearfulness', 'thought', 'thoughtbehavior', 'thoughts', 'thoughtsbehaviors', 'trapped', 'treatment', 'treatmentrefractory', 'treatmentresistant', 'type', 'unloved', 'unspecified', 'untreated', 'unwanted', 'urges', 'usual', 'volume', 'vs', 'wdepressed', 'wishes', 'wo', 'worsenign', 'worsening', 'worsneing', 'wpsychotic'] not in stop_words.\n",
      "  warnings.warn(\n"
     ]
    }
   ],
   "source": [
    "df = pd.read_json('../data/splitData/postdataLinesSplit.json',lines=True)\n",
    "labels = df['label']\n",
    "\n",
    "posts = []\n",
    "\n",
    "for row in df['text']:\n",
    "    post = row[0].lower()\n",
    "    posts.append(post)\n",
    "\n",
    "vectorizer = TfidfVectorizer(stop_words='english',lowercase=True)\n",
    "vectors = vectorizer.fit_transform(posts)\n",
    "\n",
    "# select top 500\n",
    "selector = SelectKBest(chi2, k=500)\n",
    "top500Vectors = selector.fit_transform(vectors, labels)\n",
    "vectors = top500Vectors.todense()\n",
    "\n",
    "vector_dicts = []\n",
    "for vector in vectors:\n",
    "    vector_dict = {i: value for i, value in enumerate(vector.tolist()[0])}\n",
    "    vector_dicts.append(vector_dict)\n",
    "\n",
    "vector_df = pd.DataFrame(vector_dicts)\n",
    "df = pd.concat([df, vector_df], axis=1)\n",
    "df.to_json(\"../data/vectorData/TFIDF500Vectors.json\", orient='records', lines=True)"
   ]
  },
  {
   "cell_type": "markdown",
   "metadata": {},
   "source": [
    "### Train model"
   ]
  },
  {
   "cell_type": "code",
   "execution_count": 28,
   "metadata": {},
   "outputs": [],
   "source": [
    "from sklearn.preprocessing import StandardScaler\n",
    "from sklearn.model_selection import GridSearchCV\n",
    "from sklearn.svm import SVC\n",
    "import numpy as np\n"
   ]
  },
  {
   "cell_type": "code",
   "execution_count": 29,
   "metadata": {},
   "outputs": [
    {
     "name": "stdout",
     "output_type": "stream",
     "text": [
      "Fitting 5 folds for each of 49 candidates, totalling 245 fits\n"
     ]
    },
    {
     "data": {
      "text/html": [
       "<style>#sk-container-id-1 {color: black;}#sk-container-id-1 pre{padding: 0;}#sk-container-id-1 div.sk-toggleable {background-color: white;}#sk-container-id-1 label.sk-toggleable__label {cursor: pointer;display: block;width: 100%;margin-bottom: 0;padding: 0.3em;box-sizing: border-box;text-align: center;}#sk-container-id-1 label.sk-toggleable__label-arrow:before {content: \"▸\";float: left;margin-right: 0.25em;color: #696969;}#sk-container-id-1 label.sk-toggleable__label-arrow:hover:before {color: black;}#sk-container-id-1 div.sk-estimator:hover label.sk-toggleable__label-arrow:before {color: black;}#sk-container-id-1 div.sk-toggleable__content {max-height: 0;max-width: 0;overflow: hidden;text-align: left;background-color: #f0f8ff;}#sk-container-id-1 div.sk-toggleable__content pre {margin: 0.2em;color: black;border-radius: 0.25em;background-color: #f0f8ff;}#sk-container-id-1 input.sk-toggleable__control:checked~div.sk-toggleable__content {max-height: 200px;max-width: 100%;overflow: auto;}#sk-container-id-1 input.sk-toggleable__control:checked~label.sk-toggleable__label-arrow:before {content: \"▾\";}#sk-container-id-1 div.sk-estimator input.sk-toggleable__control:checked~label.sk-toggleable__label {background-color: #d4ebff;}#sk-container-id-1 div.sk-label input.sk-toggleable__control:checked~label.sk-toggleable__label {background-color: #d4ebff;}#sk-container-id-1 input.sk-hidden--visually {border: 0;clip: rect(1px 1px 1px 1px);clip: rect(1px, 1px, 1px, 1px);height: 1px;margin: -1px;overflow: hidden;padding: 0;position: absolute;width: 1px;}#sk-container-id-1 div.sk-estimator {font-family: monospace;background-color: #f0f8ff;border: 1px dotted black;border-radius: 0.25em;box-sizing: border-box;margin-bottom: 0.5em;}#sk-container-id-1 div.sk-estimator:hover {background-color: #d4ebff;}#sk-container-id-1 div.sk-parallel-item::after {content: \"\";width: 100%;border-bottom: 1px solid gray;flex-grow: 1;}#sk-container-id-1 div.sk-label:hover label.sk-toggleable__label {background-color: #d4ebff;}#sk-container-id-1 div.sk-serial::before {content: \"\";position: absolute;border-left: 1px solid gray;box-sizing: border-box;top: 0;bottom: 0;left: 50%;z-index: 0;}#sk-container-id-1 div.sk-serial {display: flex;flex-direction: column;align-items: center;background-color: white;padding-right: 0.2em;padding-left: 0.2em;position: relative;}#sk-container-id-1 div.sk-item {position: relative;z-index: 1;}#sk-container-id-1 div.sk-parallel {display: flex;align-items: stretch;justify-content: center;background-color: white;position: relative;}#sk-container-id-1 div.sk-item::before, #sk-container-id-1 div.sk-parallel-item::before {content: \"\";position: absolute;border-left: 1px solid gray;box-sizing: border-box;top: 0;bottom: 0;left: 50%;z-index: -1;}#sk-container-id-1 div.sk-parallel-item {display: flex;flex-direction: column;z-index: 1;position: relative;background-color: white;}#sk-container-id-1 div.sk-parallel-item:first-child::after {align-self: flex-end;width: 50%;}#sk-container-id-1 div.sk-parallel-item:last-child::after {align-self: flex-start;width: 50%;}#sk-container-id-1 div.sk-parallel-item:only-child::after {width: 0;}#sk-container-id-1 div.sk-dashed-wrapped {border: 1px dashed gray;margin: 0 0.4em 0.5em 0.4em;box-sizing: border-box;padding-bottom: 0.4em;background-color: white;}#sk-container-id-1 div.sk-label label {font-family: monospace;font-weight: bold;display: inline-block;line-height: 1.2em;}#sk-container-id-1 div.sk-label-container {text-align: center;}#sk-container-id-1 div.sk-container {/* jupyter's `normalize.less` sets `[hidden] { display: none; }` but bootstrap.min.css set `[hidden] { display: none !important; }` so we also need the `!important` here to be able to override the default hidden behavior on the sphinx rendered scikit-learn.org. See: https://github.com/scikit-learn/scikit-learn/issues/21755 */display: inline-block !important;position: relative;}#sk-container-id-1 div.sk-text-repr-fallback {display: none;}</style><div id=\"sk-container-id-1\" class=\"sk-top-container\"><div class=\"sk-text-repr-fallback\"><pre>GridSearchCV(cv=5,\n",
       "             estimator=SVC(class_weight=&#x27;balanced&#x27;, probability=True,\n",
       "                           random_state=99),\n",
       "             n_jobs=-1,\n",
       "             param_grid={&#x27;C&#x27;: array([1.e-03, 1.e-02, 1.e-01, 1.e+00, 1.e+01, 1.e+02, 1.e+03]),\n",
       "                         &#x27;gamma&#x27;: array([1.e-03, 1.e-02, 1.e-01, 1.e+00, 1.e+01, 1.e+02, 1.e+03]),\n",
       "                         &#x27;kernel&#x27;: [&#x27;rbf&#x27;]},\n",
       "             scoring=&#x27;accuracy&#x27;, verbose=1)</pre><b>In a Jupyter environment, please rerun this cell to show the HTML representation or trust the notebook. <br />On GitHub, the HTML representation is unable to render, please try loading this page with nbviewer.org.</b></div><div class=\"sk-container\" hidden><div class=\"sk-item sk-dashed-wrapped\"><div class=\"sk-label-container\"><div class=\"sk-label sk-toggleable\"><input class=\"sk-toggleable__control sk-hidden--visually\" id=\"sk-estimator-id-1\" type=\"checkbox\" ><label for=\"sk-estimator-id-1\" class=\"sk-toggleable__label sk-toggleable__label-arrow\">GridSearchCV</label><div class=\"sk-toggleable__content\"><pre>GridSearchCV(cv=5,\n",
       "             estimator=SVC(class_weight=&#x27;balanced&#x27;, probability=True,\n",
       "                           random_state=99),\n",
       "             n_jobs=-1,\n",
       "             param_grid={&#x27;C&#x27;: array([1.e-03, 1.e-02, 1.e-01, 1.e+00, 1.e+01, 1.e+02, 1.e+03]),\n",
       "                         &#x27;gamma&#x27;: array([1.e-03, 1.e-02, 1.e-01, 1.e+00, 1.e+01, 1.e+02, 1.e+03]),\n",
       "                         &#x27;kernel&#x27;: [&#x27;rbf&#x27;]},\n",
       "             scoring=&#x27;accuracy&#x27;, verbose=1)</pre></div></div></div><div class=\"sk-parallel\"><div class=\"sk-parallel-item\"><div class=\"sk-item\"><div class=\"sk-label-container\"><div class=\"sk-label sk-toggleable\"><input class=\"sk-toggleable__control sk-hidden--visually\" id=\"sk-estimator-id-2\" type=\"checkbox\" ><label for=\"sk-estimator-id-2\" class=\"sk-toggleable__label sk-toggleable__label-arrow\">estimator: SVC</label><div class=\"sk-toggleable__content\"><pre>SVC(class_weight=&#x27;balanced&#x27;, probability=True, random_state=99)</pre></div></div></div><div class=\"sk-serial\"><div class=\"sk-item\"><div class=\"sk-estimator sk-toggleable\"><input class=\"sk-toggleable__control sk-hidden--visually\" id=\"sk-estimator-id-3\" type=\"checkbox\" ><label for=\"sk-estimator-id-3\" class=\"sk-toggleable__label sk-toggleable__label-arrow\">SVC</label><div class=\"sk-toggleable__content\"><pre>SVC(class_weight=&#x27;balanced&#x27;, probability=True, random_state=99)</pre></div></div></div></div></div></div></div></div></div></div>"
      ],
      "text/plain": [
       "GridSearchCV(cv=5,\n",
       "             estimator=SVC(class_weight='balanced', probability=True,\n",
       "                           random_state=99),\n",
       "             n_jobs=-1,\n",
       "             param_grid={'C': array([1.e-03, 1.e-02, 1.e-01, 1.e+00, 1.e+01, 1.e+02, 1.e+03]),\n",
       "                         'gamma': array([1.e-03, 1.e-02, 1.e-01, 1.e+00, 1.e+01, 1.e+02, 1.e+03]),\n",
       "                         'kernel': ['rbf']},\n",
       "             scoring='accuracy', verbose=1)"
      ]
     },
     "execution_count": 29,
     "metadata": {},
     "output_type": "execute_result"
    }
   ],
   "source": [
    "df = pd.read_json('../data/vectorData/TFIDF500Vectors.json', orient='records', lines=True)\n",
    "\n",
    "(df['gender'] == 'm') & (df['split'] == 'train')\n",
    "\n",
    "X_train = df.loc[(df['split'] == 'train'), [str(i) for i in range(500)]]\n",
    "X_test = df.loc[(df['split'] == 'test'), [str(i) for i in range(500)]]\n",
    "# X_testm = df.loc[(df['gender'] == 'm') & (df['split'] == 'test'), [str(i) for i in range(712)]]\n",
    "# X_testf = df.loc[(df['gender'] == 'f') & (df['split'] == 'test'), [str(i) for i in range(712)]]\n",
    "\n",
    "y_train = df.loc[(df['split'] == 'train'), ['label']]\n",
    "y_test = df.loc[(df['split'] == 'test'), ['label']]\n",
    "# y_testm = df.loc[(df['gender'] == 'm') & (df['split'] == 'test'), ['label']]\n",
    "# y_testf = df.loc[(df['gender'] == 'f') & (df['split'] == 'test'), ['label']]\n",
    "\n",
    "scaler = StandardScaler()\n",
    "\n",
    "X_train = scaler.fit_transform(X_train)\n",
    "X_test = scaler.fit_transform(X_test)\n",
    "# X_testm = scaler.transform(X_testm)\n",
    "# X_testf = scaler.transform(X_testf)\n",
    "\n",
    "y_train = y_train.values.ravel()\n",
    "\n",
    "param_grid = {'C': np.logspace(-3, 3, 7),  \n",
    "              'gamma': np.logspace(-3, 3, 7), \n",
    "              'kernel': ['rbf']}  \n",
    "\n",
    "cv = 5\n",
    "scoring = 'accuracy'\n",
    "\n",
    "grid = GridSearchCV(SVC(random_state=99, probability=True, class_weight='balanced'), param_grid, scoring=scoring, cv=cv, n_jobs=-1, verbose=1)\n",
    "grid.fit(X_train,y_train)"
   ]
  },
  {
   "cell_type": "markdown",
   "metadata": {},
   "source": [
    "### Get predictions"
   ]
  },
  {
   "cell_type": "code",
   "execution_count": 30,
   "metadata": {},
   "outputs": [
    {
     "name": "stderr",
     "output_type": "stream",
     "text": [
      "C:\\Users\\bramb\\AppData\\Local\\Temp\\ipykernel_28784\\246907962.py:5: SettingWithCopyWarning: \n",
      "A value is trying to be set on a copy of a slice from a DataFrame.\n",
      "Try using .loc[row_indexer,col_indexer] = value instead\n",
      "\n",
      "See the caveats in the documentation: https://pandas.pydata.org/pandas-docs/stable/user_guide/indexing.html#returning-a-view-versus-a-copy\n",
      "  testSet['prediction'] = y_pred\n"
     ]
    }
   ],
   "source": [
    "y_pred = grid.predict(X_test)\n",
    "\n",
    "testSet = df.loc[(df['split'] == 'test')]\n",
    "\n",
    "testSet['prediction'] = y_pred\n",
    "\n",
    "testSet.to_json('../data/predictionData/TFIDF500Pred.json',orient='records',lines=True)"
   ]
  }
 ],
 "metadata": {
  "kernelspec": {
   "display_name": "OZP",
   "language": "python",
   "name": "python3"
  },
  "language_info": {
   "codemirror_mode": {
    "name": "ipython",
    "version": 3
   },
   "file_extension": ".py",
   "mimetype": "text/x-python",
   "name": "python",
   "nbconvert_exporter": "python",
   "pygments_lexer": "ipython3",
   "version": "3.9.18"
  }
 },
 "nbformat": 4,
 "nbformat_minor": 2
}
