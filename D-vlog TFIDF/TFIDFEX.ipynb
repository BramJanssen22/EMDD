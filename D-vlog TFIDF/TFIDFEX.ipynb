{
 "cells": [
  {
   "cell_type": "code",
   "execution_count": 2,
   "metadata": {},
   "outputs": [],
   "source": [
    "import pandas as pd\n",
    "from sklearn.feature_extraction.text import TfidfVectorizer"
   ]
  },
  {
   "cell_type": "markdown",
   "metadata": {},
   "source": [
    "### Create vectors"
   ]
  },
  {
   "cell_type": "code",
   "execution_count": 3,
   "metadata": {},
   "outputs": [
    {
     "name": "stderr",
     "output_type": "stream",
     "text": [
      "/Users/bram/anaconda3/envs/OZP/lib/python3.11/site-packages/sklearn/feature_extraction/text.py:408: UserWarning: Your stop_words may be inconsistent with your preprocessing. Tokenizing the stop words generated tokens ['abnormal', 'about', 'abuse', 'abusedepression', 'activities', 'adhd', 'affect', 'affects', 'ah', 'ahvh', 'all', 'altered', 'anergy', 'anger', 'angry', 'anixety', 'anxiety', 'anxious', 'appeared', 'appears', 'appetite', 'appreciate', 'appropriately', 'assess', 'assessment', 'attack', 'attacks', 'augmentation', 'bad', 'bai', 'battling', 'became', 'because', 'become', 'becomes', 'becoming', 'been', 'behavior', 'behaviour', 'being', 'blue', 'blunted', 'borderline', 'bpii', 'bulimia', 'by', 'calm', 'cannabis', 'cannot', 'capacity', 'catatonia', 'changes', 'characterlogical', 'childhood', 'chronically', 'cold', 'comorbid', 'concentrating', 'concentration', 'concept', 'congruent', 'consistently', 'constricted', 'constricteddepressed', 'cont', 'contact', 'continue', 'crying', 'culminating', 'current', 'cutting', 'dark', 'decreased', 'denies', 'depress', 'depressedirritable', 'depressedsad', 'depressiono', 'depressionpsychotic', 'depressionsevere', 'depressionsleep', 'depressionœ', 'depressiveanxiety', 'detached', 'diagnosis', 'difficulty', 'diminished', 'discussing', 'disorder', 'disorderdepression', 'disorganized', 'distant', 'disturbance', 'disturbed', 'domain', 'down', 'dysphoric', 'dysregulation', 'eg', 'emotional', 'emotionally', 'emptiness', 'empty', 'endogenous', 'endorse', 'endorsed', 'endorses', 'endorsing', 'energy', 'enjoyment', 'eomi', 'epidose', 'episode', 'episodes', 'etoh', 'exhibits', 'experiencing', 'expressed', 'extremely', 'eye', 'eyes', 'factors', 'fatigue', 'features', 'feel', 'feeling', 'feelings', 'feels', 'felt', 'fibromyalgia', 'flat', 'focused', 'followed', 'for', 'from', 'frustration', 'function', 'future', 'gerd', 'geriatric', 'goal', 'guilt', 'has', 'he', 'hi', 'homelife', 'hope', 'however', 'htn', 'hyperlipidemia', 'hyperphagia', 'hypersomnia', 'hypothyroidism', 'ideation', 'ideations', 'im', 'impulsivity', 'including', 'incongruent', 'increasing', 'increasingly', 'indication', 'indifferent', 'inertia', 'insomnia', 'intense', 'interest', 'interview', 'irritability', 'irritable', 'is', 'isolated', 'labile', 'lack', 'lonely', 'longstanding', 'longstang', 'loss', 'lost', 'low', 'mainly', 'major', 'manage', 'managing', 'mania', 'manic', 'matters', 'mdnppa', 'mental', 'mentions', 'middle', 'migraines', 'mildly', 'moderate', 'moderately', 'mood', 'moodanxiety', 'moods', 'moood', 'more', 'morose', 'most', 'motivation', 'movements', 'multiple', 'needs', 'negative', 'negatively', 'neurosis', 'neurovegetative', 'no', 'nonpressured', 'normal', 'not', 'nothing', 'obesity', 'obessionscompulsions', 'objective', 'occasionally', 'ocd', 'of', 'often', 'ok', 'ongoing', 'or', 'osteoporosis', 'otpsrtr', 'outcome', 'panic', 'paranoia', 'passive', 'patternprocess', 'personality', 'phq', 'pleasure', 'pmr', 'polysubstance', 'poor', 'poststroke', 'posttraumatic', 'powerless', 'presenting', 'presents', 'problem', 'process', 'profoundly', 'prompting', 'prosody', 'pseudodementia', 'psych', 'psychiatrist', 'psychic', 'psychological', 'psychopathology', 'psychosis', 'psychotic', 'ptsd', 'qids', 'really', 'recent', 'recurrent', 'refractory', 'related', 'remains', 'reported', 'reporting', 'reports', 'ro', 'screen', 'see', 'sees', 'self', 'selfesteem', 'selfloathing', 'selfreproach', 'sensorium', 'severe', 'severely', 'severly', 'shame', 'shi', 'si', 'significant', 'sihi', 'since', 'sleep', 'slow', 'social', 'soft', 'sometimes', 'somewhat', 'speech', 'stable', 'state', 'still', 'stress', 'subdued', 'subproblems', 'sucidality', 'suffering', 'suicidal', 'suicidality', 'suicide', 'sx', 'sxo', 'sxs', 'sympotms', 'symptom', 'symptomatology', 'symptoms', 'symtoms', 'symtpoms', 'target', 'tearful', 'tearfulness', 'the', 'there', 'thought', 'thoughtbehavior', 'thoughts', 'thoughtsbehaviors', 'to', 'trapped', 'treatment', 'treatmentrefractory', 'treatmentresistant', 'type', 'unloved', 'unspecified', 'untreated', 'unwanted', 'urges', 'usual', 'very', 'volume', 'vs', 'wdepressed', 'when', 'who', 'wishes', 'without', 'wo', 'worsenign', 'worsening', 'worsneing', 'wpsychotic'] not in stop_words.\n",
      "  warnings.warn(\n"
     ]
    }
   ],
   "source": [
    "df = pd.read_json('../data/splitData/postdataLinesSplit.json',lines=True)\n",
    "\n",
    "keywordsJson = pd.read_json('../data/depression_synonyms.json', orient='records')\n",
    "keywords = list(keywordsJson['depression'])\n",
    "\n",
    "posts = []\n",
    "\n",
    "for row in df['text']:\n",
    "    post = row[0].lower()\n",
    "    posts.append(post)\n",
    "\n",
    "vectorizer = TfidfVectorizer(stop_words=keywords,lowercase=True)\n",
    "vectors = vectorizer.fit_transform(posts)\n",
    "vectors = vectors.todense()\n",
    "vector_dicts = []\n",
    "for vector in vectors:\n",
    "    vector_dict = {i: value for i, value in enumerate(vector.tolist()[0])}\n",
    "    vector_dicts.append(vector_dict)\n",
    "\n",
    "vector_df = pd.DataFrame(vector_dicts)\n",
    "df = pd.concat([df, vector_df], axis=1)\n",
    "df.to_json(\"../data/vectorData/TFIDFEXVectors.json\", orient='records', lines=True)"
   ]
  },
  {
   "cell_type": "markdown",
   "metadata": {},
   "source": [
    "### Train model"
   ]
  },
  {
   "cell_type": "code",
   "execution_count": 4,
   "metadata": {},
   "outputs": [],
   "source": [
    "from sklearn.preprocessing import StandardScaler\n",
    "from sklearn.model_selection import GridSearchCV\n",
    "from sklearn.svm import SVC\n",
    "import numpy as np\n"
   ]
  },
  {
   "cell_type": "code",
   "execution_count": 8,
   "metadata": {},
   "outputs": [
    {
     "name": "stdout",
     "output_type": "stream",
     "text": [
      "Fitting 5 folds for each of 49 candidates, totalling 245 fits\n"
     ]
    }
   ],
   "source": [
    "df = pd.read_json('../data/vectorData/TFIDFEXVectors.json', orient='records', lines=True)\n",
    "\n",
    "(df['gender'] == 'm') & (df['split'] == 'train')\n",
    "\n",
    "X_train = df.loc[(df['split'] == 'train'), [str(i) for i in range(21621)]]\n",
    "X_test = df.loc[(df['split'] == 'test'), [str(i) for i in range(21621)]]\n",
    "# X_testm = df.loc[(df['gender'] == 'm') & (df['split'] == 'test'), [str(i) for i in range(712)]]\n",
    "# X_testf = df.loc[(df['gender'] == 'f') & (df['split'] == 'test'), [str(i) for i in range(712)]]\n",
    "\n",
    "y_train = df.loc[(df['split'] == 'train'), ['label']]\n",
    "y_test = df.loc[(df['split'] == 'test'), ['label']]\n",
    "# y_testm = df.loc[(df['gender'] == 'm') & (df['split'] == 'test'), ['label']]\n",
    "# y_testf = df.loc[(df['gender'] == 'f') & (df['split'] == 'test'), ['label']]\n",
    "\n",
    "scaler = StandardScaler()\n",
    "\n",
    "X_train = scaler.fit_transform(X_train)\n",
    "X_test = scaler.fit_transform(X_test)\n",
    "# X_testm = scaler.transform(X_testm)\n",
    "# X_testf = scaler.transform(X_testf)\n",
    "\n",
    "y_train = y_train.values.ravel()\n",
    "\n",
    "param_grid = {'C': np.logspace(-3, 3, 7),  \n",
    "              'gamma': np.logspace(-3, 3, 7), \n",
    "              'kernel': ['rbf']}  \n",
    "\n",
    "cv = 5\n",
    "scoring = 'accuracy'\n",
    "\n",
    "grid = GridSearchCV(SVC(random_state=99, probability=True, class_weight='balanced'), param_grid, scoring=scoring, cv=cv, n_jobs=-1, verbose=1)\n",
    "grid.fit(X_train,y_train)"
   ]
  },
  {
   "cell_type": "markdown",
   "metadata": {},
   "source": [
    "### Get predictions"
   ]
  },
  {
   "cell_type": "code",
   "execution_count": 41,
   "metadata": {},
   "outputs": [
    {
     "name": "stderr",
     "output_type": "stream",
     "text": [
      "/var/folders/qw/2ytfcz3d78qfsgsvq73r4dx80000gn/T/ipykernel_41404/840807539.py:5: SettingWithCopyWarning: \n",
      "A value is trying to be set on a copy of a slice from a DataFrame.\n",
      "Try using .loc[row_indexer,col_indexer] = value instead\n",
      "\n",
      "See the caveats in the documentation: https://pandas.pydata.org/pandas-docs/stable/user_guide/indexing.html#returning-a-view-versus-a-copy\n",
      "  testSet['prediction'] = y_pred\n"
     ]
    }
   ],
   "source": [
    "y_pred = grid.predict(X_test)\n",
    "\n",
    "testSet = df.loc[(df['split'] == 'test')]\n",
    "\n",
    "testSet['prediction'] = y_pred\n",
    "\n",
    "testSet.to_json('../data/predictionData/TFIDFEXPred.json',orient='records',lines=True)"
   ]
  }
 ],
 "metadata": {
  "kernelspec": {
   "display_name": "OZP",
   "language": "python",
   "name": "python3"
  },
  "language_info": {
   "codemirror_mode": {
    "name": "ipython",
    "version": 3
   },
   "file_extension": ".py",
   "mimetype": "text/x-python",
   "name": "python",
   "nbconvert_exporter": "python",
   "pygments_lexer": "ipython3",
   "version": "3.11.5"
  }
 },
 "nbformat": 4,
 "nbformat_minor": 2
}
